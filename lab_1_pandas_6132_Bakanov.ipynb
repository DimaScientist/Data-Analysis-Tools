{
 "cells": [
  {
   "cell_type": "markdown",
   "metadata": {
    "collapsed": true,
    "pycharm": {
     "name": "#%% md\n"
    }
   },
   "source": [
    "# Лабораторная работа 1"
   ]
  },
  {
   "cell_type": "markdown",
   "source": [
    "Pandas\n",
    "\n",
    "Выполнил: 6132, Баканов Д.С.\n",
    "\n",
    "*1 Считать в pandas DataFrame любой источник данных: CSV, JSON, Excel-файл, HTML-таблицу, встроенный датасет sklearn. Опишите ваши данные, что обозначает каждый столбец, какого типа (категориальный, вещественный, целочисленный, бинарный) данный столбец, при необходимости для категориальных в том числе бинарных признаков привести расшифровку их значений. В общем, проведите \"визуальный\" анализ ваших данных.*"
   ],
   "metadata": {
    "collapsed": false,
    "pycharm": {
     "name": "#%% md\n"
    }
   }
  },
  {
   "cell_type": "code",
   "execution_count": 1,
   "outputs": [],
   "source": [
    "import numpy as np\n",
    "import pandas as pd"
   ],
   "metadata": {
    "collapsed": false,
    "pycharm": {
     "name": "#%%\n"
    }
   }
  },
  {
   "cell_type": "code",
   "execution_count": 2,
   "outputs": [
    {
     "data": {
      "text/plain": "                                                 Title  \\\n0    Star Wars: Episode VII - The Force Awakens (2015)   \n1                             Avengers: Endgame (2019)   \n2                                        Avatar (2009)   \n3                                 Black Panther (2018)   \n4                        Avengers: Infinity War (2018)   \n..                                                 ...   \n913                                The Notebook (2004)   \n914                   Jimmy Neutron: Boy Genius (2001)   \n915                               Eat Pray Love (2010)   \n916                 The Texas Chainsaw Massacre (2003)   \n917                                   Zookeeper (2011)   \n\n                                            Movie Info  \\\n0    As a new threat to the galaxy rises, Rey, a de...   \n1    After the devastating events of Avengers: Infi...   \n2    A paraplegic Marine dispatched to the moon Pan...   \n3    T'Challa, heir to the hidden but advanced king...   \n4    The Avengers and their allies must be willing ...   \n..                                                 ...   \n913  A poor yet passionate young man falls in love ...   \n914  An eight-year-old boy genius and his friends m...   \n915  A married woman realizes how unhappy her marri...   \n916  After picking up a traumatized young hitchhike...   \n917  A group of zoo animals decide to break their c...   \n\n                             Distributor       Release Date  \\\n0    Walt Disney Studios Motion Pictures  December 16, 2015   \n1    Walt Disney Studios Motion Pictures     April 24, 2019   \n2                  Twentieth Century Fox  December 16, 2009   \n3    Walt Disney Studios Motion Pictures                NaN   \n4    Walt Disney Studios Motion Pictures                NaN   \n..                                   ...                ...   \n913                      New Line Cinema      June 25, 2004   \n914                   Paramount Pictures  December 21, 2001   \n915    Sony Pictures Entertainment (SPE)    August 13, 2010   \n916                      New Line Cinema   October 17, 2003   \n917    Sony Pictures Entertainment (SPE)       July 6, 2011   \n\n     Domestic Sales (in $)  International Sales (in $)  World Sales (in $)  \\\n0                936662225                  1132859475          2069521700   \n1                858373000                  1939128328          2797501328   \n2                760507625                  2086738578          2847246203   \n3                700426566                   647171407          1347597973   \n4                678815482                  1369544272          2048359754   \n..                     ...                         ...                 ...   \n913               81001787                    36813370           117815157   \n914               80936232                    22056304           102992536   \n915               80574010                   124020006           204594016   \n916               80571655                    26792250           107363905   \n917               80360843                    89491916           169852759   \n\n                                                 Genre Movie Runtime License  \n0                    ['Action', 'Adventure', 'Sci-Fi']   2 hr 18 min   PG-13  \n1           ['Action', 'Adventure', 'Drama', 'Sci-Fi']    3 hr 1 min   PG-13  \n2         ['Action', 'Adventure', 'Fantasy', 'Sci-Fi']   2 hr 42 min   PG-13  \n3                    ['Action', 'Adventure', 'Sci-Fi']   2 hr 14 min     NaN  \n4                    ['Action', 'Adventure', 'Sci-Fi']   2 hr 29 min     NaN  \n..                                                 ...           ...     ...  \n913                               ['Drama', 'Romance']    2 hr 3 min   PG-13  \n914  ['Action', 'Adventure', 'Animation', 'Comedy',...   1 hr 22 min     NaN  \n915                  ['Biography', 'Drama', 'Romance']   2 hr 13 min   PG-13  \n916                                ['Crime', 'Horror']   1 hr 38 min       R  \n917         ['Comedy', 'Family', 'Fantasy', 'Romance']   1 hr 42 min      PG  \n\n[918 rows x 10 columns]",
      "text/html": "<div>\n<style scoped>\n    .dataframe tbody tr th:only-of-type {\n        vertical-align: middle;\n    }\n\n    .dataframe tbody tr th {\n        vertical-align: top;\n    }\n\n    .dataframe thead th {\n        text-align: right;\n    }\n</style>\n<table border=\"1\" class=\"dataframe\">\n  <thead>\n    <tr style=\"text-align: right;\">\n      <th></th>\n      <th>Title</th>\n      <th>Movie Info</th>\n      <th>Distributor</th>\n      <th>Release Date</th>\n      <th>Domestic Sales (in $)</th>\n      <th>International Sales (in $)</th>\n      <th>World Sales (in $)</th>\n      <th>Genre</th>\n      <th>Movie Runtime</th>\n      <th>License</th>\n    </tr>\n  </thead>\n  <tbody>\n    <tr>\n      <th>0</th>\n      <td>Star Wars: Episode VII - The Force Awakens (2015)</td>\n      <td>As a new threat to the galaxy rises, Rey, a de...</td>\n      <td>Walt Disney Studios Motion Pictures</td>\n      <td>December 16, 2015</td>\n      <td>936662225</td>\n      <td>1132859475</td>\n      <td>2069521700</td>\n      <td>['Action', 'Adventure', 'Sci-Fi']</td>\n      <td>2 hr 18 min</td>\n      <td>PG-13</td>\n    </tr>\n    <tr>\n      <th>1</th>\n      <td>Avengers: Endgame (2019)</td>\n      <td>After the devastating events of Avengers: Infi...</td>\n      <td>Walt Disney Studios Motion Pictures</td>\n      <td>April 24, 2019</td>\n      <td>858373000</td>\n      <td>1939128328</td>\n      <td>2797501328</td>\n      <td>['Action', 'Adventure', 'Drama', 'Sci-Fi']</td>\n      <td>3 hr 1 min</td>\n      <td>PG-13</td>\n    </tr>\n    <tr>\n      <th>2</th>\n      <td>Avatar (2009)</td>\n      <td>A paraplegic Marine dispatched to the moon Pan...</td>\n      <td>Twentieth Century Fox</td>\n      <td>December 16, 2009</td>\n      <td>760507625</td>\n      <td>2086738578</td>\n      <td>2847246203</td>\n      <td>['Action', 'Adventure', 'Fantasy', 'Sci-Fi']</td>\n      <td>2 hr 42 min</td>\n      <td>PG-13</td>\n    </tr>\n    <tr>\n      <th>3</th>\n      <td>Black Panther (2018)</td>\n      <td>T'Challa, heir to the hidden but advanced king...</td>\n      <td>Walt Disney Studios Motion Pictures</td>\n      <td>NaN</td>\n      <td>700426566</td>\n      <td>647171407</td>\n      <td>1347597973</td>\n      <td>['Action', 'Adventure', 'Sci-Fi']</td>\n      <td>2 hr 14 min</td>\n      <td>NaN</td>\n    </tr>\n    <tr>\n      <th>4</th>\n      <td>Avengers: Infinity War (2018)</td>\n      <td>The Avengers and their allies must be willing ...</td>\n      <td>Walt Disney Studios Motion Pictures</td>\n      <td>NaN</td>\n      <td>678815482</td>\n      <td>1369544272</td>\n      <td>2048359754</td>\n      <td>['Action', 'Adventure', 'Sci-Fi']</td>\n      <td>2 hr 29 min</td>\n      <td>NaN</td>\n    </tr>\n    <tr>\n      <th>...</th>\n      <td>...</td>\n      <td>...</td>\n      <td>...</td>\n      <td>...</td>\n      <td>...</td>\n      <td>...</td>\n      <td>...</td>\n      <td>...</td>\n      <td>...</td>\n      <td>...</td>\n    </tr>\n    <tr>\n      <th>913</th>\n      <td>The Notebook (2004)</td>\n      <td>A poor yet passionate young man falls in love ...</td>\n      <td>New Line Cinema</td>\n      <td>June 25, 2004</td>\n      <td>81001787</td>\n      <td>36813370</td>\n      <td>117815157</td>\n      <td>['Drama', 'Romance']</td>\n      <td>2 hr 3 min</td>\n      <td>PG-13</td>\n    </tr>\n    <tr>\n      <th>914</th>\n      <td>Jimmy Neutron: Boy Genius (2001)</td>\n      <td>An eight-year-old boy genius and his friends m...</td>\n      <td>Paramount Pictures</td>\n      <td>December 21, 2001</td>\n      <td>80936232</td>\n      <td>22056304</td>\n      <td>102992536</td>\n      <td>['Action', 'Adventure', 'Animation', 'Comedy',...</td>\n      <td>1 hr 22 min</td>\n      <td>NaN</td>\n    </tr>\n    <tr>\n      <th>915</th>\n      <td>Eat Pray Love (2010)</td>\n      <td>A married woman realizes how unhappy her marri...</td>\n      <td>Sony Pictures Entertainment (SPE)</td>\n      <td>August 13, 2010</td>\n      <td>80574010</td>\n      <td>124020006</td>\n      <td>204594016</td>\n      <td>['Biography', 'Drama', 'Romance']</td>\n      <td>2 hr 13 min</td>\n      <td>PG-13</td>\n    </tr>\n    <tr>\n      <th>916</th>\n      <td>The Texas Chainsaw Massacre (2003)</td>\n      <td>After picking up a traumatized young hitchhike...</td>\n      <td>New Line Cinema</td>\n      <td>October 17, 2003</td>\n      <td>80571655</td>\n      <td>26792250</td>\n      <td>107363905</td>\n      <td>['Crime', 'Horror']</td>\n      <td>1 hr 38 min</td>\n      <td>R</td>\n    </tr>\n    <tr>\n      <th>917</th>\n      <td>Zookeeper (2011)</td>\n      <td>A group of zoo animals decide to break their c...</td>\n      <td>Sony Pictures Entertainment (SPE)</td>\n      <td>July 6, 2011</td>\n      <td>80360843</td>\n      <td>89491916</td>\n      <td>169852759</td>\n      <td>['Comedy', 'Family', 'Fantasy', 'Romance']</td>\n      <td>1 hr 42 min</td>\n      <td>PG</td>\n    </tr>\n  </tbody>\n</table>\n<p>918 rows × 10 columns</p>\n</div>"
     },
     "execution_count": 2,
     "metadata": {},
     "output_type": "execute_result"
    }
   ],
   "source": [
    "movies_df = pd.read_csv(\"./data/Highest Holywood Grossing Movies.csv\", index_col=0)\n",
    "movies_df"
   ],
   "metadata": {
    "collapsed": false,
    "pycharm": {
     "name": "#%%\n"
    }
   }
  },
  {
   "cell_type": "code",
   "execution_count": 3,
   "outputs": [
    {
     "data": {
      "text/plain": "Title                         object\nMovie Info                    object\nDistributor                   object\nRelease Date                  object\nDomestic Sales (in $)          int64\nInternational Sales (in $)     int64\nWorld Sales (in $)             int64\nGenre                         object\nMovie Runtime                 object\nLicense                       object\ndtype: object"
     },
     "execution_count": 3,
     "metadata": {},
     "output_type": "execute_result"
    }
   ],
   "source": [
    "movies_df.dtypes"
   ],
   "metadata": {
    "collapsed": false,
    "pycharm": {
     "name": "#%%\n"
    }
   }
  },
  {
   "cell_type": "markdown",
   "source": [
    "## Описание набора данных\n",
    "\n",
    "\n",
    "|  Название признака  |         Описание         |      Тип       |\n",
    "|:-------------------:|:------------------------:|:--------------:|\n",
    "|        Title        |     Название фильма      | категориальный |\n",
    "|     Movie Info      |         Описание         | категориальный |\n",
    "|     Distributor     |   Выпустившая компания   | категориальный |\n",
    "|    Release Date     |       Дата релиза        | категориальный |\n",
    "|   Domestic Sales    | Внутренние сборы (в США) | целочисленный  |\n",
    "| International Sales | Сборы в мире (кроме США) | целочисленный  |\n",
    "|     World Sales     |      Мировые сборы       | целочисленный  |\n",
    "|        Genre        |       Жанр фильма        | категориальный |\n",
    "|    Movie Runtime    | Продолжительность фильма | категориальный |\n",
    "|       License       |    Возрастной рейтинг    | категориальный |\n"
   ],
   "metadata": {
    "collapsed": false,
    "pycharm": {
     "name": "#%% md\n"
    }
   }
  },
  {
   "cell_type": "markdown",
   "source": [
    "*2 Выполните с датафреймом следующие операции (многие операции можно совершить не одним способом, используйте все известные вам способы, поищите/придумайте новые способы) :*\n",
    "\n",
    "*2.1 вывод таблицы*\n",
    "\n",
    "*2.2 вывод первых n элементов таблицы*\n",
    "\n",
    "*2.3 вывод последних n элементов таблицы*\n",
    "\n",
    "*2.4 .describe()*\n",
    "\n",
    "*2.5 считывание значения конкретной ячейки (с конкретным индексом из конкретной колонки) всеми известными вам способами*\n",
    "\n",
    "*2.6 фильтрация строк по диапазону индекса*\n",
    "\n",
    "*2.7 фильтрация набора данных по какому-либо условию*\n",
    "\n",
    "*2.8. работа с пропущенными значениями (если они есть): удаление строк с пропущенными значениями, заполнение пропущенных значений средним значением по колонке. Если пропущенных значений нет — намеренно их \"генерируете\", прибивая какие-то куски данных в np.nan*\n",
    "\n",
    "*2.9. создание нового поля вычисленного на основе значений других полей:*\n",
    "\n",
    "*2.9.1 через выражение на базе имеющихся колонок,*\n",
    "\n",
    "*2.9.2 через DataFrame.apply*\n",
    "\n",
    "*2.9.3 через Series.apply*\n",
    "\n",
    "*2.10 сортировка по какому-либо из полей*\n",
    "\n",
    "*2.11 вычислить несколько статистик по колонкам (используйте встроенные агрегатные функции — любые на выбор)*\n",
    "\n",
    "*2.12 .value_counts()*\n",
    "\n",
    "*2.13 Вывод уникальных значений колонки через .unique()*\n",
    "\n",
    "*2.14 Удалите текущий индекс и создайте новый индекс на базе новой колонки, которая для этого лучше всего подходит*"
   ],
   "metadata": {
    "collapsed": false,
    "pycharm": {
     "name": "#%% md\n"
    }
   }
  },
  {
   "cell_type": "code",
   "execution_count": 4,
   "outputs": [
    {
     "data": {
      "text/plain": "                                                 Title  \\\n0    Star Wars: Episode VII - The Force Awakens (2015)   \n1                             Avengers: Endgame (2019)   \n2                                        Avatar (2009)   \n3                                 Black Panther (2018)   \n4                        Avengers: Infinity War (2018)   \n..                                                 ...   \n913                                The Notebook (2004)   \n914                   Jimmy Neutron: Boy Genius (2001)   \n915                               Eat Pray Love (2010)   \n916                 The Texas Chainsaw Massacre (2003)   \n917                                   Zookeeper (2011)   \n\n                                            Movie Info  \\\n0    As a new threat to the galaxy rises, Rey, a de...   \n1    After the devastating events of Avengers: Infi...   \n2    A paraplegic Marine dispatched to the moon Pan...   \n3    T'Challa, heir to the hidden but advanced king...   \n4    The Avengers and their allies must be willing ...   \n..                                                 ...   \n913  A poor yet passionate young man falls in love ...   \n914  An eight-year-old boy genius and his friends m...   \n915  A married woman realizes how unhappy her marri...   \n916  After picking up a traumatized young hitchhike...   \n917  A group of zoo animals decide to break their c...   \n\n                             Distributor       Release Date  \\\n0    Walt Disney Studios Motion Pictures  December 16, 2015   \n1    Walt Disney Studios Motion Pictures     April 24, 2019   \n2                  Twentieth Century Fox  December 16, 2009   \n3    Walt Disney Studios Motion Pictures                NaN   \n4    Walt Disney Studios Motion Pictures                NaN   \n..                                   ...                ...   \n913                      New Line Cinema      June 25, 2004   \n914                   Paramount Pictures  December 21, 2001   \n915    Sony Pictures Entertainment (SPE)    August 13, 2010   \n916                      New Line Cinema   October 17, 2003   \n917    Sony Pictures Entertainment (SPE)       July 6, 2011   \n\n     Domestic Sales (in $)  International Sales (in $)  World Sales (in $)  \\\n0                936662225                  1132859475          2069521700   \n1                858373000                  1939128328          2797501328   \n2                760507625                  2086738578          2847246203   \n3                700426566                   647171407          1347597973   \n4                678815482                  1369544272          2048359754   \n..                     ...                         ...                 ...   \n913               81001787                    36813370           117815157   \n914               80936232                    22056304           102992536   \n915               80574010                   124020006           204594016   \n916               80571655                    26792250           107363905   \n917               80360843                    89491916           169852759   \n\n                                                 Genre Movie Runtime License  \n0                    ['Action', 'Adventure', 'Sci-Fi']   2 hr 18 min   PG-13  \n1           ['Action', 'Adventure', 'Drama', 'Sci-Fi']    3 hr 1 min   PG-13  \n2         ['Action', 'Adventure', 'Fantasy', 'Sci-Fi']   2 hr 42 min   PG-13  \n3                    ['Action', 'Adventure', 'Sci-Fi']   2 hr 14 min     NaN  \n4                    ['Action', 'Adventure', 'Sci-Fi']   2 hr 29 min     NaN  \n..                                                 ...           ...     ...  \n913                               ['Drama', 'Romance']    2 hr 3 min   PG-13  \n914  ['Action', 'Adventure', 'Animation', 'Comedy',...   1 hr 22 min     NaN  \n915                  ['Biography', 'Drama', 'Romance']   2 hr 13 min   PG-13  \n916                                ['Crime', 'Horror']   1 hr 38 min       R  \n917         ['Comedy', 'Family', 'Fantasy', 'Romance']   1 hr 42 min      PG  \n\n[918 rows x 10 columns]",
      "text/html": "<div>\n<style scoped>\n    .dataframe tbody tr th:only-of-type {\n        vertical-align: middle;\n    }\n\n    .dataframe tbody tr th {\n        vertical-align: top;\n    }\n\n    .dataframe thead th {\n        text-align: right;\n    }\n</style>\n<table border=\"1\" class=\"dataframe\">\n  <thead>\n    <tr style=\"text-align: right;\">\n      <th></th>\n      <th>Title</th>\n      <th>Movie Info</th>\n      <th>Distributor</th>\n      <th>Release Date</th>\n      <th>Domestic Sales (in $)</th>\n      <th>International Sales (in $)</th>\n      <th>World Sales (in $)</th>\n      <th>Genre</th>\n      <th>Movie Runtime</th>\n      <th>License</th>\n    </tr>\n  </thead>\n  <tbody>\n    <tr>\n      <th>0</th>\n      <td>Star Wars: Episode VII - The Force Awakens (2015)</td>\n      <td>As a new threat to the galaxy rises, Rey, a de...</td>\n      <td>Walt Disney Studios Motion Pictures</td>\n      <td>December 16, 2015</td>\n      <td>936662225</td>\n      <td>1132859475</td>\n      <td>2069521700</td>\n      <td>['Action', 'Adventure', 'Sci-Fi']</td>\n      <td>2 hr 18 min</td>\n      <td>PG-13</td>\n    </tr>\n    <tr>\n      <th>1</th>\n      <td>Avengers: Endgame (2019)</td>\n      <td>After the devastating events of Avengers: Infi...</td>\n      <td>Walt Disney Studios Motion Pictures</td>\n      <td>April 24, 2019</td>\n      <td>858373000</td>\n      <td>1939128328</td>\n      <td>2797501328</td>\n      <td>['Action', 'Adventure', 'Drama', 'Sci-Fi']</td>\n      <td>3 hr 1 min</td>\n      <td>PG-13</td>\n    </tr>\n    <tr>\n      <th>2</th>\n      <td>Avatar (2009)</td>\n      <td>A paraplegic Marine dispatched to the moon Pan...</td>\n      <td>Twentieth Century Fox</td>\n      <td>December 16, 2009</td>\n      <td>760507625</td>\n      <td>2086738578</td>\n      <td>2847246203</td>\n      <td>['Action', 'Adventure', 'Fantasy', 'Sci-Fi']</td>\n      <td>2 hr 42 min</td>\n      <td>PG-13</td>\n    </tr>\n    <tr>\n      <th>3</th>\n      <td>Black Panther (2018)</td>\n      <td>T'Challa, heir to the hidden but advanced king...</td>\n      <td>Walt Disney Studios Motion Pictures</td>\n      <td>NaN</td>\n      <td>700426566</td>\n      <td>647171407</td>\n      <td>1347597973</td>\n      <td>['Action', 'Adventure', 'Sci-Fi']</td>\n      <td>2 hr 14 min</td>\n      <td>NaN</td>\n    </tr>\n    <tr>\n      <th>4</th>\n      <td>Avengers: Infinity War (2018)</td>\n      <td>The Avengers and their allies must be willing ...</td>\n      <td>Walt Disney Studios Motion Pictures</td>\n      <td>NaN</td>\n      <td>678815482</td>\n      <td>1369544272</td>\n      <td>2048359754</td>\n      <td>['Action', 'Adventure', 'Sci-Fi']</td>\n      <td>2 hr 29 min</td>\n      <td>NaN</td>\n    </tr>\n    <tr>\n      <th>...</th>\n      <td>...</td>\n      <td>...</td>\n      <td>...</td>\n      <td>...</td>\n      <td>...</td>\n      <td>...</td>\n      <td>...</td>\n      <td>...</td>\n      <td>...</td>\n      <td>...</td>\n    </tr>\n    <tr>\n      <th>913</th>\n      <td>The Notebook (2004)</td>\n      <td>A poor yet passionate young man falls in love ...</td>\n      <td>New Line Cinema</td>\n      <td>June 25, 2004</td>\n      <td>81001787</td>\n      <td>36813370</td>\n      <td>117815157</td>\n      <td>['Drama', 'Romance']</td>\n      <td>2 hr 3 min</td>\n      <td>PG-13</td>\n    </tr>\n    <tr>\n      <th>914</th>\n      <td>Jimmy Neutron: Boy Genius (2001)</td>\n      <td>An eight-year-old boy genius and his friends m...</td>\n      <td>Paramount Pictures</td>\n      <td>December 21, 2001</td>\n      <td>80936232</td>\n      <td>22056304</td>\n      <td>102992536</td>\n      <td>['Action', 'Adventure', 'Animation', 'Comedy',...</td>\n      <td>1 hr 22 min</td>\n      <td>NaN</td>\n    </tr>\n    <tr>\n      <th>915</th>\n      <td>Eat Pray Love (2010)</td>\n      <td>A married woman realizes how unhappy her marri...</td>\n      <td>Sony Pictures Entertainment (SPE)</td>\n      <td>August 13, 2010</td>\n      <td>80574010</td>\n      <td>124020006</td>\n      <td>204594016</td>\n      <td>['Biography', 'Drama', 'Romance']</td>\n      <td>2 hr 13 min</td>\n      <td>PG-13</td>\n    </tr>\n    <tr>\n      <th>916</th>\n      <td>The Texas Chainsaw Massacre (2003)</td>\n      <td>After picking up a traumatized young hitchhike...</td>\n      <td>New Line Cinema</td>\n      <td>October 17, 2003</td>\n      <td>80571655</td>\n      <td>26792250</td>\n      <td>107363905</td>\n      <td>['Crime', 'Horror']</td>\n      <td>1 hr 38 min</td>\n      <td>R</td>\n    </tr>\n    <tr>\n      <th>917</th>\n      <td>Zookeeper (2011)</td>\n      <td>A group of zoo animals decide to break their c...</td>\n      <td>Sony Pictures Entertainment (SPE)</td>\n      <td>July 6, 2011</td>\n      <td>80360843</td>\n      <td>89491916</td>\n      <td>169852759</td>\n      <td>['Comedy', 'Family', 'Fantasy', 'Romance']</td>\n      <td>1 hr 42 min</td>\n      <td>PG</td>\n    </tr>\n  </tbody>\n</table>\n<p>918 rows × 10 columns</p>\n</div>"
     },
     "execution_count": 4,
     "metadata": {},
     "output_type": "execute_result"
    }
   ],
   "source": [
    "# 2.1 вывод таблицы\n",
    "movies_df"
   ],
   "metadata": {
    "collapsed": false,
    "pycharm": {
     "name": "#%%\n"
    }
   }
  },
  {
   "cell_type": "code",
   "execution_count": 5,
   "outputs": [
    {
     "data": {
      "text/plain": "                                               Title  \\\n0  Star Wars: Episode VII - The Force Awakens (2015)   \n1                           Avengers: Endgame (2019)   \n2                                      Avatar (2009)   \n3                               Black Panther (2018)   \n4                      Avengers: Infinity War (2018)   \n5                     Spider-Man: No Way Home (2021)   \n6                                     Titanic (1997)   \n7                              Jurassic World (2015)   \n8                                The Avengers (2012)   \n9     Star Wars: Episode VIII - The Last Jedi (2017)   \n\n                                          Movie Info  \\\n0  As a new threat to the galaxy rises, Rey, a de...   \n1  After the devastating events of Avengers: Infi...   \n2  A paraplegic Marine dispatched to the moon Pan...   \n3  T'Challa, heir to the hidden but advanced king...   \n4  The Avengers and their allies must be willing ...   \n5  With Spider-Man's identity now revealed, Peter...   \n6  A seventeen-year-old aristocrat falls in love ...   \n7  A new theme park, built on the original site o...   \n8  Earth's mightiest heroes must come together an...   \n9  The Star Wars saga continues as new heroes and...   \n\n                           Distributor       Release Date  \\\n0  Walt Disney Studios Motion Pictures  December 16, 2015   \n1  Walt Disney Studios Motion Pictures     April 24, 2019   \n2                Twentieth Century Fox  December 16, 2009   \n3  Walt Disney Studios Motion Pictures                NaN   \n4  Walt Disney Studios Motion Pictures                NaN   \n5    Sony Pictures Entertainment (SPE)                NaN   \n6                   Paramount Pictures  December 19, 1997   \n7                   Universal Pictures      June 10, 2015   \n8  Walt Disney Studios Motion Pictures     April 25, 2012   \n9  Walt Disney Studios Motion Pictures  December 13, 2017   \n\n   Domestic Sales (in $)  International Sales (in $)  World Sales (in $)  \\\n0              936662225                  1132859475          2069521700   \n1              858373000                  1939128328          2797501328   \n2              760507625                  2086738578          2847246203   \n3              700426566                   647171407          1347597973   \n4              678815482                  1369544272          2048359754   \n5              675813257                   868642706          1544455963   \n6              659363944                  1542283320          2201647264   \n7              652385625                  1018130819          1670516444   \n8              623357910                   895457605          1518815515   \n9              620181382                   712517448          1332698830   \n\n                                          Genre Movie Runtime License  \n0             ['Action', 'Adventure', 'Sci-Fi']   2 hr 18 min   PG-13  \n1    ['Action', 'Adventure', 'Drama', 'Sci-Fi']    3 hr 1 min   PG-13  \n2  ['Action', 'Adventure', 'Fantasy', 'Sci-Fi']   2 hr 42 min   PG-13  \n3             ['Action', 'Adventure', 'Sci-Fi']   2 hr 14 min     NaN  \n4             ['Action', 'Adventure', 'Sci-Fi']   2 hr 29 min     NaN  \n5  ['Action', 'Adventure', 'Fantasy', 'Sci-Fi']   2 hr 28 min     NaN  \n6                          ['Drama', 'Romance']   3 hr 14 min   PG-13  \n7             ['Action', 'Adventure', 'Sci-Fi']    2 hr 4 min   PG-13  \n8             ['Action', 'Adventure', 'Sci-Fi']   2 hr 23 min   PG-13  \n9  ['Action', 'Adventure', 'Fantasy', 'Sci-Fi']   2 hr 32 min   PG-13  ",
      "text/html": "<div>\n<style scoped>\n    .dataframe tbody tr th:only-of-type {\n        vertical-align: middle;\n    }\n\n    .dataframe tbody tr th {\n        vertical-align: top;\n    }\n\n    .dataframe thead th {\n        text-align: right;\n    }\n</style>\n<table border=\"1\" class=\"dataframe\">\n  <thead>\n    <tr style=\"text-align: right;\">\n      <th></th>\n      <th>Title</th>\n      <th>Movie Info</th>\n      <th>Distributor</th>\n      <th>Release Date</th>\n      <th>Domestic Sales (in $)</th>\n      <th>International Sales (in $)</th>\n      <th>World Sales (in $)</th>\n      <th>Genre</th>\n      <th>Movie Runtime</th>\n      <th>License</th>\n    </tr>\n  </thead>\n  <tbody>\n    <tr>\n      <th>0</th>\n      <td>Star Wars: Episode VII - The Force Awakens (2015)</td>\n      <td>As a new threat to the galaxy rises, Rey, a de...</td>\n      <td>Walt Disney Studios Motion Pictures</td>\n      <td>December 16, 2015</td>\n      <td>936662225</td>\n      <td>1132859475</td>\n      <td>2069521700</td>\n      <td>['Action', 'Adventure', 'Sci-Fi']</td>\n      <td>2 hr 18 min</td>\n      <td>PG-13</td>\n    </tr>\n    <tr>\n      <th>1</th>\n      <td>Avengers: Endgame (2019)</td>\n      <td>After the devastating events of Avengers: Infi...</td>\n      <td>Walt Disney Studios Motion Pictures</td>\n      <td>April 24, 2019</td>\n      <td>858373000</td>\n      <td>1939128328</td>\n      <td>2797501328</td>\n      <td>['Action', 'Adventure', 'Drama', 'Sci-Fi']</td>\n      <td>3 hr 1 min</td>\n      <td>PG-13</td>\n    </tr>\n    <tr>\n      <th>2</th>\n      <td>Avatar (2009)</td>\n      <td>A paraplegic Marine dispatched to the moon Pan...</td>\n      <td>Twentieth Century Fox</td>\n      <td>December 16, 2009</td>\n      <td>760507625</td>\n      <td>2086738578</td>\n      <td>2847246203</td>\n      <td>['Action', 'Adventure', 'Fantasy', 'Sci-Fi']</td>\n      <td>2 hr 42 min</td>\n      <td>PG-13</td>\n    </tr>\n    <tr>\n      <th>3</th>\n      <td>Black Panther (2018)</td>\n      <td>T'Challa, heir to the hidden but advanced king...</td>\n      <td>Walt Disney Studios Motion Pictures</td>\n      <td>NaN</td>\n      <td>700426566</td>\n      <td>647171407</td>\n      <td>1347597973</td>\n      <td>['Action', 'Adventure', 'Sci-Fi']</td>\n      <td>2 hr 14 min</td>\n      <td>NaN</td>\n    </tr>\n    <tr>\n      <th>4</th>\n      <td>Avengers: Infinity War (2018)</td>\n      <td>The Avengers and their allies must be willing ...</td>\n      <td>Walt Disney Studios Motion Pictures</td>\n      <td>NaN</td>\n      <td>678815482</td>\n      <td>1369544272</td>\n      <td>2048359754</td>\n      <td>['Action', 'Adventure', 'Sci-Fi']</td>\n      <td>2 hr 29 min</td>\n      <td>NaN</td>\n    </tr>\n    <tr>\n      <th>5</th>\n      <td>Spider-Man: No Way Home (2021)</td>\n      <td>With Spider-Man's identity now revealed, Peter...</td>\n      <td>Sony Pictures Entertainment (SPE)</td>\n      <td>NaN</td>\n      <td>675813257</td>\n      <td>868642706</td>\n      <td>1544455963</td>\n      <td>['Action', 'Adventure', 'Fantasy', 'Sci-Fi']</td>\n      <td>2 hr 28 min</td>\n      <td>NaN</td>\n    </tr>\n    <tr>\n      <th>6</th>\n      <td>Titanic (1997)</td>\n      <td>A seventeen-year-old aristocrat falls in love ...</td>\n      <td>Paramount Pictures</td>\n      <td>December 19, 1997</td>\n      <td>659363944</td>\n      <td>1542283320</td>\n      <td>2201647264</td>\n      <td>['Drama', 'Romance']</td>\n      <td>3 hr 14 min</td>\n      <td>PG-13</td>\n    </tr>\n    <tr>\n      <th>7</th>\n      <td>Jurassic World (2015)</td>\n      <td>A new theme park, built on the original site o...</td>\n      <td>Universal Pictures</td>\n      <td>June 10, 2015</td>\n      <td>652385625</td>\n      <td>1018130819</td>\n      <td>1670516444</td>\n      <td>['Action', 'Adventure', 'Sci-Fi']</td>\n      <td>2 hr 4 min</td>\n      <td>PG-13</td>\n    </tr>\n    <tr>\n      <th>8</th>\n      <td>The Avengers (2012)</td>\n      <td>Earth's mightiest heroes must come together an...</td>\n      <td>Walt Disney Studios Motion Pictures</td>\n      <td>April 25, 2012</td>\n      <td>623357910</td>\n      <td>895457605</td>\n      <td>1518815515</td>\n      <td>['Action', 'Adventure', 'Sci-Fi']</td>\n      <td>2 hr 23 min</td>\n      <td>PG-13</td>\n    </tr>\n    <tr>\n      <th>9</th>\n      <td>Star Wars: Episode VIII - The Last Jedi (2017)</td>\n      <td>The Star Wars saga continues as new heroes and...</td>\n      <td>Walt Disney Studios Motion Pictures</td>\n      <td>December 13, 2017</td>\n      <td>620181382</td>\n      <td>712517448</td>\n      <td>1332698830</td>\n      <td>['Action', 'Adventure', 'Fantasy', 'Sci-Fi']</td>\n      <td>2 hr 32 min</td>\n      <td>PG-13</td>\n    </tr>\n  </tbody>\n</table>\n</div>"
     },
     "execution_count": 5,
     "metadata": {},
     "output_type": "execute_result"
    }
   ],
   "source": [
    "# 2.2 вывод первых n элементов таблицы\n",
    "movies_df.head(10)"
   ],
   "metadata": {
    "collapsed": false,
    "pycharm": {
     "name": "#%%\n"
    }
   }
  },
  {
   "cell_type": "code",
   "execution_count": 6,
   "outputs": [
    {
     "data": {
      "text/plain": "                                  Title  \\\n908               School of Rock (2003)   \n909                    Snow Dogs (2002)   \n910                           21 (2008)   \n911      While You Were Sleeping (1995)   \n912                        Congo (1995)   \n913                 The Notebook (2004)   \n914    Jimmy Neutron: Boy Genius (2001)   \n915                Eat Pray Love (2010)   \n916  The Texas Chainsaw Massacre (2003)   \n917                    Zookeeper (2011)   \n\n                                            Movie Info  \\\n908  After being kicked out of his rock band, Dewey...   \n909  When a Miami dentist inherits a team of sled d...   \n910  \"21\" is the fact-based story about six MIT stu...   \n911  A hopelessly romantic Chicago Transit Authorit...   \n912  When an expedition to the African Congo ends i...   \n913  A poor yet passionate young man falls in love ...   \n914  An eight-year-old boy genius and his friends m...   \n915  A married woman realizes how unhappy her marri...   \n916  After picking up a traumatized young hitchhike...   \n917  A group of zoo animals decide to break their c...   \n\n                             Distributor       Release Date  \\\n908                   Paramount Pictures    October 3, 2003   \n909  Walt Disney Studios Motion Pictures   January 18, 2002   \n910    Sony Pictures Entertainment (SPE)     March 28, 2008   \n911  Walt Disney Studios Motion Pictures     April 21, 1995   \n912                   Paramount Pictures                NaN   \n913                      New Line Cinema      June 25, 2004   \n914                   Paramount Pictures  December 21, 2001   \n915    Sony Pictures Entertainment (SPE)    August 13, 2010   \n916                      New Line Cinema   October 17, 2003   \n917    Sony Pictures Entertainment (SPE)       July 6, 2011   \n\n     Domestic Sales (in $)  International Sales (in $)  World Sales (in $)  \\\n908               81261177                    49834813           131095990   \n909               81172560                    33862530           115035090   \n910               81159365                    78649005           159808370   \n911               81057016                   101000000           182057016   \n912               81022101                    71000000           152022101   \n913               81001787                    36813370           117815157   \n914               80936232                    22056304           102992536   \n915               80574010                   124020006           204594016   \n916               80571655                    26792250           107363905   \n917               80360843                    89491916           169852759   \n\n                                                 Genre Movie Runtime License  \n908                                ['Comedy', 'Music']   1 hr 49 min   PG-13  \n909         ['Adventure', 'Comedy', 'Family', 'Sport']   1 hr 39 min      PG  \n910          ['Crime', 'Drama', 'History', 'Thriller']    2 hr 3 min   PG-13  \n911                     ['Comedy', 'Drama', 'Romance']   1 hr 43 min      PG  \n912       ['Action', 'Adventure', 'Mystery', 'Sci-Fi']   1 hr 49 min     NaN  \n913                               ['Drama', 'Romance']    2 hr 3 min   PG-13  \n914  ['Action', 'Adventure', 'Animation', 'Comedy',...   1 hr 22 min     NaN  \n915                  ['Biography', 'Drama', 'Romance']   2 hr 13 min   PG-13  \n916                                ['Crime', 'Horror']   1 hr 38 min       R  \n917         ['Comedy', 'Family', 'Fantasy', 'Romance']   1 hr 42 min      PG  ",
      "text/html": "<div>\n<style scoped>\n    .dataframe tbody tr th:only-of-type {\n        vertical-align: middle;\n    }\n\n    .dataframe tbody tr th {\n        vertical-align: top;\n    }\n\n    .dataframe thead th {\n        text-align: right;\n    }\n</style>\n<table border=\"1\" class=\"dataframe\">\n  <thead>\n    <tr style=\"text-align: right;\">\n      <th></th>\n      <th>Title</th>\n      <th>Movie Info</th>\n      <th>Distributor</th>\n      <th>Release Date</th>\n      <th>Domestic Sales (in $)</th>\n      <th>International Sales (in $)</th>\n      <th>World Sales (in $)</th>\n      <th>Genre</th>\n      <th>Movie Runtime</th>\n      <th>License</th>\n    </tr>\n  </thead>\n  <tbody>\n    <tr>\n      <th>908</th>\n      <td>School of Rock (2003)</td>\n      <td>After being kicked out of his rock band, Dewey...</td>\n      <td>Paramount Pictures</td>\n      <td>October 3, 2003</td>\n      <td>81261177</td>\n      <td>49834813</td>\n      <td>131095990</td>\n      <td>['Comedy', 'Music']</td>\n      <td>1 hr 49 min</td>\n      <td>PG-13</td>\n    </tr>\n    <tr>\n      <th>909</th>\n      <td>Snow Dogs (2002)</td>\n      <td>When a Miami dentist inherits a team of sled d...</td>\n      <td>Walt Disney Studios Motion Pictures</td>\n      <td>January 18, 2002</td>\n      <td>81172560</td>\n      <td>33862530</td>\n      <td>115035090</td>\n      <td>['Adventure', 'Comedy', 'Family', 'Sport']</td>\n      <td>1 hr 39 min</td>\n      <td>PG</td>\n    </tr>\n    <tr>\n      <th>910</th>\n      <td>21 (2008)</td>\n      <td>\"21\" is the fact-based story about six MIT stu...</td>\n      <td>Sony Pictures Entertainment (SPE)</td>\n      <td>March 28, 2008</td>\n      <td>81159365</td>\n      <td>78649005</td>\n      <td>159808370</td>\n      <td>['Crime', 'Drama', 'History', 'Thriller']</td>\n      <td>2 hr 3 min</td>\n      <td>PG-13</td>\n    </tr>\n    <tr>\n      <th>911</th>\n      <td>While You Were Sleeping (1995)</td>\n      <td>A hopelessly romantic Chicago Transit Authorit...</td>\n      <td>Walt Disney Studios Motion Pictures</td>\n      <td>April 21, 1995</td>\n      <td>81057016</td>\n      <td>101000000</td>\n      <td>182057016</td>\n      <td>['Comedy', 'Drama', 'Romance']</td>\n      <td>1 hr 43 min</td>\n      <td>PG</td>\n    </tr>\n    <tr>\n      <th>912</th>\n      <td>Congo (1995)</td>\n      <td>When an expedition to the African Congo ends i...</td>\n      <td>Paramount Pictures</td>\n      <td>NaN</td>\n      <td>81022101</td>\n      <td>71000000</td>\n      <td>152022101</td>\n      <td>['Action', 'Adventure', 'Mystery', 'Sci-Fi']</td>\n      <td>1 hr 49 min</td>\n      <td>NaN</td>\n    </tr>\n    <tr>\n      <th>913</th>\n      <td>The Notebook (2004)</td>\n      <td>A poor yet passionate young man falls in love ...</td>\n      <td>New Line Cinema</td>\n      <td>June 25, 2004</td>\n      <td>81001787</td>\n      <td>36813370</td>\n      <td>117815157</td>\n      <td>['Drama', 'Romance']</td>\n      <td>2 hr 3 min</td>\n      <td>PG-13</td>\n    </tr>\n    <tr>\n      <th>914</th>\n      <td>Jimmy Neutron: Boy Genius (2001)</td>\n      <td>An eight-year-old boy genius and his friends m...</td>\n      <td>Paramount Pictures</td>\n      <td>December 21, 2001</td>\n      <td>80936232</td>\n      <td>22056304</td>\n      <td>102992536</td>\n      <td>['Action', 'Adventure', 'Animation', 'Comedy',...</td>\n      <td>1 hr 22 min</td>\n      <td>NaN</td>\n    </tr>\n    <tr>\n      <th>915</th>\n      <td>Eat Pray Love (2010)</td>\n      <td>A married woman realizes how unhappy her marri...</td>\n      <td>Sony Pictures Entertainment (SPE)</td>\n      <td>August 13, 2010</td>\n      <td>80574010</td>\n      <td>124020006</td>\n      <td>204594016</td>\n      <td>['Biography', 'Drama', 'Romance']</td>\n      <td>2 hr 13 min</td>\n      <td>PG-13</td>\n    </tr>\n    <tr>\n      <th>916</th>\n      <td>The Texas Chainsaw Massacre (2003)</td>\n      <td>After picking up a traumatized young hitchhike...</td>\n      <td>New Line Cinema</td>\n      <td>October 17, 2003</td>\n      <td>80571655</td>\n      <td>26792250</td>\n      <td>107363905</td>\n      <td>['Crime', 'Horror']</td>\n      <td>1 hr 38 min</td>\n      <td>R</td>\n    </tr>\n    <tr>\n      <th>917</th>\n      <td>Zookeeper (2011)</td>\n      <td>A group of zoo animals decide to break their c...</td>\n      <td>Sony Pictures Entertainment (SPE)</td>\n      <td>July 6, 2011</td>\n      <td>80360843</td>\n      <td>89491916</td>\n      <td>169852759</td>\n      <td>['Comedy', 'Family', 'Fantasy', 'Romance']</td>\n      <td>1 hr 42 min</td>\n      <td>PG</td>\n    </tr>\n  </tbody>\n</table>\n</div>"
     },
     "execution_count": 6,
     "metadata": {},
     "output_type": "execute_result"
    }
   ],
   "source": [
    "# 2.3 вывод последних n элементов таблицы\n",
    "movies_df.tail(10)"
   ],
   "metadata": {
    "collapsed": false,
    "pycharm": {
     "name": "#%%\n"
    }
   }
  },
  {
   "cell_type": "code",
   "execution_count": 7,
   "outputs": [
    {
     "data": {
      "text/plain": "       Domestic Sales (in $)  International Sales (in $)  World Sales (in $)\ncount           9.180000e+02                9.180000e+02        9.180000e+02\nmean            1.677469e+08                2.301434e+08        3.968668e+08\nstd             1.040360e+08                2.176011e+08        3.082629e+08\nmin             8.036084e+07                2.600000e+02        8.160000e+07\n25%             1.016071e+08                8.845620e+07        2.005564e+08\n50%             1.321351e+08                1.638819e+08        3.019416e+08\n75%             1.913905e+08                2.885577e+08        4.750718e+08\nmax             9.366622e+08                2.086739e+09        2.847246e+09",
      "text/html": "<div>\n<style scoped>\n    .dataframe tbody tr th:only-of-type {\n        vertical-align: middle;\n    }\n\n    .dataframe tbody tr th {\n        vertical-align: top;\n    }\n\n    .dataframe thead th {\n        text-align: right;\n    }\n</style>\n<table border=\"1\" class=\"dataframe\">\n  <thead>\n    <tr style=\"text-align: right;\">\n      <th></th>\n      <th>Domestic Sales (in $)</th>\n      <th>International Sales (in $)</th>\n      <th>World Sales (in $)</th>\n    </tr>\n  </thead>\n  <tbody>\n    <tr>\n      <th>count</th>\n      <td>9.180000e+02</td>\n      <td>9.180000e+02</td>\n      <td>9.180000e+02</td>\n    </tr>\n    <tr>\n      <th>mean</th>\n      <td>1.677469e+08</td>\n      <td>2.301434e+08</td>\n      <td>3.968668e+08</td>\n    </tr>\n    <tr>\n      <th>std</th>\n      <td>1.040360e+08</td>\n      <td>2.176011e+08</td>\n      <td>3.082629e+08</td>\n    </tr>\n    <tr>\n      <th>min</th>\n      <td>8.036084e+07</td>\n      <td>2.600000e+02</td>\n      <td>8.160000e+07</td>\n    </tr>\n    <tr>\n      <th>25%</th>\n      <td>1.016071e+08</td>\n      <td>8.845620e+07</td>\n      <td>2.005564e+08</td>\n    </tr>\n    <tr>\n      <th>50%</th>\n      <td>1.321351e+08</td>\n      <td>1.638819e+08</td>\n      <td>3.019416e+08</td>\n    </tr>\n    <tr>\n      <th>75%</th>\n      <td>1.913905e+08</td>\n      <td>2.885577e+08</td>\n      <td>4.750718e+08</td>\n    </tr>\n    <tr>\n      <th>max</th>\n      <td>9.366622e+08</td>\n      <td>2.086739e+09</td>\n      <td>2.847246e+09</td>\n    </tr>\n  </tbody>\n</table>\n</div>"
     },
     "execution_count": 7,
     "metadata": {},
     "output_type": "execute_result"
    }
   ],
   "source": [
    "# 2.4 .describe()\n",
    "movies_df.describe()"
   ],
   "metadata": {
    "collapsed": false,
    "pycharm": {
     "name": "#%%\n"
    }
   }
  },
  {
   "cell_type": "code",
   "execution_count": 8,
   "outputs": [
    {
     "name": "stdout",
     "output_type": "stream",
     "text": [
      "Star Wars: Episode VII - The Force Awakens (2015)\n",
      "Star Wars: Episode VII - The Force Awakens (2015)\n",
      "Star Wars: Episode VII - The Force Awakens (2015)\n",
      "Star Wars: Episode VII - The Force Awakens (2015)\n",
      "Star Wars: Episode VII - The Force Awakens (2015)\n"
     ]
    }
   ],
   "source": [
    "# 2.5 считывание значения конкретной ячейки (с конкретным индексом из конкретной колонки) всеми известными вам способами\n",
    "print(movies_df.iloc[0][0])\n",
    "print(movies_df.iloc[0, 0])\n",
    "print(movies_df.iloc[0][\"Title\"])\n",
    "print(movies_df.iloc[0].Title)\n",
    "print(movies_df.loc[0][\"Title\"])"
   ],
   "metadata": {
    "collapsed": false,
    "pycharm": {
     "name": "#%%\n"
    }
   }
  },
  {
   "cell_type": "code",
   "execution_count": 9,
   "outputs": [
    {
     "data": {
      "text/plain": "                                               Title  \\\n0  Star Wars: Episode VII - The Force Awakens (2015)   \n1                           Avengers: Endgame (2019)   \n2                                      Avatar (2009)   \n3                               Black Panther (2018)   \n4                      Avengers: Infinity War (2018)   \n5                     Spider-Man: No Way Home (2021)   \n6                                     Titanic (1997)   \n7                              Jurassic World (2015)   \n8                                The Avengers (2012)   \n9     Star Wars: Episode VIII - The Last Jedi (2017)   \n\n                                          Movie Info  \\\n0  As a new threat to the galaxy rises, Rey, a de...   \n1  After the devastating events of Avengers: Infi...   \n2  A paraplegic Marine dispatched to the moon Pan...   \n3  T'Challa, heir to the hidden but advanced king...   \n4  The Avengers and their allies must be willing ...   \n5  With Spider-Man's identity now revealed, Peter...   \n6  A seventeen-year-old aristocrat falls in love ...   \n7  A new theme park, built on the original site o...   \n8  Earth's mightiest heroes must come together an...   \n9  The Star Wars saga continues as new heroes and...   \n\n                           Distributor       Release Date  \\\n0  Walt Disney Studios Motion Pictures  December 16, 2015   \n1  Walt Disney Studios Motion Pictures     April 24, 2019   \n2                Twentieth Century Fox  December 16, 2009   \n3  Walt Disney Studios Motion Pictures                NaN   \n4  Walt Disney Studios Motion Pictures                NaN   \n5    Sony Pictures Entertainment (SPE)                NaN   \n6                   Paramount Pictures  December 19, 1997   \n7                   Universal Pictures      June 10, 2015   \n8  Walt Disney Studios Motion Pictures     April 25, 2012   \n9  Walt Disney Studios Motion Pictures  December 13, 2017   \n\n   Domestic Sales (in $)  International Sales (in $)  World Sales (in $)  \\\n0              936662225                  1132859475          2069521700   \n1              858373000                  1939128328          2797501328   \n2              760507625                  2086738578          2847246203   \n3              700426566                   647171407          1347597973   \n4              678815482                  1369544272          2048359754   \n5              675813257                   868642706          1544455963   \n6              659363944                  1542283320          2201647264   \n7              652385625                  1018130819          1670516444   \n8              623357910                   895457605          1518815515   \n9              620181382                   712517448          1332698830   \n\n                                          Genre Movie Runtime License  \n0             ['Action', 'Adventure', 'Sci-Fi']   2 hr 18 min   PG-13  \n1    ['Action', 'Adventure', 'Drama', 'Sci-Fi']    3 hr 1 min   PG-13  \n2  ['Action', 'Adventure', 'Fantasy', 'Sci-Fi']   2 hr 42 min   PG-13  \n3             ['Action', 'Adventure', 'Sci-Fi']   2 hr 14 min     NaN  \n4             ['Action', 'Adventure', 'Sci-Fi']   2 hr 29 min     NaN  \n5  ['Action', 'Adventure', 'Fantasy', 'Sci-Fi']   2 hr 28 min     NaN  \n6                          ['Drama', 'Romance']   3 hr 14 min   PG-13  \n7             ['Action', 'Adventure', 'Sci-Fi']    2 hr 4 min   PG-13  \n8             ['Action', 'Adventure', 'Sci-Fi']   2 hr 23 min   PG-13  \n9  ['Action', 'Adventure', 'Fantasy', 'Sci-Fi']   2 hr 32 min   PG-13  ",
      "text/html": "<div>\n<style scoped>\n    .dataframe tbody tr th:only-of-type {\n        vertical-align: middle;\n    }\n\n    .dataframe tbody tr th {\n        vertical-align: top;\n    }\n\n    .dataframe thead th {\n        text-align: right;\n    }\n</style>\n<table border=\"1\" class=\"dataframe\">\n  <thead>\n    <tr style=\"text-align: right;\">\n      <th></th>\n      <th>Title</th>\n      <th>Movie Info</th>\n      <th>Distributor</th>\n      <th>Release Date</th>\n      <th>Domestic Sales (in $)</th>\n      <th>International Sales (in $)</th>\n      <th>World Sales (in $)</th>\n      <th>Genre</th>\n      <th>Movie Runtime</th>\n      <th>License</th>\n    </tr>\n  </thead>\n  <tbody>\n    <tr>\n      <th>0</th>\n      <td>Star Wars: Episode VII - The Force Awakens (2015)</td>\n      <td>As a new threat to the galaxy rises, Rey, a de...</td>\n      <td>Walt Disney Studios Motion Pictures</td>\n      <td>December 16, 2015</td>\n      <td>936662225</td>\n      <td>1132859475</td>\n      <td>2069521700</td>\n      <td>['Action', 'Adventure', 'Sci-Fi']</td>\n      <td>2 hr 18 min</td>\n      <td>PG-13</td>\n    </tr>\n    <tr>\n      <th>1</th>\n      <td>Avengers: Endgame (2019)</td>\n      <td>After the devastating events of Avengers: Infi...</td>\n      <td>Walt Disney Studios Motion Pictures</td>\n      <td>April 24, 2019</td>\n      <td>858373000</td>\n      <td>1939128328</td>\n      <td>2797501328</td>\n      <td>['Action', 'Adventure', 'Drama', 'Sci-Fi']</td>\n      <td>3 hr 1 min</td>\n      <td>PG-13</td>\n    </tr>\n    <tr>\n      <th>2</th>\n      <td>Avatar (2009)</td>\n      <td>A paraplegic Marine dispatched to the moon Pan...</td>\n      <td>Twentieth Century Fox</td>\n      <td>December 16, 2009</td>\n      <td>760507625</td>\n      <td>2086738578</td>\n      <td>2847246203</td>\n      <td>['Action', 'Adventure', 'Fantasy', 'Sci-Fi']</td>\n      <td>2 hr 42 min</td>\n      <td>PG-13</td>\n    </tr>\n    <tr>\n      <th>3</th>\n      <td>Black Panther (2018)</td>\n      <td>T'Challa, heir to the hidden but advanced king...</td>\n      <td>Walt Disney Studios Motion Pictures</td>\n      <td>NaN</td>\n      <td>700426566</td>\n      <td>647171407</td>\n      <td>1347597973</td>\n      <td>['Action', 'Adventure', 'Sci-Fi']</td>\n      <td>2 hr 14 min</td>\n      <td>NaN</td>\n    </tr>\n    <tr>\n      <th>4</th>\n      <td>Avengers: Infinity War (2018)</td>\n      <td>The Avengers and their allies must be willing ...</td>\n      <td>Walt Disney Studios Motion Pictures</td>\n      <td>NaN</td>\n      <td>678815482</td>\n      <td>1369544272</td>\n      <td>2048359754</td>\n      <td>['Action', 'Adventure', 'Sci-Fi']</td>\n      <td>2 hr 29 min</td>\n      <td>NaN</td>\n    </tr>\n    <tr>\n      <th>5</th>\n      <td>Spider-Man: No Way Home (2021)</td>\n      <td>With Spider-Man's identity now revealed, Peter...</td>\n      <td>Sony Pictures Entertainment (SPE)</td>\n      <td>NaN</td>\n      <td>675813257</td>\n      <td>868642706</td>\n      <td>1544455963</td>\n      <td>['Action', 'Adventure', 'Fantasy', 'Sci-Fi']</td>\n      <td>2 hr 28 min</td>\n      <td>NaN</td>\n    </tr>\n    <tr>\n      <th>6</th>\n      <td>Titanic (1997)</td>\n      <td>A seventeen-year-old aristocrat falls in love ...</td>\n      <td>Paramount Pictures</td>\n      <td>December 19, 1997</td>\n      <td>659363944</td>\n      <td>1542283320</td>\n      <td>2201647264</td>\n      <td>['Drama', 'Romance']</td>\n      <td>3 hr 14 min</td>\n      <td>PG-13</td>\n    </tr>\n    <tr>\n      <th>7</th>\n      <td>Jurassic World (2015)</td>\n      <td>A new theme park, built on the original site o...</td>\n      <td>Universal Pictures</td>\n      <td>June 10, 2015</td>\n      <td>652385625</td>\n      <td>1018130819</td>\n      <td>1670516444</td>\n      <td>['Action', 'Adventure', 'Sci-Fi']</td>\n      <td>2 hr 4 min</td>\n      <td>PG-13</td>\n    </tr>\n    <tr>\n      <th>8</th>\n      <td>The Avengers (2012)</td>\n      <td>Earth's mightiest heroes must come together an...</td>\n      <td>Walt Disney Studios Motion Pictures</td>\n      <td>April 25, 2012</td>\n      <td>623357910</td>\n      <td>895457605</td>\n      <td>1518815515</td>\n      <td>['Action', 'Adventure', 'Sci-Fi']</td>\n      <td>2 hr 23 min</td>\n      <td>PG-13</td>\n    </tr>\n    <tr>\n      <th>9</th>\n      <td>Star Wars: Episode VIII - The Last Jedi (2017)</td>\n      <td>The Star Wars saga continues as new heroes and...</td>\n      <td>Walt Disney Studios Motion Pictures</td>\n      <td>December 13, 2017</td>\n      <td>620181382</td>\n      <td>712517448</td>\n      <td>1332698830</td>\n      <td>['Action', 'Adventure', 'Fantasy', 'Sci-Fi']</td>\n      <td>2 hr 32 min</td>\n      <td>PG-13</td>\n    </tr>\n  </tbody>\n</table>\n</div>"
     },
     "execution_count": 9,
     "metadata": {},
     "output_type": "execute_result"
    }
   ],
   "source": [
    "# 2.6 фильтрация строк по диапазону индекса\n",
    "movies_df.iloc[0:10]"
   ],
   "metadata": {
    "collapsed": false,
    "pycharm": {
     "name": "#%%\n"
    }
   }
  },
  {
   "cell_type": "code",
   "execution_count": 10,
   "outputs": [
    {
     "data": {
      "text/plain": "                                               Title  \\\n0  Star Wars: Episode VII - The Force Awakens (2015)   \n1                           Avengers: Endgame (2019)   \n2                                      Avatar (2009)   \n4                      Avengers: Infinity War (2018)   \n6                                     Titanic (1997)   \n\n                                          Movie Info  \\\n0  As a new threat to the galaxy rises, Rey, a de...   \n1  After the devastating events of Avengers: Infi...   \n2  A paraplegic Marine dispatched to the moon Pan...   \n4  The Avengers and their allies must be willing ...   \n6  A seventeen-year-old aristocrat falls in love ...   \n\n                           Distributor       Release Date  \\\n0  Walt Disney Studios Motion Pictures  December 16, 2015   \n1  Walt Disney Studios Motion Pictures     April 24, 2019   \n2                Twentieth Century Fox  December 16, 2009   \n4  Walt Disney Studios Motion Pictures                NaN   \n6                   Paramount Pictures  December 19, 1997   \n\n   Domestic Sales (in $)  International Sales (in $)  World Sales (in $)  \\\n0              936662225                  1132859475          2069521700   \n1              858373000                  1939128328          2797501328   \n2              760507625                  2086738578          2847246203   \n4              678815482                  1369544272          2048359754   \n6              659363944                  1542283320          2201647264   \n\n                                          Genre Movie Runtime License  \n0             ['Action', 'Adventure', 'Sci-Fi']   2 hr 18 min   PG-13  \n1    ['Action', 'Adventure', 'Drama', 'Sci-Fi']    3 hr 1 min   PG-13  \n2  ['Action', 'Adventure', 'Fantasy', 'Sci-Fi']   2 hr 42 min   PG-13  \n4             ['Action', 'Adventure', 'Sci-Fi']   2 hr 29 min     NaN  \n6                          ['Drama', 'Romance']   3 hr 14 min   PG-13  ",
      "text/html": "<div>\n<style scoped>\n    .dataframe tbody tr th:only-of-type {\n        vertical-align: middle;\n    }\n\n    .dataframe tbody tr th {\n        vertical-align: top;\n    }\n\n    .dataframe thead th {\n        text-align: right;\n    }\n</style>\n<table border=\"1\" class=\"dataframe\">\n  <thead>\n    <tr style=\"text-align: right;\">\n      <th></th>\n      <th>Title</th>\n      <th>Movie Info</th>\n      <th>Distributor</th>\n      <th>Release Date</th>\n      <th>Domestic Sales (in $)</th>\n      <th>International Sales (in $)</th>\n      <th>World Sales (in $)</th>\n      <th>Genre</th>\n      <th>Movie Runtime</th>\n      <th>License</th>\n    </tr>\n  </thead>\n  <tbody>\n    <tr>\n      <th>0</th>\n      <td>Star Wars: Episode VII - The Force Awakens (2015)</td>\n      <td>As a new threat to the galaxy rises, Rey, a de...</td>\n      <td>Walt Disney Studios Motion Pictures</td>\n      <td>December 16, 2015</td>\n      <td>936662225</td>\n      <td>1132859475</td>\n      <td>2069521700</td>\n      <td>['Action', 'Adventure', 'Sci-Fi']</td>\n      <td>2 hr 18 min</td>\n      <td>PG-13</td>\n    </tr>\n    <tr>\n      <th>1</th>\n      <td>Avengers: Endgame (2019)</td>\n      <td>After the devastating events of Avengers: Infi...</td>\n      <td>Walt Disney Studios Motion Pictures</td>\n      <td>April 24, 2019</td>\n      <td>858373000</td>\n      <td>1939128328</td>\n      <td>2797501328</td>\n      <td>['Action', 'Adventure', 'Drama', 'Sci-Fi']</td>\n      <td>3 hr 1 min</td>\n      <td>PG-13</td>\n    </tr>\n    <tr>\n      <th>2</th>\n      <td>Avatar (2009)</td>\n      <td>A paraplegic Marine dispatched to the moon Pan...</td>\n      <td>Twentieth Century Fox</td>\n      <td>December 16, 2009</td>\n      <td>760507625</td>\n      <td>2086738578</td>\n      <td>2847246203</td>\n      <td>['Action', 'Adventure', 'Fantasy', 'Sci-Fi']</td>\n      <td>2 hr 42 min</td>\n      <td>PG-13</td>\n    </tr>\n    <tr>\n      <th>4</th>\n      <td>Avengers: Infinity War (2018)</td>\n      <td>The Avengers and their allies must be willing ...</td>\n      <td>Walt Disney Studios Motion Pictures</td>\n      <td>NaN</td>\n      <td>678815482</td>\n      <td>1369544272</td>\n      <td>2048359754</td>\n      <td>['Action', 'Adventure', 'Sci-Fi']</td>\n      <td>2 hr 29 min</td>\n      <td>NaN</td>\n    </tr>\n    <tr>\n      <th>6</th>\n      <td>Titanic (1997)</td>\n      <td>A seventeen-year-old aristocrat falls in love ...</td>\n      <td>Paramount Pictures</td>\n      <td>December 19, 1997</td>\n      <td>659363944</td>\n      <td>1542283320</td>\n      <td>2201647264</td>\n      <td>['Drama', 'Romance']</td>\n      <td>3 hr 14 min</td>\n      <td>PG-13</td>\n    </tr>\n  </tbody>\n</table>\n</div>"
     },
     "execution_count": 10,
     "metadata": {},
     "output_type": "execute_result"
    }
   ],
   "source": [
    "# 2.7 фильтрация набора данных по какому-либо условию\n",
    "# отсортируем фильмы таким образом, чтобы в результирующей выборке оказались фильмы с 0бщими сборами более 2 млрд.\n",
    "movies_df[movies_df[\"World Sales (in $)\"] > 2e9]"
   ],
   "metadata": {
    "collapsed": false,
    "pycharm": {
     "name": "#%%\n"
    }
   }
  },
  {
   "cell_type": "code",
   "execution_count": 11,
   "outputs": [
    {
     "name": "stdout",
     "output_type": "stream",
     "text": [
      "Title                           0\n",
      "Movie Info                      0\n",
      "Distributor                     0\n",
      "Release Date                  118\n",
      "Domestic Sales (in $)           0\n",
      "International Sales (in $)      0\n",
      "World Sales (in $)              0\n",
      "Genre                           0\n",
      "Movie Runtime                   0\n",
      "License                       174\n",
      "dtype: int64\n",
      "(918, 10)\n",
      "\n",
      "удаление строк с пустыми значениями\n",
      "Title                         0\n",
      "Movie Info                    0\n",
      "Distributor                   0\n",
      "Release Date                  0\n",
      "Domestic Sales (in $)         0\n",
      "International Sales (in $)    0\n",
      "World Sales (in $)            0\n",
      "Genre                         0\n",
      "Movie Runtime                 0\n",
      "License                       0\n",
      "dtype: int64\n",
      "(744, 10)\n",
      "\n",
      "удаление столбцов с пустыми значениями\n",
      "Title                         0\n",
      "Movie Info                    0\n",
      "Distributor                   0\n",
      "Domestic Sales (in $)         0\n",
      "International Sales (in $)    0\n",
      "World Sales (in $)            0\n",
      "Genre                         0\n",
      "Movie Runtime                 0\n",
      "dtype: int64\n",
      "(918, 8)\n"
     ]
    }
   ],
   "source": [
    "# 2.8. работа с пропущенными значениями (если они есть): удаление строк с пропущенными значениями, заполнение пропущенных значений средним значением по колонке. Если пропущенных\n",
    "# значений нет — намеренно их “генерируете”, прибивая какие-то куски данных в np.nan\n",
    "print(movies_df.isnull().sum())\n",
    "print(movies_df.shape)\n",
    "print(\"\\nудаление строк с пустыми значениями\")\n",
    "print(movies_df.dropna(axis=0).isnull().sum())\n",
    "print(movies_df.dropna(axis=0).shape)\n",
    "print(\"\\nудаление столбцов с пустыми значениями\")\n",
    "print(movies_df.dropna(axis=1).isnull().sum())\n",
    "print(movies_df.dropna(axis=1).shape)"
   ],
   "metadata": {
    "collapsed": false,
    "pycharm": {
     "name": "#%%\n"
    }
   }
  },
  {
   "cell_type": "code",
   "execution_count": 12,
   "outputs": [
    {
     "data": {
      "text/plain": "0      13\n1      13\n2      13\n3       6\n4       6\n       ..\n913    13\n914     6\n915    13\n916     0\n917     0\nName: LicenseNum, Length: 918, dtype: int32"
     },
     "execution_count": 12,
     "metadata": {},
     "output_type": "execute_result"
    }
   ],
   "source": [
    "# для замены преобразуем колонки, в которых есть пустые значения, так как эти признаки являются категориальными\n",
    "def get_age(license):\n",
    "    # выдает возраст в категории PG\n",
    "    if type(license) == str:\n",
    "        try:\n",
    "            return float(license.split(\"-\")[-1])\n",
    "        except ValueError:\n",
    "            return 0\n",
    "    else:\n",
    "        return float(license)\n",
    "\n",
    "# применяем ее к каждому элементу Series\n",
    "movies_df[\"LicenseNum\"] = movies_df[\"License\"].apply(get_age)\n",
    "# заполняем средним значением и преобразуем к int, так как это возраст\n",
    "movies_df[\"LicenseNum\"].fillna(int(movies_df[\"LicenseNum\"].mean())).astype(int)"
   ],
   "metadata": {
    "collapsed": false,
    "pycharm": {
     "name": "#%%\n"
    }
   }
  },
  {
   "cell_type": "code",
   "execution_count": 13,
   "outputs": [
    {
     "data": {
      "text/plain": "0       196197250\n1      1080755328\n2      1326230953\n3       -53255159\n4       690728790\n          ...    \n913     -44188417\n914     -58879928\n915      43445996\n916     -53779405\n917       9131073\nName: Difference Sales, Length: 918, dtype: int64"
     },
     "execution_count": 13,
     "metadata": {},
     "output_type": "execute_result"
    }
   ],
   "source": [
    "# 2.9. создание нового поля вычисленного на основе значений других полей:\n",
    "# 2.9.1 через выражение на базе имеющихся колонок,\n",
    "\n",
    "# найдем разность сборов вне и внутри США\n",
    "movies_df[\"Difference Sales\"] = movies_df[\"International Sales (in $)\"] - movies_df[\"Domestic Sales (in $)\"]\n",
    "movies_df[\"Difference Sales\"]"
   ],
   "metadata": {
    "collapsed": false,
    "pycharm": {
     "name": "#%%\n"
    }
   }
  },
  {
   "cell_type": "code",
   "execution_count": 14,
   "outputs": [
    {
     "data": {
      "text/plain": "International Sales (in $)    211271673867\nDomestic Sales (in $)         153991670668\nName: sum, dtype: int64"
     },
     "execution_count": 14,
     "metadata": {},
     "output_type": "execute_result"
    }
   ],
   "source": [
    "# 2.9.2 через DataFrame.apply\n",
    "\n",
    "sales_df = movies_df[[\"International Sales (in $)\", \"Domestic Sales (in $)\"]] # сделаем выборку из сборов вне и внутри США\n",
    "sales_df.apply(np.sum).rename(\"sum\") # найдем суммарные сборы внутри и вне США"
   ],
   "metadata": {
    "collapsed": false,
    "pycharm": {
     "name": "#%%\n"
    }
   }
  },
  {
   "cell_type": "code",
   "execution_count": 15,
   "outputs": [],
   "source": [
    "# 2.9.3 через Series.apply\n",
    "# вычислим время длительности фильма в минутах\n",
    "def get_film_time(time: str):\n",
    "    from datetime import datetime\n",
    "\n",
    "    try:\n",
    "        template_format = \"%H hr %M min\"\n",
    "        film_time = datetime.strptime(time, template_format)\n",
    "        return film_time.hour * 60 + film_time.minute\n",
    "    except ValueError:\n",
    "        template_format = \"%H hr\"\n",
    "        film_time = datetime.strptime(time, template_format)\n",
    "        return film_time.hour * 60\n",
    "\n",
    "movies_df[\"Movie Runtime, min\"] = movies_df[\"Movie Runtime\"].apply(get_film_time)"
   ],
   "metadata": {
    "collapsed": false,
    "pycharm": {
     "name": "#%%\n"
    }
   }
  },
  {
   "cell_type": "code",
   "execution_count": 16,
   "outputs": [
    {
     "data": {
      "text/plain": "                                                 Title  Movie Runtime, min\n0    Star Wars: Episode VII - The Force Awakens (2015)                 138\n1                             Avengers: Endgame (2019)                 181\n2                                        Avatar (2009)                 162\n3                                 Black Panther (2018)                 134\n4                        Avengers: Infinity War (2018)                 149\n..                                                 ...                 ...\n913                                The Notebook (2004)                 123\n914                   Jimmy Neutron: Boy Genius (2001)                  82\n915                               Eat Pray Love (2010)                 133\n916                 The Texas Chainsaw Massacre (2003)                  98\n917                                   Zookeeper (2011)                 102\n\n[918 rows x 2 columns]",
      "text/html": "<div>\n<style scoped>\n    .dataframe tbody tr th:only-of-type {\n        vertical-align: middle;\n    }\n\n    .dataframe tbody tr th {\n        vertical-align: top;\n    }\n\n    .dataframe thead th {\n        text-align: right;\n    }\n</style>\n<table border=\"1\" class=\"dataframe\">\n  <thead>\n    <tr style=\"text-align: right;\">\n      <th></th>\n      <th>Title</th>\n      <th>Movie Runtime, min</th>\n    </tr>\n  </thead>\n  <tbody>\n    <tr>\n      <th>0</th>\n      <td>Star Wars: Episode VII - The Force Awakens (2015)</td>\n      <td>138</td>\n    </tr>\n    <tr>\n      <th>1</th>\n      <td>Avengers: Endgame (2019)</td>\n      <td>181</td>\n    </tr>\n    <tr>\n      <th>2</th>\n      <td>Avatar (2009)</td>\n      <td>162</td>\n    </tr>\n    <tr>\n      <th>3</th>\n      <td>Black Panther (2018)</td>\n      <td>134</td>\n    </tr>\n    <tr>\n      <th>4</th>\n      <td>Avengers: Infinity War (2018)</td>\n      <td>149</td>\n    </tr>\n    <tr>\n      <th>...</th>\n      <td>...</td>\n      <td>...</td>\n    </tr>\n    <tr>\n      <th>913</th>\n      <td>The Notebook (2004)</td>\n      <td>123</td>\n    </tr>\n    <tr>\n      <th>914</th>\n      <td>Jimmy Neutron: Boy Genius (2001)</td>\n      <td>82</td>\n    </tr>\n    <tr>\n      <th>915</th>\n      <td>Eat Pray Love (2010)</td>\n      <td>133</td>\n    </tr>\n    <tr>\n      <th>916</th>\n      <td>The Texas Chainsaw Massacre (2003)</td>\n      <td>98</td>\n    </tr>\n    <tr>\n      <th>917</th>\n      <td>Zookeeper (2011)</td>\n      <td>102</td>\n    </tr>\n  </tbody>\n</table>\n<p>918 rows × 2 columns</p>\n</div>"
     },
     "execution_count": 16,
     "metadata": {},
     "output_type": "execute_result"
    }
   ],
   "source": [
    "movies_df[[\"Title\", \"Movie Runtime, min\"]]"
   ],
   "metadata": {
    "collapsed": false,
    "pycharm": {
     "name": "#%%\n"
    }
   }
  },
  {
   "cell_type": "code",
   "execution_count": 17,
   "outputs": [
    {
     "data": {
      "text/plain": "                                                 Title  \\\n2                                        Avatar (2009)   \n1                             Avengers: Endgame (2019)   \n6                                       Titanic (1997)   \n0    Star Wars: Episode VII - The Force Awakens (2015)   \n4                        Avengers: Infinity War (2018)   \n..                                                 ...   \n831         The Naked Gun 2½: The Smell of Fear (1991)   \n874                          I Can Only Imagine (2018)   \n847                                     Stripes (1981)   \n888               Star Trek: The Motion Picture (1979)   \n903                                        MASH (1970)   \n\n                                            Movie Info  \\\n2    A paraplegic Marine dispatched to the moon Pan...   \n1    After the devastating events of Avengers: Infi...   \n6    A seventeen-year-old aristocrat falls in love ...   \n0    As a new threat to the galaxy rises, Rey, a de...   \n4    The Avengers and their allies must be willing ...   \n..                                                 ...   \n831  Lieutenant Frank Drebin discovers that his ex-...   \n874  The inspiring and unknown true story behind Me...   \n847  Two friends who are dissatisfied with their jo...   \n888  When an alien spacecraft of enormous power is ...   \n903  The staff of a Korean War field hospital use h...   \n\n                             Distributor       Release Date  \\\n2                  Twentieth Century Fox  December 16, 2009   \n1    Walt Disney Studios Motion Pictures     April 24, 2019   \n6                     Paramount Pictures  December 19, 1997   \n0    Walt Disney Studios Motion Pictures  December 16, 2015   \n4    Walt Disney Studios Motion Pictures                NaN   \n..                                   ...                ...   \n831                   Paramount Pictures      June 28, 1991   \n874                 Roadside Attractions     March 15, 2018   \n847                    Columbia Pictures                NaN   \n888                   Paramount Pictures   December 7, 1979   \n903                Twentieth Century Fox                NaN   \n\n     Domestic Sales (in $)  International Sales (in $)  World Sales (in $)  \\\n2                760507625                  2086738578          2847246203   \n1                858373000                  1939128328          2797501328   \n6                659363944                  1542283320          2201647264   \n0                936662225                  1132859475          2069521700   \n4                678815482                  1369544272          2048359754   \n..                     ...                         ...                 ...   \n831               86930411                    86930411            86930411   \n874               83482352                     2604529            86086881   \n847               85297000                    85297000            85297000   \n888               82604699                    82604699            82604699   \n903               81600000                    81600000            81600000   \n\n                                            Genre Movie Runtime License  \\\n2    ['Action', 'Adventure', 'Fantasy', 'Sci-Fi']   2 hr 42 min   PG-13   \n1      ['Action', 'Adventure', 'Drama', 'Sci-Fi']    3 hr 1 min   PG-13   \n6                            ['Drama', 'Romance']   3 hr 14 min   PG-13   \n0               ['Action', 'Adventure', 'Sci-Fi']   2 hr 18 min   PG-13   \n4               ['Action', 'Adventure', 'Sci-Fi']   2 hr 29 min     NaN   \n..                                            ...           ...     ...   \n831                           ['Comedy', 'Crime']   1 hr 25 min     NaN   \n874     ['Biography', 'Drama', 'Family', 'Music']   1 hr 50 min      PG   \n847                             ['Comedy', 'War']   1 hr 46 min     NaN   \n888            ['Adventure', 'Mystery', 'Sci-Fi']   2 hr 12 min       G   \n903                    ['Comedy', 'Drama', 'War']   1 hr 56 min     NaN   \n\n     LicenseNum  Difference Sales  Movie Runtime, min  \n2          13.0        1326230953                 162  \n1          13.0        1080755328                 181  \n6          13.0         882919376                 194  \n0          13.0         196197250                 138  \n4           NaN         690728790                 149  \n..          ...               ...                 ...  \n831         NaN                 0                  85  \n874         0.0         -80877823                 110  \n847         NaN                 0                 106  \n888         0.0                 0                 132  \n903         NaN                 0                 116  \n\n[918 rows x 13 columns]",
      "text/html": "<div>\n<style scoped>\n    .dataframe tbody tr th:only-of-type {\n        vertical-align: middle;\n    }\n\n    .dataframe tbody tr th {\n        vertical-align: top;\n    }\n\n    .dataframe thead th {\n        text-align: right;\n    }\n</style>\n<table border=\"1\" class=\"dataframe\">\n  <thead>\n    <tr style=\"text-align: right;\">\n      <th></th>\n      <th>Title</th>\n      <th>Movie Info</th>\n      <th>Distributor</th>\n      <th>Release Date</th>\n      <th>Domestic Sales (in $)</th>\n      <th>International Sales (in $)</th>\n      <th>World Sales (in $)</th>\n      <th>Genre</th>\n      <th>Movie Runtime</th>\n      <th>License</th>\n      <th>LicenseNum</th>\n      <th>Difference Sales</th>\n      <th>Movie Runtime, min</th>\n    </tr>\n  </thead>\n  <tbody>\n    <tr>\n      <th>2</th>\n      <td>Avatar (2009)</td>\n      <td>A paraplegic Marine dispatched to the moon Pan...</td>\n      <td>Twentieth Century Fox</td>\n      <td>December 16, 2009</td>\n      <td>760507625</td>\n      <td>2086738578</td>\n      <td>2847246203</td>\n      <td>['Action', 'Adventure', 'Fantasy', 'Sci-Fi']</td>\n      <td>2 hr 42 min</td>\n      <td>PG-13</td>\n      <td>13.0</td>\n      <td>1326230953</td>\n      <td>162</td>\n    </tr>\n    <tr>\n      <th>1</th>\n      <td>Avengers: Endgame (2019)</td>\n      <td>After the devastating events of Avengers: Infi...</td>\n      <td>Walt Disney Studios Motion Pictures</td>\n      <td>April 24, 2019</td>\n      <td>858373000</td>\n      <td>1939128328</td>\n      <td>2797501328</td>\n      <td>['Action', 'Adventure', 'Drama', 'Sci-Fi']</td>\n      <td>3 hr 1 min</td>\n      <td>PG-13</td>\n      <td>13.0</td>\n      <td>1080755328</td>\n      <td>181</td>\n    </tr>\n    <tr>\n      <th>6</th>\n      <td>Titanic (1997)</td>\n      <td>A seventeen-year-old aristocrat falls in love ...</td>\n      <td>Paramount Pictures</td>\n      <td>December 19, 1997</td>\n      <td>659363944</td>\n      <td>1542283320</td>\n      <td>2201647264</td>\n      <td>['Drama', 'Romance']</td>\n      <td>3 hr 14 min</td>\n      <td>PG-13</td>\n      <td>13.0</td>\n      <td>882919376</td>\n      <td>194</td>\n    </tr>\n    <tr>\n      <th>0</th>\n      <td>Star Wars: Episode VII - The Force Awakens (2015)</td>\n      <td>As a new threat to the galaxy rises, Rey, a de...</td>\n      <td>Walt Disney Studios Motion Pictures</td>\n      <td>December 16, 2015</td>\n      <td>936662225</td>\n      <td>1132859475</td>\n      <td>2069521700</td>\n      <td>['Action', 'Adventure', 'Sci-Fi']</td>\n      <td>2 hr 18 min</td>\n      <td>PG-13</td>\n      <td>13.0</td>\n      <td>196197250</td>\n      <td>138</td>\n    </tr>\n    <tr>\n      <th>4</th>\n      <td>Avengers: Infinity War (2018)</td>\n      <td>The Avengers and their allies must be willing ...</td>\n      <td>Walt Disney Studios Motion Pictures</td>\n      <td>NaN</td>\n      <td>678815482</td>\n      <td>1369544272</td>\n      <td>2048359754</td>\n      <td>['Action', 'Adventure', 'Sci-Fi']</td>\n      <td>2 hr 29 min</td>\n      <td>NaN</td>\n      <td>NaN</td>\n      <td>690728790</td>\n      <td>149</td>\n    </tr>\n    <tr>\n      <th>...</th>\n      <td>...</td>\n      <td>...</td>\n      <td>...</td>\n      <td>...</td>\n      <td>...</td>\n      <td>...</td>\n      <td>...</td>\n      <td>...</td>\n      <td>...</td>\n      <td>...</td>\n      <td>...</td>\n      <td>...</td>\n      <td>...</td>\n    </tr>\n    <tr>\n      <th>831</th>\n      <td>The Naked Gun 2½: The Smell of Fear (1991)</td>\n      <td>Lieutenant Frank Drebin discovers that his ex-...</td>\n      <td>Paramount Pictures</td>\n      <td>June 28, 1991</td>\n      <td>86930411</td>\n      <td>86930411</td>\n      <td>86930411</td>\n      <td>['Comedy', 'Crime']</td>\n      <td>1 hr 25 min</td>\n      <td>NaN</td>\n      <td>NaN</td>\n      <td>0</td>\n      <td>85</td>\n    </tr>\n    <tr>\n      <th>874</th>\n      <td>I Can Only Imagine (2018)</td>\n      <td>The inspiring and unknown true story behind Me...</td>\n      <td>Roadside Attractions</td>\n      <td>March 15, 2018</td>\n      <td>83482352</td>\n      <td>2604529</td>\n      <td>86086881</td>\n      <td>['Biography', 'Drama', 'Family', 'Music']</td>\n      <td>1 hr 50 min</td>\n      <td>PG</td>\n      <td>0.0</td>\n      <td>-80877823</td>\n      <td>110</td>\n    </tr>\n    <tr>\n      <th>847</th>\n      <td>Stripes (1981)</td>\n      <td>Two friends who are dissatisfied with their jo...</td>\n      <td>Columbia Pictures</td>\n      <td>NaN</td>\n      <td>85297000</td>\n      <td>85297000</td>\n      <td>85297000</td>\n      <td>['Comedy', 'War']</td>\n      <td>1 hr 46 min</td>\n      <td>NaN</td>\n      <td>NaN</td>\n      <td>0</td>\n      <td>106</td>\n    </tr>\n    <tr>\n      <th>888</th>\n      <td>Star Trek: The Motion Picture (1979)</td>\n      <td>When an alien spacecraft of enormous power is ...</td>\n      <td>Paramount Pictures</td>\n      <td>December 7, 1979</td>\n      <td>82604699</td>\n      <td>82604699</td>\n      <td>82604699</td>\n      <td>['Adventure', 'Mystery', 'Sci-Fi']</td>\n      <td>2 hr 12 min</td>\n      <td>G</td>\n      <td>0.0</td>\n      <td>0</td>\n      <td>132</td>\n    </tr>\n    <tr>\n      <th>903</th>\n      <td>MASH (1970)</td>\n      <td>The staff of a Korean War field hospital use h...</td>\n      <td>Twentieth Century Fox</td>\n      <td>NaN</td>\n      <td>81600000</td>\n      <td>81600000</td>\n      <td>81600000</td>\n      <td>['Comedy', 'Drama', 'War']</td>\n      <td>1 hr 56 min</td>\n      <td>NaN</td>\n      <td>NaN</td>\n      <td>0</td>\n      <td>116</td>\n    </tr>\n  </tbody>\n</table>\n<p>918 rows × 13 columns</p>\n</div>"
     },
     "execution_count": 17,
     "metadata": {},
     "output_type": "execute_result"
    }
   ],
   "source": [
    "# 2.10 сортировка по какому-либо из полей\n",
    "# отсортируем фильмы по общим сборам в порядке убывания\n",
    "\n",
    "movies_df.sort_values(by=[\"World Sales (in $)\"], ascending=False)"
   ],
   "metadata": {
    "collapsed": false,
    "pycharm": {
     "name": "#%%\n"
    }
   }
  },
  {
   "cell_type": "code",
   "execution_count": 18,
   "outputs": [
    {
     "name": "stdout",
     "output_type": "stream",
     "text": [
      "Самые высокие сборы фильма: 2847246203\n",
      "Самые низкие сборы фильма: 81600000\n",
      "Средняя длительность фильма: 116.57 min\n",
      "Дисперсия длительности фильма: 435.8 min\n"
     ]
    }
   ],
   "source": [
    "# 2.11 вычислить несколько статистик по колонкам (используйте встроенные агрегатные функции — любые на выбор)\n",
    "\n",
    "print(f\"Самые высокие сборы фильма: {movies_df['World Sales (in $)'].max()}\")\n",
    "print(f\"Самые низкие сборы фильма: {movies_df['World Sales (in $)'].min()}\")\n",
    "print(f\"Средняя длительность фильма: {round(movies_df['Movie Runtime, min'].mean(), 2)} min\")\n",
    "print(f\"Дисперсия длительности фильма: {round(movies_df['Movie Runtime, min'].var(), 2)} min\")"
   ],
   "metadata": {
    "collapsed": false,
    "pycharm": {
     "name": "#%%\n"
    }
   }
  },
  {
   "cell_type": "code",
   "execution_count": 19,
   "outputs": [
    {
     "data": {
      "text/plain": "PG-13    363\nR        194\nPG       173\nG         14\nName: License, dtype: int64"
     },
     "execution_count": 19,
     "metadata": {},
     "output_type": "execute_result"
    }
   ],
   "source": [
    "# 2.12 .value_counts()\n",
    "movies_df[\"License\"].value_counts()"
   ],
   "metadata": {
    "collapsed": false,
    "pycharm": {
     "name": "#%%\n"
    }
   }
  },
  {
   "cell_type": "code",
   "execution_count": 20,
   "outputs": [
    {
     "data": {
      "text/plain": "array(['PG-13', nan, 'PG', 'G', 'R'], dtype=object)"
     },
     "execution_count": 20,
     "metadata": {},
     "output_type": "execute_result"
    }
   ],
   "source": [
    "# 2.13 Вывод уникальных значений колонки через .unique()\n",
    "movies_df[\"License\"].unique()"
   ],
   "metadata": {
    "collapsed": false,
    "pycharm": {
     "name": "#%%\n"
    }
   }
  },
  {
   "cell_type": "code",
   "execution_count": 21,
   "outputs": [
    {
     "name": "stdout",
     "output_type": "stream",
     "text": [
      "Title                         918\n",
      "Movie Info                    918\n",
      "Distributor                    34\n",
      "Release Date                  740\n",
      "Domestic Sales (in $)         918\n",
      "International Sales (in $)    913\n",
      "World Sales (in $)            918\n",
      "Genre                         309\n",
      "Movie Runtime                 101\n",
      "License                         4\n",
      "LicenseNum                      2\n",
      "Difference Sales              907\n",
      "Movie Runtime, min            101\n",
      "dtype: int64\n",
      "(918, 13)\n"
     ]
    }
   ],
   "source": [
    "# 2.14 Удалите текущий индекс и создайте новый индекс на базе новой колонки, которая для этого лучше всего подходит\n",
    "print(movies_df.nunique())\n",
    "print(movies_df.shape)"
   ],
   "metadata": {
    "collapsed": false,
    "pycharm": {
     "name": "#%%\n"
    }
   }
  },
  {
   "cell_type": "code",
   "execution_count": 22,
   "outputs": [
    {
     "data": {
      "text/plain": "                                                                                          Movie Info  \\\nTitle                                                                                                  \nStar Wars: Episode VII - The Force Awakens (2015)  As a new threat to the galaxy rises, Rey, a de...   \nAvengers: Endgame (2019)                           After the devastating events of Avengers: Infi...   \nAvatar (2009)                                      A paraplegic Marine dispatched to the moon Pan...   \nBlack Panther (2018)                               T'Challa, heir to the hidden but advanced king...   \nAvengers: Infinity War (2018)                      The Avengers and their allies must be willing ...   \n...                                                                                              ...   \nThe Notebook (2004)                                A poor yet passionate young man falls in love ...   \nJimmy Neutron: Boy Genius (2001)                   An eight-year-old boy genius and his friends m...   \nEat Pray Love (2010)                               A married woman realizes how unhappy her marri...   \nThe Texas Chainsaw Massacre (2003)                 After picking up a traumatized young hitchhike...   \nZookeeper (2011)                                   A group of zoo animals decide to break their c...   \n\n                                                                           Distributor  \\\nTitle                                                                                    \nStar Wars: Episode VII - The Force Awakens (2015)  Walt Disney Studios Motion Pictures   \nAvengers: Endgame (2019)                           Walt Disney Studios Motion Pictures   \nAvatar (2009)                                                    Twentieth Century Fox   \nBlack Panther (2018)                               Walt Disney Studios Motion Pictures   \nAvengers: Infinity War (2018)                      Walt Disney Studios Motion Pictures   \n...                                                                                ...   \nThe Notebook (2004)                                                    New Line Cinema   \nJimmy Neutron: Boy Genius (2001)                                    Paramount Pictures   \nEat Pray Love (2010)                                 Sony Pictures Entertainment (SPE)   \nThe Texas Chainsaw Massacre (2003)                                     New Line Cinema   \nZookeeper (2011)                                     Sony Pictures Entertainment (SPE)   \n\n                                                        Release Date  \\\nTitle                                                                  \nStar Wars: Episode VII - The Force Awakens (2015)  December 16, 2015   \nAvengers: Endgame (2019)                              April 24, 2019   \nAvatar (2009)                                      December 16, 2009   \nBlack Panther (2018)                                             NaN   \nAvengers: Infinity War (2018)                                    NaN   \n...                                                              ...   \nThe Notebook (2004)                                    June 25, 2004   \nJimmy Neutron: Boy Genius (2001)                   December 21, 2001   \nEat Pray Love (2010)                                 August 13, 2010   \nThe Texas Chainsaw Massacre (2003)                  October 17, 2003   \nZookeeper (2011)                                        July 6, 2011   \n\n                                                   Domestic Sales (in $)  \\\nTitle                                                                      \nStar Wars: Episode VII - The Force Awakens (2015)              936662225   \nAvengers: Endgame (2019)                                       858373000   \nAvatar (2009)                                                  760507625   \nBlack Panther (2018)                                           700426566   \nAvengers: Infinity War (2018)                                  678815482   \n...                                                                  ...   \nThe Notebook (2004)                                             81001787   \nJimmy Neutron: Boy Genius (2001)                                80936232   \nEat Pray Love (2010)                                            80574010   \nThe Texas Chainsaw Massacre (2003)                              80571655   \nZookeeper (2011)                                                80360843   \n\n                                                   International Sales (in $)  \\\nTitle                                                                           \nStar Wars: Episode VII - The Force Awakens (2015)                  1132859475   \nAvengers: Endgame (2019)                                           1939128328   \nAvatar (2009)                                                      2086738578   \nBlack Panther (2018)                                                647171407   \nAvengers: Infinity War (2018)                                      1369544272   \n...                                                                       ...   \nThe Notebook (2004)                                                  36813370   \nJimmy Neutron: Boy Genius (2001)                                     22056304   \nEat Pray Love (2010)                                                124020006   \nThe Texas Chainsaw Massacre (2003)                                   26792250   \nZookeeper (2011)                                                     89491916   \n\n                                                   World Sales (in $)  \\\nTitle                                                                   \nStar Wars: Episode VII - The Force Awakens (2015)          2069521700   \nAvengers: Endgame (2019)                                   2797501328   \nAvatar (2009)                                              2847246203   \nBlack Panther (2018)                                       1347597973   \nAvengers: Infinity War (2018)                              2048359754   \n...                                                               ...   \nThe Notebook (2004)                                         117815157   \nJimmy Neutron: Boy Genius (2001)                            102992536   \nEat Pray Love (2010)                                        204594016   \nThe Texas Chainsaw Massacre (2003)                          107363905   \nZookeeper (2011)                                            169852759   \n\n                                                                                               Genre  \\\nTitle                                                                                                  \nStar Wars: Episode VII - The Force Awakens (2015)                  ['Action', 'Adventure', 'Sci-Fi']   \nAvengers: Endgame (2019)                                  ['Action', 'Adventure', 'Drama', 'Sci-Fi']   \nAvatar (2009)                                           ['Action', 'Adventure', 'Fantasy', 'Sci-Fi']   \nBlack Panther (2018)                                               ['Action', 'Adventure', 'Sci-Fi']   \nAvengers: Infinity War (2018)                                      ['Action', 'Adventure', 'Sci-Fi']   \n...                                                                                              ...   \nThe Notebook (2004)                                                             ['Drama', 'Romance']   \nJimmy Neutron: Boy Genius (2001)                   ['Action', 'Adventure', 'Animation', 'Comedy',...   \nEat Pray Love (2010)                                               ['Biography', 'Drama', 'Romance']   \nThe Texas Chainsaw Massacre (2003)                                               ['Crime', 'Horror']   \nZookeeper (2011)                                          ['Comedy', 'Family', 'Fantasy', 'Romance']   \n\n                                                  Movie Runtime License  \\\nTitle                                                                     \nStar Wars: Episode VII - The Force Awakens (2015)   2 hr 18 min   PG-13   \nAvengers: Endgame (2019)                             3 hr 1 min   PG-13   \nAvatar (2009)                                       2 hr 42 min   PG-13   \nBlack Panther (2018)                                2 hr 14 min     NaN   \nAvengers: Infinity War (2018)                       2 hr 29 min     NaN   \n...                                                         ...     ...   \nThe Notebook (2004)                                  2 hr 3 min   PG-13   \nJimmy Neutron: Boy Genius (2001)                    1 hr 22 min     NaN   \nEat Pray Love (2010)                                2 hr 13 min   PG-13   \nThe Texas Chainsaw Massacre (2003)                  1 hr 38 min       R   \nZookeeper (2011)                                    1 hr 42 min      PG   \n\n                                                   LicenseNum  \\\nTitle                                                           \nStar Wars: Episode VII - The Force Awakens (2015)        13.0   \nAvengers: Endgame (2019)                                 13.0   \nAvatar (2009)                                            13.0   \nBlack Panther (2018)                                      NaN   \nAvengers: Infinity War (2018)                             NaN   \n...                                                       ...   \nThe Notebook (2004)                                      13.0   \nJimmy Neutron: Boy Genius (2001)                          NaN   \nEat Pray Love (2010)                                     13.0   \nThe Texas Chainsaw Massacre (2003)                        0.0   \nZookeeper (2011)                                          0.0   \n\n                                                   Difference Sales  \\\nTitle                                                                 \nStar Wars: Episode VII - The Force Awakens (2015)         196197250   \nAvengers: Endgame (2019)                                 1080755328   \nAvatar (2009)                                            1326230953   \nBlack Panther (2018)                                      -53255159   \nAvengers: Infinity War (2018)                             690728790   \n...                                                             ...   \nThe Notebook (2004)                                       -44188417   \nJimmy Neutron: Boy Genius (2001)                          -58879928   \nEat Pray Love (2010)                                       43445996   \nThe Texas Chainsaw Massacre (2003)                        -53779405   \nZookeeper (2011)                                            9131073   \n\n                                                   Movie Runtime, min  \nTitle                                                                  \nStar Wars: Episode VII - The Force Awakens (2015)                 138  \nAvengers: Endgame (2019)                                          181  \nAvatar (2009)                                                     162  \nBlack Panther (2018)                                              134  \nAvengers: Infinity War (2018)                                     149  \n...                                                               ...  \nThe Notebook (2004)                                               123  \nJimmy Neutron: Boy Genius (2001)                                   82  \nEat Pray Love (2010)                                              133  \nThe Texas Chainsaw Massacre (2003)                                 98  \nZookeeper (2011)                                                  102  \n\n[918 rows x 12 columns]",
      "text/html": "<div>\n<style scoped>\n    .dataframe tbody tr th:only-of-type {\n        vertical-align: middle;\n    }\n\n    .dataframe tbody tr th {\n        vertical-align: top;\n    }\n\n    .dataframe thead th {\n        text-align: right;\n    }\n</style>\n<table border=\"1\" class=\"dataframe\">\n  <thead>\n    <tr style=\"text-align: right;\">\n      <th></th>\n      <th>Movie Info</th>\n      <th>Distributor</th>\n      <th>Release Date</th>\n      <th>Domestic Sales (in $)</th>\n      <th>International Sales (in $)</th>\n      <th>World Sales (in $)</th>\n      <th>Genre</th>\n      <th>Movie Runtime</th>\n      <th>License</th>\n      <th>LicenseNum</th>\n      <th>Difference Sales</th>\n      <th>Movie Runtime, min</th>\n    </tr>\n    <tr>\n      <th>Title</th>\n      <th></th>\n      <th></th>\n      <th></th>\n      <th></th>\n      <th></th>\n      <th></th>\n      <th></th>\n      <th></th>\n      <th></th>\n      <th></th>\n      <th></th>\n      <th></th>\n    </tr>\n  </thead>\n  <tbody>\n    <tr>\n      <th>Star Wars: Episode VII - The Force Awakens (2015)</th>\n      <td>As a new threat to the galaxy rises, Rey, a de...</td>\n      <td>Walt Disney Studios Motion Pictures</td>\n      <td>December 16, 2015</td>\n      <td>936662225</td>\n      <td>1132859475</td>\n      <td>2069521700</td>\n      <td>['Action', 'Adventure', 'Sci-Fi']</td>\n      <td>2 hr 18 min</td>\n      <td>PG-13</td>\n      <td>13.0</td>\n      <td>196197250</td>\n      <td>138</td>\n    </tr>\n    <tr>\n      <th>Avengers: Endgame (2019)</th>\n      <td>After the devastating events of Avengers: Infi...</td>\n      <td>Walt Disney Studios Motion Pictures</td>\n      <td>April 24, 2019</td>\n      <td>858373000</td>\n      <td>1939128328</td>\n      <td>2797501328</td>\n      <td>['Action', 'Adventure', 'Drama', 'Sci-Fi']</td>\n      <td>3 hr 1 min</td>\n      <td>PG-13</td>\n      <td>13.0</td>\n      <td>1080755328</td>\n      <td>181</td>\n    </tr>\n    <tr>\n      <th>Avatar (2009)</th>\n      <td>A paraplegic Marine dispatched to the moon Pan...</td>\n      <td>Twentieth Century Fox</td>\n      <td>December 16, 2009</td>\n      <td>760507625</td>\n      <td>2086738578</td>\n      <td>2847246203</td>\n      <td>['Action', 'Adventure', 'Fantasy', 'Sci-Fi']</td>\n      <td>2 hr 42 min</td>\n      <td>PG-13</td>\n      <td>13.0</td>\n      <td>1326230953</td>\n      <td>162</td>\n    </tr>\n    <tr>\n      <th>Black Panther (2018)</th>\n      <td>T'Challa, heir to the hidden but advanced king...</td>\n      <td>Walt Disney Studios Motion Pictures</td>\n      <td>NaN</td>\n      <td>700426566</td>\n      <td>647171407</td>\n      <td>1347597973</td>\n      <td>['Action', 'Adventure', 'Sci-Fi']</td>\n      <td>2 hr 14 min</td>\n      <td>NaN</td>\n      <td>NaN</td>\n      <td>-53255159</td>\n      <td>134</td>\n    </tr>\n    <tr>\n      <th>Avengers: Infinity War (2018)</th>\n      <td>The Avengers and their allies must be willing ...</td>\n      <td>Walt Disney Studios Motion Pictures</td>\n      <td>NaN</td>\n      <td>678815482</td>\n      <td>1369544272</td>\n      <td>2048359754</td>\n      <td>['Action', 'Adventure', 'Sci-Fi']</td>\n      <td>2 hr 29 min</td>\n      <td>NaN</td>\n      <td>NaN</td>\n      <td>690728790</td>\n      <td>149</td>\n    </tr>\n    <tr>\n      <th>...</th>\n      <td>...</td>\n      <td>...</td>\n      <td>...</td>\n      <td>...</td>\n      <td>...</td>\n      <td>...</td>\n      <td>...</td>\n      <td>...</td>\n      <td>...</td>\n      <td>...</td>\n      <td>...</td>\n      <td>...</td>\n    </tr>\n    <tr>\n      <th>The Notebook (2004)</th>\n      <td>A poor yet passionate young man falls in love ...</td>\n      <td>New Line Cinema</td>\n      <td>June 25, 2004</td>\n      <td>81001787</td>\n      <td>36813370</td>\n      <td>117815157</td>\n      <td>['Drama', 'Romance']</td>\n      <td>2 hr 3 min</td>\n      <td>PG-13</td>\n      <td>13.0</td>\n      <td>-44188417</td>\n      <td>123</td>\n    </tr>\n    <tr>\n      <th>Jimmy Neutron: Boy Genius (2001)</th>\n      <td>An eight-year-old boy genius and his friends m...</td>\n      <td>Paramount Pictures</td>\n      <td>December 21, 2001</td>\n      <td>80936232</td>\n      <td>22056304</td>\n      <td>102992536</td>\n      <td>['Action', 'Adventure', 'Animation', 'Comedy',...</td>\n      <td>1 hr 22 min</td>\n      <td>NaN</td>\n      <td>NaN</td>\n      <td>-58879928</td>\n      <td>82</td>\n    </tr>\n    <tr>\n      <th>Eat Pray Love (2010)</th>\n      <td>A married woman realizes how unhappy her marri...</td>\n      <td>Sony Pictures Entertainment (SPE)</td>\n      <td>August 13, 2010</td>\n      <td>80574010</td>\n      <td>124020006</td>\n      <td>204594016</td>\n      <td>['Biography', 'Drama', 'Romance']</td>\n      <td>2 hr 13 min</td>\n      <td>PG-13</td>\n      <td>13.0</td>\n      <td>43445996</td>\n      <td>133</td>\n    </tr>\n    <tr>\n      <th>The Texas Chainsaw Massacre (2003)</th>\n      <td>After picking up a traumatized young hitchhike...</td>\n      <td>New Line Cinema</td>\n      <td>October 17, 2003</td>\n      <td>80571655</td>\n      <td>26792250</td>\n      <td>107363905</td>\n      <td>['Crime', 'Horror']</td>\n      <td>1 hr 38 min</td>\n      <td>R</td>\n      <td>0.0</td>\n      <td>-53779405</td>\n      <td>98</td>\n    </tr>\n    <tr>\n      <th>Zookeeper (2011)</th>\n      <td>A group of zoo animals decide to break their c...</td>\n      <td>Sony Pictures Entertainment (SPE)</td>\n      <td>July 6, 2011</td>\n      <td>80360843</td>\n      <td>89491916</td>\n      <td>169852759</td>\n      <td>['Comedy', 'Family', 'Fantasy', 'Romance']</td>\n      <td>1 hr 42 min</td>\n      <td>PG</td>\n      <td>0.0</td>\n      <td>9131073</td>\n      <td>102</td>\n    </tr>\n  </tbody>\n</table>\n<p>918 rows × 12 columns</p>\n</div>"
     },
     "execution_count": 22,
     "metadata": {},
     "output_type": "execute_result"
    }
   ],
   "source": [
    "# следовательно индексом может служить Title\n",
    "title_movie_df = movies_df.drop([\"Title\"], axis=1).copy()\n",
    "title_movie_df.index = movies_df[\"Title\"]\n",
    "title_movie_df"
   ],
   "metadata": {
    "collapsed": false,
    "pycharm": {
     "name": "#%%\n"
    }
   }
  },
  {
   "cell_type": "markdown",
   "source": [
    "*3 Продемонстрировать работу .groupby, на основе группировок в groupby вычисляете агрегатные функции по одной или нескольким колонкам. Какую информацию о данных вы получили, выполнив данную операцию? Запишите ответ в комментариях.*"
   ],
   "metadata": {
    "collapsed": false,
    "pycharm": {
     "name": "#%% md\n"
    }
   }
  },
  {
   "cell_type": "code",
   "execution_count": 36,
   "outputs": [
    {
     "data": {
      "text/plain": "         World Sales (in $)  Movie Runtime, min\nLicense                                        \nG              4.571743e+08           99.857143\nPG             4.351388e+08          104.080925\nPG-13          4.560666e+08          121.754821\nR              2.822236e+08          121.505155",
      "text/html": "<div>\n<style scoped>\n    .dataframe tbody tr th:only-of-type {\n        vertical-align: middle;\n    }\n\n    .dataframe tbody tr th {\n        vertical-align: top;\n    }\n\n    .dataframe thead th {\n        text-align: right;\n    }\n</style>\n<table border=\"1\" class=\"dataframe\">\n  <thead>\n    <tr style=\"text-align: right;\">\n      <th></th>\n      <th>World Sales (in $)</th>\n      <th>Movie Runtime, min</th>\n    </tr>\n    <tr>\n      <th>License</th>\n      <th></th>\n      <th></th>\n    </tr>\n  </thead>\n  <tbody>\n    <tr>\n      <th>G</th>\n      <td>4.571743e+08</td>\n      <td>99.857143</td>\n    </tr>\n    <tr>\n      <th>PG</th>\n      <td>4.351388e+08</td>\n      <td>104.080925</td>\n    </tr>\n    <tr>\n      <th>PG-13</th>\n      <td>4.560666e+08</td>\n      <td>121.754821</td>\n    </tr>\n    <tr>\n      <th>R</th>\n      <td>2.822236e+08</td>\n      <td>121.505155</td>\n    </tr>\n  </tbody>\n</table>\n</div>"
     },
     "execution_count": 36,
     "metadata": {},
     "output_type": "execute_result"
    }
   ],
   "source": [
    "rating_sales = movies_df[[\"License\", \"World Sales (in $)\", \"Movie Runtime, min\"]] # выберем возрастной рейтинг, общие сборы фильма и длительность\n",
    "aggr_rating_sales = rating_sales.groupby([\"License\"]).mean() # найдем средние сборы фильмов и длительность в зависимости от рейтинга возрастного\n",
    "aggr_rating_sales"
   ],
   "metadata": {
    "collapsed": false,
    "pycharm": {
     "name": "#%%\n"
    }
   }
  },
  {
   "cell_type": "markdown",
   "source": [
    "Как можно видеть, чем строже рейтинг фильма возрастной, тем меньше его мировые сборы."
   ],
   "metadata": {
    "collapsed": false,
    "pycharm": {
     "name": "#%% md\n"
    }
   }
  },
  {
   "cell_type": "markdown",
   "source": [
    "*4 Решейпинг данных 1Dto2D с помощью .pivot (можно подать на вход результаты агрегатов, полученных ранее через .groupby (сгруппировать по двум полям), либо прекрасно заходит сюда данные из SQL сгруппированные предварительно по 2-м полям). Какую информацию о данных вы получили, выполнив данную операцию? Запишите ответ в комментариях.*"
   ],
   "metadata": {
    "collapsed": false,
    "pycharm": {
     "name": "#%% md\n"
    }
   }
  },
  {
   "cell_type": "code",
   "execution_count": 52,
   "outputs": [],
   "source": [
    "runtime_sales_df = movies_df[[\"License\", \"World Sales (in $)\", \"Movie Runtime, min\"]].copy()\n",
    "runtime_sales_df[\"Runtime more 2 hours\"] = runtime_sales_df[\"Movie Runtime, min\"] > 2 * 60\n",
    "runtime_sales_df = runtime_sales_df.drop(\"Movie Runtime, min\", axis=1)"
   ],
   "metadata": {
    "collapsed": false,
    "pycharm": {
     "name": "#%%\n"
    }
   }
  },
  {
   "cell_type": "code",
   "execution_count": 57,
   "outputs": [
    {
     "data": {
      "text/plain": "                     World Sales (in $)              \nRuntime more 2 hours              False          True\nLicense                                              \nG                          4.859873e+08  8.260470e+07\nPG                         4.122324e+08  5.488810e+08\nPG-13                      3.061320e+08  6.051775e+08\nR                          2.508109e+08  3.208577e+08",
      "text/html": "<div>\n<style scoped>\n    .dataframe tbody tr th:only-of-type {\n        vertical-align: middle;\n    }\n\n    .dataframe tbody tr th {\n        vertical-align: top;\n    }\n\n    .dataframe thead tr th {\n        text-align: left;\n    }\n\n    .dataframe thead tr:last-of-type th {\n        text-align: right;\n    }\n</style>\n<table border=\"1\" class=\"dataframe\">\n  <thead>\n    <tr>\n      <th></th>\n      <th colspan=\"2\" halign=\"left\">World Sales (in $)</th>\n    </tr>\n    <tr>\n      <th>Runtime more 2 hours</th>\n      <th>False</th>\n      <th>True</th>\n    </tr>\n    <tr>\n      <th>License</th>\n      <th></th>\n      <th></th>\n    </tr>\n  </thead>\n  <tbody>\n    <tr>\n      <th>G</th>\n      <td>4.859873e+08</td>\n      <td>8.260470e+07</td>\n    </tr>\n    <tr>\n      <th>PG</th>\n      <td>4.122324e+08</td>\n      <td>5.488810e+08</td>\n    </tr>\n    <tr>\n      <th>PG-13</th>\n      <td>3.061320e+08</td>\n      <td>6.051775e+08</td>\n    </tr>\n    <tr>\n      <th>R</th>\n      <td>2.508109e+08</td>\n      <td>3.208577e+08</td>\n    </tr>\n  </tbody>\n</table>\n</div>"
     },
     "execution_count": 57,
     "metadata": {},
     "output_type": "execute_result"
    }
   ],
   "source": [
    "runtime_sales_df.groupby([\"License\", \"Runtime more 2 hours\"], as_index=False).mean().pivot(index=\"License\", columns=\"Runtime more 2 hours\")"
   ],
   "metadata": {
    "collapsed": false,
    "pycharm": {
     "name": "#%%\n"
    }
   }
  },
  {
   "cell_type": "markdown",
   "source": [
    "В данной таблице видно, что чем выше рейтинг, тем более популярнее фильмы с длительностьтю более 2 часов."
   ],
   "metadata": {
    "collapsed": false,
    "pycharm": {
     "name": "#%% md\n"
    }
   }
  },
  {
   "cell_type": "markdown",
   "source": [
    "*5 Решейпинг 1Dto2D данных соединённый с группировкой / агрегацией (одним словом — сводная таблица): .pivot_table. Группируем только по категориальным полям или числовым, если уверены, что значений немного! Если значений много, можете вначале из загрубить (см. (2.9.) либо (7)). Перед тем как выполнять задание сформулируйте вопрос, на который собираетесь получить ответ с помощью сводной таблицы. Запишите этот вопрос в комментариях. Какую информацию о данных вы в результате получили? https://pbpython.com/pandas-pivot-table-explained.html*"
   ],
   "metadata": {
    "collapsed": false,
    "pycharm": {
     "name": "#%% md\n"
    }
   }
  },
  {
   "cell_type": "code",
   "execution_count": 59,
   "outputs": [
    {
     "data": {
      "text/plain": "                                                 Title  \\\n0    Star Wars: Episode VII - The Force Awakens (2015)   \n1                             Avengers: Endgame (2019)   \n2                                        Avatar (2009)   \n3                                 Black Panther (2018)   \n4                        Avengers: Infinity War (2018)   \n..                                                 ...   \n913                                The Notebook (2004)   \n914                   Jimmy Neutron: Boy Genius (2001)   \n915                               Eat Pray Love (2010)   \n916                 The Texas Chainsaw Massacre (2003)   \n917                                   Zookeeper (2011)   \n\n                                            Movie Info  \\\n0    As a new threat to the galaxy rises, Rey, a de...   \n1    After the devastating events of Avengers: Infi...   \n2    A paraplegic Marine dispatched to the moon Pan...   \n3    T'Challa, heir to the hidden but advanced king...   \n4    The Avengers and their allies must be willing ...   \n..                                                 ...   \n913  A poor yet passionate young man falls in love ...   \n914  An eight-year-old boy genius and his friends m...   \n915  A married woman realizes how unhappy her marri...   \n916  After picking up a traumatized young hitchhike...   \n917  A group of zoo animals decide to break their c...   \n\n                             Distributor       Release Date  \\\n0    Walt Disney Studios Motion Pictures  December 16, 2015   \n1    Walt Disney Studios Motion Pictures     April 24, 2019   \n2                  Twentieth Century Fox  December 16, 2009   \n3    Walt Disney Studios Motion Pictures                NaN   \n4    Walt Disney Studios Motion Pictures                NaN   \n..                                   ...                ...   \n913                      New Line Cinema      June 25, 2004   \n914                   Paramount Pictures  December 21, 2001   \n915    Sony Pictures Entertainment (SPE)    August 13, 2010   \n916                      New Line Cinema   October 17, 2003   \n917    Sony Pictures Entertainment (SPE)       July 6, 2011   \n\n     Domestic Sales (in $)  International Sales (in $)  World Sales (in $)  \\\n0                936662225                  1132859475          2069521700   \n1                858373000                  1939128328          2797501328   \n2                760507625                  2086738578          2847246203   \n3                700426566                   647171407          1347597973   \n4                678815482                  1369544272          2048359754   \n..                     ...                         ...                 ...   \n913               81001787                    36813370           117815157   \n914               80936232                    22056304           102992536   \n915               80574010                   124020006           204594016   \n916               80571655                    26792250           107363905   \n917               80360843                    89491916           169852759   \n\n                                                 Genre Movie Runtime License  \\\n0                    ['Action', 'Adventure', 'Sci-Fi']   2 hr 18 min   PG-13   \n1           ['Action', 'Adventure', 'Drama', 'Sci-Fi']    3 hr 1 min   PG-13   \n2         ['Action', 'Adventure', 'Fantasy', 'Sci-Fi']   2 hr 42 min   PG-13   \n3                    ['Action', 'Adventure', 'Sci-Fi']   2 hr 14 min     NaN   \n4                    ['Action', 'Adventure', 'Sci-Fi']   2 hr 29 min     NaN   \n..                                                 ...           ...     ...   \n913                               ['Drama', 'Romance']    2 hr 3 min   PG-13   \n914  ['Action', 'Adventure', 'Animation', 'Comedy',...   1 hr 22 min     NaN   \n915                  ['Biography', 'Drama', 'Romance']   2 hr 13 min   PG-13   \n916                                ['Crime', 'Horror']   1 hr 38 min       R   \n917         ['Comedy', 'Family', 'Fantasy', 'Romance']   1 hr 42 min      PG   \n\n     LicenseNum  Difference Sales  Movie Runtime, min  \\\n0          13.0         196197250                 138   \n1          13.0        1080755328                 181   \n2          13.0        1326230953                 162   \n3           NaN         -53255159                 134   \n4           NaN         690728790                 149   \n..          ...               ...                 ...   \n913        13.0         -44188417                 123   \n914         NaN         -58879928                  82   \n915        13.0          43445996                 133   \n916         0.0         -53779405                  98   \n917         0.0           9131073                 102   \n\n                                             GenreList  Year  \\\n0                          [Action, Adventure, Sci-Fi]  2015   \n1                   [Action, Adventure, Drama, Sci-Fi]  2019   \n2                 [Action, Adventure, Fantasy, Sci-Fi]  2009   \n3                          [Action, Adventure, Sci-Fi]  2018   \n4                          [Action, Adventure, Sci-Fi]  2018   \n..                                                 ...   ...   \n913                                   [Drama, Romance]  2004   \n914  [Action, Adventure, Animation, Comedy, Family,...  2001   \n915                        [Biography, Drama, Romance]  2010   \n916                                    [Crime, Horror]  2003   \n917                 [Comedy, Family, Fantasy, Romance]  2011   \n\n     Runtime more 2 hours  \n0                    True  \n1                    True  \n2                    True  \n3                    True  \n4                    True  \n..                    ...  \n913                  True  \n914                 False  \n915                  True  \n916                 False  \n917                 False  \n\n[918 rows x 16 columns]",
      "text/html": "<div>\n<style scoped>\n    .dataframe tbody tr th:only-of-type {\n        vertical-align: middle;\n    }\n\n    .dataframe tbody tr th {\n        vertical-align: top;\n    }\n\n    .dataframe thead th {\n        text-align: right;\n    }\n</style>\n<table border=\"1\" class=\"dataframe\">\n  <thead>\n    <tr style=\"text-align: right;\">\n      <th></th>\n      <th>Title</th>\n      <th>Movie Info</th>\n      <th>Distributor</th>\n      <th>Release Date</th>\n      <th>Domestic Sales (in $)</th>\n      <th>International Sales (in $)</th>\n      <th>World Sales (in $)</th>\n      <th>Genre</th>\n      <th>Movie Runtime</th>\n      <th>License</th>\n      <th>LicenseNum</th>\n      <th>Difference Sales</th>\n      <th>Movie Runtime, min</th>\n      <th>GenreList</th>\n      <th>Year</th>\n      <th>Runtime more 2 hours</th>\n    </tr>\n  </thead>\n  <tbody>\n    <tr>\n      <th>0</th>\n      <td>Star Wars: Episode VII - The Force Awakens (2015)</td>\n      <td>As a new threat to the galaxy rises, Rey, a de...</td>\n      <td>Walt Disney Studios Motion Pictures</td>\n      <td>December 16, 2015</td>\n      <td>936662225</td>\n      <td>1132859475</td>\n      <td>2069521700</td>\n      <td>['Action', 'Adventure', 'Sci-Fi']</td>\n      <td>2 hr 18 min</td>\n      <td>PG-13</td>\n      <td>13.0</td>\n      <td>196197250</td>\n      <td>138</td>\n      <td>[Action, Adventure, Sci-Fi]</td>\n      <td>2015</td>\n      <td>True</td>\n    </tr>\n    <tr>\n      <th>1</th>\n      <td>Avengers: Endgame (2019)</td>\n      <td>After the devastating events of Avengers: Infi...</td>\n      <td>Walt Disney Studios Motion Pictures</td>\n      <td>April 24, 2019</td>\n      <td>858373000</td>\n      <td>1939128328</td>\n      <td>2797501328</td>\n      <td>['Action', 'Adventure', 'Drama', 'Sci-Fi']</td>\n      <td>3 hr 1 min</td>\n      <td>PG-13</td>\n      <td>13.0</td>\n      <td>1080755328</td>\n      <td>181</td>\n      <td>[Action, Adventure, Drama, Sci-Fi]</td>\n      <td>2019</td>\n      <td>True</td>\n    </tr>\n    <tr>\n      <th>2</th>\n      <td>Avatar (2009)</td>\n      <td>A paraplegic Marine dispatched to the moon Pan...</td>\n      <td>Twentieth Century Fox</td>\n      <td>December 16, 2009</td>\n      <td>760507625</td>\n      <td>2086738578</td>\n      <td>2847246203</td>\n      <td>['Action', 'Adventure', 'Fantasy', 'Sci-Fi']</td>\n      <td>2 hr 42 min</td>\n      <td>PG-13</td>\n      <td>13.0</td>\n      <td>1326230953</td>\n      <td>162</td>\n      <td>[Action, Adventure, Fantasy, Sci-Fi]</td>\n      <td>2009</td>\n      <td>True</td>\n    </tr>\n    <tr>\n      <th>3</th>\n      <td>Black Panther (2018)</td>\n      <td>T'Challa, heir to the hidden but advanced king...</td>\n      <td>Walt Disney Studios Motion Pictures</td>\n      <td>NaN</td>\n      <td>700426566</td>\n      <td>647171407</td>\n      <td>1347597973</td>\n      <td>['Action', 'Adventure', 'Sci-Fi']</td>\n      <td>2 hr 14 min</td>\n      <td>NaN</td>\n      <td>NaN</td>\n      <td>-53255159</td>\n      <td>134</td>\n      <td>[Action, Adventure, Sci-Fi]</td>\n      <td>2018</td>\n      <td>True</td>\n    </tr>\n    <tr>\n      <th>4</th>\n      <td>Avengers: Infinity War (2018)</td>\n      <td>The Avengers and their allies must be willing ...</td>\n      <td>Walt Disney Studios Motion Pictures</td>\n      <td>NaN</td>\n      <td>678815482</td>\n      <td>1369544272</td>\n      <td>2048359754</td>\n      <td>['Action', 'Adventure', 'Sci-Fi']</td>\n      <td>2 hr 29 min</td>\n      <td>NaN</td>\n      <td>NaN</td>\n      <td>690728790</td>\n      <td>149</td>\n      <td>[Action, Adventure, Sci-Fi]</td>\n      <td>2018</td>\n      <td>True</td>\n    </tr>\n    <tr>\n      <th>...</th>\n      <td>...</td>\n      <td>...</td>\n      <td>...</td>\n      <td>...</td>\n      <td>...</td>\n      <td>...</td>\n      <td>...</td>\n      <td>...</td>\n      <td>...</td>\n      <td>...</td>\n      <td>...</td>\n      <td>...</td>\n      <td>...</td>\n      <td>...</td>\n      <td>...</td>\n      <td>...</td>\n    </tr>\n    <tr>\n      <th>913</th>\n      <td>The Notebook (2004)</td>\n      <td>A poor yet passionate young man falls in love ...</td>\n      <td>New Line Cinema</td>\n      <td>June 25, 2004</td>\n      <td>81001787</td>\n      <td>36813370</td>\n      <td>117815157</td>\n      <td>['Drama', 'Romance']</td>\n      <td>2 hr 3 min</td>\n      <td>PG-13</td>\n      <td>13.0</td>\n      <td>-44188417</td>\n      <td>123</td>\n      <td>[Drama, Romance]</td>\n      <td>2004</td>\n      <td>True</td>\n    </tr>\n    <tr>\n      <th>914</th>\n      <td>Jimmy Neutron: Boy Genius (2001)</td>\n      <td>An eight-year-old boy genius and his friends m...</td>\n      <td>Paramount Pictures</td>\n      <td>December 21, 2001</td>\n      <td>80936232</td>\n      <td>22056304</td>\n      <td>102992536</td>\n      <td>['Action', 'Adventure', 'Animation', 'Comedy',...</td>\n      <td>1 hr 22 min</td>\n      <td>NaN</td>\n      <td>NaN</td>\n      <td>-58879928</td>\n      <td>82</td>\n      <td>[Action, Adventure, Animation, Comedy, Family,...</td>\n      <td>2001</td>\n      <td>False</td>\n    </tr>\n    <tr>\n      <th>915</th>\n      <td>Eat Pray Love (2010)</td>\n      <td>A married woman realizes how unhappy her marri...</td>\n      <td>Sony Pictures Entertainment (SPE)</td>\n      <td>August 13, 2010</td>\n      <td>80574010</td>\n      <td>124020006</td>\n      <td>204594016</td>\n      <td>['Biography', 'Drama', 'Romance']</td>\n      <td>2 hr 13 min</td>\n      <td>PG-13</td>\n      <td>13.0</td>\n      <td>43445996</td>\n      <td>133</td>\n      <td>[Biography, Drama, Romance]</td>\n      <td>2010</td>\n      <td>True</td>\n    </tr>\n    <tr>\n      <th>916</th>\n      <td>The Texas Chainsaw Massacre (2003)</td>\n      <td>After picking up a traumatized young hitchhike...</td>\n      <td>New Line Cinema</td>\n      <td>October 17, 2003</td>\n      <td>80571655</td>\n      <td>26792250</td>\n      <td>107363905</td>\n      <td>['Crime', 'Horror']</td>\n      <td>1 hr 38 min</td>\n      <td>R</td>\n      <td>0.0</td>\n      <td>-53779405</td>\n      <td>98</td>\n      <td>[Crime, Horror]</td>\n      <td>2003</td>\n      <td>False</td>\n    </tr>\n    <tr>\n      <th>917</th>\n      <td>Zookeeper (2011)</td>\n      <td>A group of zoo animals decide to break their c...</td>\n      <td>Sony Pictures Entertainment (SPE)</td>\n      <td>July 6, 2011</td>\n      <td>80360843</td>\n      <td>89491916</td>\n      <td>169852759</td>\n      <td>['Comedy', 'Family', 'Fantasy', 'Romance']</td>\n      <td>1 hr 42 min</td>\n      <td>PG</td>\n      <td>0.0</td>\n      <td>9131073</td>\n      <td>102</td>\n      <td>[Comedy, Family, Fantasy, Romance]</td>\n      <td>2011</td>\n      <td>False</td>\n    </tr>\n  </tbody>\n</table>\n<p>918 rows × 16 columns</p>\n</div>"
     },
     "execution_count": 59,
     "metadata": {},
     "output_type": "execute_result"
    }
   ],
   "source": [
    "movies_df[\"Year\"] = movies_df[\"Title\"].apply(lambda x: str(x).replace(\"(\", \"\").replace(\")\", \"\").split(\" \")[-1]).astype(int)\n",
    "movies_df[\"Runtime more 2 hours\"] = movies_df[\"Movie Runtime, min\"] > 2 * 60\n",
    "movies_df"
   ],
   "metadata": {
    "collapsed": false,
    "pycharm": {
     "name": "#%%\n"
    }
   }
  },
  {
   "cell_type": "markdown",
   "source": [
    "*Вопрос: сколько в среднем собрали фильмы по годам в зависимости от их длительности?*"
   ],
   "metadata": {
    "collapsed": false,
    "pycharm": {
     "name": "#%% md\n"
    }
   }
  },
  {
   "cell_type": "code",
   "execution_count": 60,
   "outputs": [
    {
     "data": {
      "text/plain": "Runtime more 2 hours         False         True\nLicense Year                                   \nG       1979                   NaN   82604699.0\n        1994          1.063612e+09          NaN\n        1999          4.481918e+08          NaN\n        2001          3.725214e+08          NaN\n        2005          3.144328e+08          NaN\n...                            ...          ...\nR       2020          2.018585e+08  426505244.0\n        1996          2.076711e+08  304307606.5\n        1990          4.634063e+08          NaN\n        1991          1.749990e+08  520881154.0\n        2021          1.316472e+08          NaN\n\n[108 rows x 2 columns]",
      "text/html": "<div>\n<style scoped>\n    .dataframe tbody tr th:only-of-type {\n        vertical-align: middle;\n    }\n\n    .dataframe tbody tr th {\n        vertical-align: top;\n    }\n\n    .dataframe thead th {\n        text-align: right;\n    }\n</style>\n<table border=\"1\" class=\"dataframe\">\n  <thead>\n    <tr style=\"text-align: right;\">\n      <th></th>\n      <th>Runtime more 2 hours</th>\n      <th>False</th>\n      <th>True</th>\n    </tr>\n    <tr>\n      <th>License</th>\n      <th>Year</th>\n      <th></th>\n      <th></th>\n    </tr>\n  </thead>\n  <tbody>\n    <tr>\n      <th rowspan=\"5\" valign=\"top\">G</th>\n      <th>1979</th>\n      <td>NaN</td>\n      <td>82604699.0</td>\n    </tr>\n    <tr>\n      <th>1994</th>\n      <td>1.063612e+09</td>\n      <td>NaN</td>\n    </tr>\n    <tr>\n      <th>1999</th>\n      <td>4.481918e+08</td>\n      <td>NaN</td>\n    </tr>\n    <tr>\n      <th>2001</th>\n      <td>3.725214e+08</td>\n      <td>NaN</td>\n    </tr>\n    <tr>\n      <th>2005</th>\n      <td>3.144328e+08</td>\n      <td>NaN</td>\n    </tr>\n    <tr>\n      <th>...</th>\n      <th>...</th>\n      <td>...</td>\n      <td>...</td>\n    </tr>\n    <tr>\n      <th rowspan=\"5\" valign=\"top\">R</th>\n      <th>2020</th>\n      <td>2.018585e+08</td>\n      <td>426505244.0</td>\n    </tr>\n    <tr>\n      <th>1996</th>\n      <td>2.076711e+08</td>\n      <td>304307606.5</td>\n    </tr>\n    <tr>\n      <th>1990</th>\n      <td>4.634063e+08</td>\n      <td>NaN</td>\n    </tr>\n    <tr>\n      <th>1991</th>\n      <td>1.749990e+08</td>\n      <td>520881154.0</td>\n    </tr>\n    <tr>\n      <th>2021</th>\n      <td>1.316472e+08</td>\n      <td>NaN</td>\n    </tr>\n  </tbody>\n</table>\n<p>108 rows × 2 columns</p>\n</div>"
     },
     "execution_count": 60,
     "metadata": {},
     "output_type": "execute_result"
    }
   ],
   "source": [
    "pd.pivot_table(movies_df, index=[\"License\", \"Year\"], columns=[\"Runtime more 2 hours\"], values=\"World Sales (in $)\", aggfunc=np.mean)"
   ],
   "metadata": {
    "collapsed": false,
    "pycharm": {
     "name": "#%%\n"
    }
   }
  },
  {
   "cell_type": "markdown",
   "source": [
    "В результате получили сводную таблицу: в какие года выпускались фильмы с рейтингом и количество собранных денег в зависимости от длительности больше или меньше 2 часов"
   ],
   "metadata": {
    "collapsed": false,
    "pycharm": {
     "name": "#%% md\n"
    }
   }
  },
  {
   "cell_type": "markdown",
   "source": [
    "*6 Посчитать квантили распределения какого-либо вещественного признака (с помощью numpy.quantile или numpy.percentile)*"
   ],
   "metadata": {
    "collapsed": false,
    "pycharm": {
     "name": "#%% md\n"
    }
   }
  },
  {
   "cell_type": "code",
   "execution_count": 61,
   "outputs": [
    {
     "name": "stdout",
     "output_type": "stream",
     "text": [
      "25-квантиль для длительности фильма: 100.0\n",
      "50-квантиль для длительности фильма: 115.0\n",
      "75-квантиль для длительности фильма: 130.0\n"
     ]
    }
   ],
   "source": [
    "print(f\"25-квантиль для длительности фильма: {np.quantile(movies_df['Movie Runtime, min'], 0.25)}\")\n",
    "print(f\"50-квантиль для длительности фильма: {np.quantile(movies_df['Movie Runtime, min'], 0.50)}\")\n",
    "print(f\"75-квантиль для длительности фильма: {np.quantile(movies_df['Movie Runtime, min'], 0.75)}\")"
   ],
   "metadata": {
    "collapsed": false,
    "pycharm": {
     "name": "#%%\n"
    }
   }
  },
  {
   "cell_type": "markdown",
   "source": [
    "*7 Посчитать гистограмму какого-либо вещественного признака (с помощью numpy.histogram). Значения гистограммы можете использовать как вариант в качестве загрубленного числового признака для заданий (4) или (5).*"
   ],
   "metadata": {
    "collapsed": false,
    "pycharm": {
     "name": "#%% md\n"
    }
   }
  },
  {
   "cell_type": "code",
   "execution_count": 65,
   "outputs": [
    {
     "data": {
      "text/plain": "(array([ 57, 179, 199, 197, 156,  72,  34,  13,   7,   4], dtype=int64),\n array([ 76. ,  88.5, 101. , 113.5, 126. , 138.5, 151. , 163.5, 176. ,\n        188.5, 201. ]))"
     },
     "execution_count": 65,
     "metadata": {},
     "output_type": "execute_result"
    }
   ],
   "source": [
    "np.histogram(movies_df['Movie Runtime, min'].to_list())"
   ],
   "metadata": {
    "collapsed": false,
    "pycharm": {
     "name": "#%%\n"
    }
   }
  },
  {
   "cell_type": "code",
   "execution_count": 63,
   "outputs": [
    {
     "data": {
      "text/plain": "<AxesSubplot:>"
     },
     "execution_count": 63,
     "metadata": {},
     "output_type": "execute_result"
    },
    {
     "data": {
      "text/plain": "<Figure size 432x288 with 1 Axes>",
      "image/png": "[encoded data removed]"
     },
     "metadata": {
      "needs_background": "light"
     },
     "output_type": "display_data"
    }
   ],
   "source": [
    "movies_df['Movie Runtime, min'].hist()"
   ],
   "metadata": {
    "collapsed": false,
    "pycharm": {
     "name": "#%%\n"
    }
   }
  },
  {
   "cell_type": "markdown",
   "source": [
    "*8 Получить DataFrame с MultiIndex любым способом: через конструктор (в документации увидите множество видов конструкторов для создания MultiIndex с нуля), через read_sql / read_csv / readexcel, read, через pivot_table, через groupby или иными способами.*"
   ],
   "metadata": {
    "collapsed": false,
    "pycharm": {
     "name": "#%% md\n"
    }
   }
  },
  {
   "cell_type": "code",
   "execution_count": 66,
   "outputs": [
    {
     "data": {
      "text/plain": "MultiIndex([('G', 1979),\n            ('G', 1994),\n            ('G', 1999),\n            ('G', 2001),\n            ('G', 2005),\n            ('G', 2006),\n            ('G', 2007),\n            ('G', 2008),\n            ('G', 2011),\n            ('G', 2014),\n            ...\n            ('R', 2012),\n            ('R', 2013),\n            ('R', 2016),\n            ('R', 2017),\n            ('R', 2018),\n            ('R', 2020),\n            ('R', 1996),\n            ('R', 1990),\n            ('R', 1991),\n            ('R', 2021)],\n           names=['License', 'Year'], length=108)"
     },
     "execution_count": 66,
     "metadata": {},
     "output_type": "execute_result"
    }
   ],
   "source": [
    "# из п.5\n",
    "multiindex_df = pd.pivot_table(movies_df, index=[\"License\", \"Year\"], columns=[\"Runtime more 2 hours\"], values=\"World Sales (in $)\", aggfunc=np.mean)\n",
    "multiindex_df.index"
   ],
   "metadata": {
    "collapsed": false,
    "pycharm": {
     "name": "#%%\n"
    }
   }
  },
  {
   "cell_type": "markdown",
   "source": [
    "*9 Переставить местами уровни индекса*"
   ],
   "metadata": {
    "collapsed": false,
    "pycharm": {
     "name": "#%% md\n"
    }
   }
  },
  {
   "cell_type": "code",
   "execution_count": 68,
   "outputs": [
    {
     "data": {
      "text/plain": "Runtime more 2 hours         False         True\nYear License                                   \n1979 G                         NaN   82604699.0\n1994 G                1.063612e+09          NaN\n1999 G                4.481918e+08          NaN\n2001 G                3.725214e+08          NaN\n2005 G                3.144328e+08          NaN\n...                            ...          ...\n2020 R                2.018585e+08  426505244.0\n1996 R                2.076711e+08  304307606.5\n1990 R                4.634063e+08          NaN\n1991 R                1.749990e+08  520881154.0\n2021 R                1.316472e+08          NaN\n\n[108 rows x 2 columns]",
      "text/html": "<div>\n<style scoped>\n    .dataframe tbody tr th:only-of-type {\n        vertical-align: middle;\n    }\n\n    .dataframe tbody tr th {\n        vertical-align: top;\n    }\n\n    .dataframe thead th {\n        text-align: right;\n    }\n</style>\n<table border=\"1\" class=\"dataframe\">\n  <thead>\n    <tr style=\"text-align: right;\">\n      <th></th>\n      <th>Runtime more 2 hours</th>\n      <th>False</th>\n      <th>True</th>\n    </tr>\n    <tr>\n      <th>Year</th>\n      <th>License</th>\n      <th></th>\n      <th></th>\n    </tr>\n  </thead>\n  <tbody>\n    <tr>\n      <th>1979</th>\n      <th>G</th>\n      <td>NaN</td>\n      <td>82604699.0</td>\n    </tr>\n    <tr>\n      <th>1994</th>\n      <th>G</th>\n      <td>1.063612e+09</td>\n      <td>NaN</td>\n    </tr>\n    <tr>\n      <th>1999</th>\n      <th>G</th>\n      <td>4.481918e+08</td>\n      <td>NaN</td>\n    </tr>\n    <tr>\n      <th>2001</th>\n      <th>G</th>\n      <td>3.725214e+08</td>\n      <td>NaN</td>\n    </tr>\n    <tr>\n      <th>2005</th>\n      <th>G</th>\n      <td>3.144328e+08</td>\n      <td>NaN</td>\n    </tr>\n    <tr>\n      <th>...</th>\n      <th>...</th>\n      <td>...</td>\n      <td>...</td>\n    </tr>\n    <tr>\n      <th>2020</th>\n      <th>R</th>\n      <td>2.018585e+08</td>\n      <td>426505244.0</td>\n    </tr>\n    <tr>\n      <th>1996</th>\n      <th>R</th>\n      <td>2.076711e+08</td>\n      <td>304307606.5</td>\n    </tr>\n    <tr>\n      <th>1990</th>\n      <th>R</th>\n      <td>4.634063e+08</td>\n      <td>NaN</td>\n    </tr>\n    <tr>\n      <th>1991</th>\n      <th>R</th>\n      <td>1.749990e+08</td>\n      <td>520881154.0</td>\n    </tr>\n    <tr>\n      <th>2021</th>\n      <th>R</th>\n      <td>1.316472e+08</td>\n      <td>NaN</td>\n    </tr>\n  </tbody>\n</table>\n<p>108 rows × 2 columns</p>\n</div>"
     },
     "execution_count": 68,
     "metadata": {},
     "output_type": "execute_result"
    }
   ],
   "source": [
    "multiindex_df.swaplevel()"
   ],
   "metadata": {
    "collapsed": false,
    "pycharm": {
     "name": "#%%\n"
    }
   }
  },
  {
   "cell_type": "markdown",
   "source": [],
   "metadata": {
    "collapsed": false,
    "pycharm": {
     "name": "#%% md\n"
    }
   }
  },
  {
   "cell_type": "code",
   "execution_count": 69,
   "outputs": [
    {
     "data": {
      "text/plain": "License                        G                                          \\\nYear                        1979          1994         1999         2001   \nRuntime more 2 hours                                                       \nFalse                        NaN  1.063612e+09  448191819.0  372521445.5   \nTrue                  82604699.0           NaN          NaN          NaN   \n\nLicense                                                                   \\\nYear                         2005         2006         2007         2008   \nRuntime more 2 hours                                                       \nFalse                 314432837.0  148963822.0  623726085.0  252909177.0   \nTrue                          NaN          NaN          NaN          NaN   \n\nLicense                                         ...             R  \\\nYear                         2011         2014  ...          2012   \nRuntime more 2 hours                            ...                 \nFalse                 451273915.5  498781117.0  ...  2.790119e+08   \nTrue                          NaN          NaN  ...  2.720869e+08   \n\nLicense                                                                      \\\nYear                          2013          2016          2017         2018   \nRuntime more 2 hours                                                          \nFalse                 2.322733e+08  3.163098e+08  3.050023e+08  390771097.8   \nTrue                  2.659918e+08  2.384741e+08  4.263532e+08  313294511.5   \n\nLicense                                                                   \\\nYear                         2020         1996         1990         1991   \nRuntime more 2 hours                                                       \nFalse                 201858461.0  207671112.5  463406268.0  174999005.0   \nTrue                  426505244.0  304307606.5          NaN  520881154.0   \n\nLicense                            \nYear                         2021  \nRuntime more 2 hours               \nFalse                 131647155.0  \nTrue                          NaN  \n\n[2 rows x 108 columns]",
      "text/html": "<div>\n<style scoped>\n    .dataframe tbody tr th:only-of-type {\n        vertical-align: middle;\n    }\n\n    .dataframe tbody tr th {\n        vertical-align: top;\n    }\n\n    .dataframe thead tr th {\n        text-align: left;\n    }\n\n    .dataframe thead tr:last-of-type th {\n        text-align: right;\n    }\n</style>\n<table border=\"1\" class=\"dataframe\">\n  <thead>\n    <tr>\n      <th>License</th>\n      <th colspan=\"10\" halign=\"left\">G</th>\n      <th>...</th>\n      <th colspan=\"10\" halign=\"left\">R</th>\n    </tr>\n    <tr>\n      <th>Year</th>\n      <th>1979</th>\n      <th>1994</th>\n      <th>1999</th>\n      <th>2001</th>\n      <th>2005</th>\n      <th>2006</th>\n      <th>2007</th>\n      <th>2008</th>\n      <th>2011</th>\n      <th>2014</th>\n      <th>...</th>\n      <th>2012</th>\n      <th>2013</th>\n      <th>2016</th>\n      <th>2017</th>\n      <th>2018</th>\n      <th>2020</th>\n      <th>1996</th>\n      <th>1990</th>\n      <th>1991</th>\n      <th>2021</th>\n    </tr>\n    <tr>\n      <th>Runtime more 2 hours</th>\n      <th></th>\n      <th></th>\n      <th></th>\n      <th></th>\n      <th></th>\n      <th></th>\n      <th></th>\n      <th></th>\n      <th></th>\n      <th></th>\n      <th></th>\n      <th></th>\n      <th></th>\n      <th></th>\n      <th></th>\n      <th></th>\n      <th></th>\n      <th></th>\n      <th></th>\n      <th></th>\n      <th></th>\n    </tr>\n  </thead>\n  <tbody>\n    <tr>\n      <th>False</th>\n      <td>NaN</td>\n      <td>1.063612e+09</td>\n      <td>448191819.0</td>\n      <td>372521445.5</td>\n      <td>314432837.0</td>\n      <td>148963822.0</td>\n      <td>623726085.0</td>\n      <td>252909177.0</td>\n      <td>451273915.5</td>\n      <td>498781117.0</td>\n      <td>...</td>\n      <td>2.790119e+08</td>\n      <td>2.322733e+08</td>\n      <td>3.163098e+08</td>\n      <td>3.050023e+08</td>\n      <td>390771097.8</td>\n      <td>201858461.0</td>\n      <td>207671112.5</td>\n      <td>463406268.0</td>\n      <td>174999005.0</td>\n      <td>131647155.0</td>\n    </tr>\n    <tr>\n      <th>True</th>\n      <td>82604699.0</td>\n      <td>NaN</td>\n      <td>NaN</td>\n      <td>NaN</td>\n      <td>NaN</td>\n      <td>NaN</td>\n      <td>NaN</td>\n      <td>NaN</td>\n      <td>NaN</td>\n      <td>NaN</td>\n      <td>...</td>\n      <td>2.720869e+08</td>\n      <td>2.659918e+08</td>\n      <td>2.384741e+08</td>\n      <td>4.263532e+08</td>\n      <td>313294511.5</td>\n      <td>426505244.0</td>\n      <td>304307606.5</td>\n      <td>NaN</td>\n      <td>520881154.0</td>\n      <td>NaN</td>\n    </tr>\n  </tbody>\n</table>\n<p>2 rows × 108 columns</p>\n</div>"
     },
     "execution_count": 69,
     "metadata": {},
     "output_type": "execute_result"
    }
   ],
   "source": [
    "multiindex_df.T"
   ],
   "metadata": {
    "collapsed": false,
    "pycharm": {
     "name": "#%%\n"
    }
   }
  },
  {
   "cell_type": "markdown",
   "source": [
    "*11 Удалить один из уровней индекса или добавить новый уровень индекса (можно инициализированный константой)*"
   ],
   "metadata": {
    "collapsed": false,
    "pycharm": {
     "name": "#%% md\n"
    }
   }
  },
  {
   "cell_type": "code",
   "execution_count": 70,
   "outputs": [
    {
     "data": {
      "text/plain": "Runtime more 2 hours         False         True\nLicense                                        \nG                              NaN   82604699.0\nG                     1.063612e+09          NaN\nG                     4.481918e+08          NaN\nG                     3.725214e+08          NaN\nG                     3.144328e+08          NaN\n...                            ...          ...\nR                     2.018585e+08  426505244.0\nR                     2.076711e+08  304307606.5\nR                     4.634063e+08          NaN\nR                     1.749990e+08  520881154.0\nR                     1.316472e+08          NaN\n\n[108 rows x 2 columns]",
      "text/html": "<div>\n<style scoped>\n    .dataframe tbody tr th:only-of-type {\n        vertical-align: middle;\n    }\n\n    .dataframe tbody tr th {\n        vertical-align: top;\n    }\n\n    .dataframe thead th {\n        text-align: right;\n    }\n</style>\n<table border=\"1\" class=\"dataframe\">\n  <thead>\n    <tr style=\"text-align: right;\">\n      <th>Runtime more 2 hours</th>\n      <th>False</th>\n      <th>True</th>\n    </tr>\n    <tr>\n      <th>License</th>\n      <th></th>\n      <th></th>\n    </tr>\n  </thead>\n  <tbody>\n    <tr>\n      <th>G</th>\n      <td>NaN</td>\n      <td>82604699.0</td>\n    </tr>\n    <tr>\n      <th>G</th>\n      <td>1.063612e+09</td>\n      <td>NaN</td>\n    </tr>\n    <tr>\n      <th>G</th>\n      <td>4.481918e+08</td>\n      <td>NaN</td>\n    </tr>\n    <tr>\n      <th>G</th>\n      <td>3.725214e+08</td>\n      <td>NaN</td>\n    </tr>\n    <tr>\n      <th>G</th>\n      <td>3.144328e+08</td>\n      <td>NaN</td>\n    </tr>\n    <tr>\n      <th>...</th>\n      <td>...</td>\n      <td>...</td>\n    </tr>\n    <tr>\n      <th>R</th>\n      <td>2.018585e+08</td>\n      <td>426505244.0</td>\n    </tr>\n    <tr>\n      <th>R</th>\n      <td>2.076711e+08</td>\n      <td>304307606.5</td>\n    </tr>\n    <tr>\n      <th>R</th>\n      <td>4.634063e+08</td>\n      <td>NaN</td>\n    </tr>\n    <tr>\n      <th>R</th>\n      <td>1.749990e+08</td>\n      <td>520881154.0</td>\n    </tr>\n    <tr>\n      <th>R</th>\n      <td>1.316472e+08</td>\n      <td>NaN</td>\n    </tr>\n  </tbody>\n</table>\n<p>108 rows × 2 columns</p>\n</div>"
     },
     "execution_count": 70,
     "metadata": {},
     "output_type": "execute_result"
    }
   ],
   "source": [
    "multiindex_df.droplevel(1)"
   ],
   "metadata": {
    "collapsed": false,
    "pycharm": {
     "name": "#%%\n"
    }
   }
  },
  {
   "cell_type": "markdown",
   "source": [
    "*12 Продемонстировать работу .merge*"
   ],
   "metadata": {
    "collapsed": false,
    "pycharm": {
     "name": "#%% md\n"
    }
   }
  },
  {
   "cell_type": "code",
   "execution_count": 72,
   "outputs": [
    {
     "data": {
      "text/plain": "Index(['Title', 'Movie Info', 'Distributor', 'Release Date',\n       'Domestic Sales (in $)', 'International Sales (in $)',\n       'World Sales (in $)', 'Genre', 'Movie Runtime', 'License', 'LicenseNum',\n       'Difference Sales', 'Movie Runtime, min', 'GenreList', 'Year',\n       'Runtime more 2 hours'],\n      dtype='object')"
     },
     "execution_count": 72,
     "metadata": {},
     "output_type": "execute_result"
    }
   ],
   "source": [
    "movies_df.columns"
   ],
   "metadata": {
    "collapsed": false,
    "pycharm": {
     "name": "#%%\n"
    }
   }
  },
  {
   "cell_type": "code",
   "execution_count": 81,
   "outputs": [],
   "source": [
    "movies_df_part_1 = movies_df.drop(['Title', 'GenreList', 'Year', 'Runtime more 2 hours'], axis=1)\n",
    "movies_df_part_2 = movies_df.drop(movies_df_part_1.columns[1:], axis=1)"
   ],
   "metadata": {
    "collapsed": false,
    "pycharm": {
     "name": "#%%\n"
    }
   }
  },
  {
   "cell_type": "code",
   "execution_count": 82,
   "outputs": [
    {
     "data": {
      "text/plain": "                                                 Title  \\\n0    Star Wars: Episode VII - The Force Awakens (2015)   \n1                             Avengers: Endgame (2019)   \n2                                        Avatar (2009)   \n3                                 Black Panther (2018)   \n4                        Avengers: Infinity War (2018)   \n..                                                 ...   \n913                                The Notebook (2004)   \n914                   Jimmy Neutron: Boy Genius (2001)   \n915                               Eat Pray Love (2010)   \n916                 The Texas Chainsaw Massacre (2003)   \n917                                   Zookeeper (2011)   \n\n                                            Movie Info  \\\n0    As a new threat to the galaxy rises, Rey, a de...   \n1    After the devastating events of Avengers: Infi...   \n2    A paraplegic Marine dispatched to the moon Pan...   \n3    T'Challa, heir to the hidden but advanced king...   \n4    The Avengers and their allies must be willing ...   \n..                                                 ...   \n913  A poor yet passionate young man falls in love ...   \n914  An eight-year-old boy genius and his friends m...   \n915  A married woman realizes how unhappy her marri...   \n916  After picking up a traumatized young hitchhike...   \n917  A group of zoo animals decide to break their c...   \n\n                             Distributor       Release Date  \\\n0    Walt Disney Studios Motion Pictures  December 16, 2015   \n1    Walt Disney Studios Motion Pictures     April 24, 2019   \n2                  Twentieth Century Fox  December 16, 2009   \n3    Walt Disney Studios Motion Pictures                NaN   \n4    Walt Disney Studios Motion Pictures                NaN   \n..                                   ...                ...   \n913                      New Line Cinema      June 25, 2004   \n914                   Paramount Pictures  December 21, 2001   \n915    Sony Pictures Entertainment (SPE)    August 13, 2010   \n916                      New Line Cinema   October 17, 2003   \n917    Sony Pictures Entertainment (SPE)       July 6, 2011   \n\n     Domestic Sales (in $)  International Sales (in $)  World Sales (in $)  \\\n0                936662225                  1132859475          2069521700   \n1                858373000                  1939128328          2797501328   \n2                760507625                  2086738578          2847246203   \n3                700426566                   647171407          1347597973   \n4                678815482                  1369544272          2048359754   \n..                     ...                         ...                 ...   \n913               81001787                    36813370           117815157   \n914               80936232                    22056304           102992536   \n915               80574010                   124020006           204594016   \n916               80571655                    26792250           107363905   \n917               80360843                    89491916           169852759   \n\n                                                 Genre Movie Runtime License  \\\n0                    ['Action', 'Adventure', 'Sci-Fi']   2 hr 18 min   PG-13   \n1           ['Action', 'Adventure', 'Drama', 'Sci-Fi']    3 hr 1 min   PG-13   \n2         ['Action', 'Adventure', 'Fantasy', 'Sci-Fi']   2 hr 42 min   PG-13   \n3                    ['Action', 'Adventure', 'Sci-Fi']   2 hr 14 min     NaN   \n4                    ['Action', 'Adventure', 'Sci-Fi']   2 hr 29 min     NaN   \n..                                                 ...           ...     ...   \n913                               ['Drama', 'Romance']    2 hr 3 min   PG-13   \n914  ['Action', 'Adventure', 'Animation', 'Comedy',...   1 hr 22 min     NaN   \n915                  ['Biography', 'Drama', 'Romance']   2 hr 13 min   PG-13   \n916                                ['Crime', 'Horror']   1 hr 38 min       R   \n917         ['Comedy', 'Family', 'Fantasy', 'Romance']   1 hr 42 min      PG   \n\n     LicenseNum  Difference Sales  Movie Runtime, min  \\\n0          13.0         196197250                 138   \n1          13.0        1080755328                 181   \n2          13.0        1326230953                 162   \n3           NaN         -53255159                 134   \n4           NaN         690728790                 149   \n..          ...               ...                 ...   \n913        13.0         -44188417                 123   \n914         NaN         -58879928                  82   \n915        13.0          43445996                 133   \n916         0.0         -53779405                  98   \n917         0.0           9131073                 102   \n\n                                             GenreList  Year  \\\n0                          [Action, Adventure, Sci-Fi]  2015   \n1                   [Action, Adventure, Drama, Sci-Fi]  2019   \n2                 [Action, Adventure, Fantasy, Sci-Fi]  2009   \n3                          [Action, Adventure, Sci-Fi]  2018   \n4                          [Action, Adventure, Sci-Fi]  2018   \n..                                                 ...   ...   \n913                                   [Drama, Romance]  2004   \n914  [Action, Adventure, Animation, Comedy, Family,...  2001   \n915                        [Biography, Drama, Romance]  2010   \n916                                    [Crime, Horror]  2003   \n917                 [Comedy, Family, Fantasy, Romance]  2011   \n\n     Runtime more 2 hours  \n0                    True  \n1                    True  \n2                    True  \n3                    True  \n4                    True  \n..                    ...  \n913                  True  \n914                 False  \n915                  True  \n916                 False  \n917                 False  \n\n[918 rows x 16 columns]",
      "text/html": "<div>\n<style scoped>\n    .dataframe tbody tr th:only-of-type {\n        vertical-align: middle;\n    }\n\n    .dataframe tbody tr th {\n        vertical-align: top;\n    }\n\n    .dataframe thead th {\n        text-align: right;\n    }\n</style>\n<table border=\"1\" class=\"dataframe\">\n  <thead>\n    <tr style=\"text-align: right;\">\n      <th></th>\n      <th>Title</th>\n      <th>Movie Info</th>\n      <th>Distributor</th>\n      <th>Release Date</th>\n      <th>Domestic Sales (in $)</th>\n      <th>International Sales (in $)</th>\n      <th>World Sales (in $)</th>\n      <th>Genre</th>\n      <th>Movie Runtime</th>\n      <th>License</th>\n      <th>LicenseNum</th>\n      <th>Difference Sales</th>\n      <th>Movie Runtime, min</th>\n      <th>GenreList</th>\n      <th>Year</th>\n      <th>Runtime more 2 hours</th>\n    </tr>\n  </thead>\n  <tbody>\n    <tr>\n      <th>0</th>\n      <td>Star Wars: Episode VII - The Force Awakens (2015)</td>\n      <td>As a new threat to the galaxy rises, Rey, a de...</td>\n      <td>Walt Disney Studios Motion Pictures</td>\n      <td>December 16, 2015</td>\n      <td>936662225</td>\n      <td>1132859475</td>\n      <td>2069521700</td>\n      <td>['Action', 'Adventure', 'Sci-Fi']</td>\n      <td>2 hr 18 min</td>\n      <td>PG-13</td>\n      <td>13.0</td>\n      <td>196197250</td>\n      <td>138</td>\n      <td>[Action, Adventure, Sci-Fi]</td>\n      <td>2015</td>\n      <td>True</td>\n    </tr>\n    <tr>\n      <th>1</th>\n      <td>Avengers: Endgame (2019)</td>\n      <td>After the devastating events of Avengers: Infi...</td>\n      <td>Walt Disney Studios Motion Pictures</td>\n      <td>April 24, 2019</td>\n      <td>858373000</td>\n      <td>1939128328</td>\n      <td>2797501328</td>\n      <td>['Action', 'Adventure', 'Drama', 'Sci-Fi']</td>\n      <td>3 hr 1 min</td>\n      <td>PG-13</td>\n      <td>13.0</td>\n      <td>1080755328</td>\n      <td>181</td>\n      <td>[Action, Adventure, Drama, Sci-Fi]</td>\n      <td>2019</td>\n      <td>True</td>\n    </tr>\n    <tr>\n      <th>2</th>\n      <td>Avatar (2009)</td>\n      <td>A paraplegic Marine dispatched to the moon Pan...</td>\n      <td>Twentieth Century Fox</td>\n      <td>December 16, 2009</td>\n      <td>760507625</td>\n      <td>2086738578</td>\n      <td>2847246203</td>\n      <td>['Action', 'Adventure', 'Fantasy', 'Sci-Fi']</td>\n      <td>2 hr 42 min</td>\n      <td>PG-13</td>\n      <td>13.0</td>\n      <td>1326230953</td>\n      <td>162</td>\n      <td>[Action, Adventure, Fantasy, Sci-Fi]</td>\n      <td>2009</td>\n      <td>True</td>\n    </tr>\n    <tr>\n      <th>3</th>\n      <td>Black Panther (2018)</td>\n      <td>T'Challa, heir to the hidden but advanced king...</td>\n      <td>Walt Disney Studios Motion Pictures</td>\n      <td>NaN</td>\n      <td>700426566</td>\n      <td>647171407</td>\n      <td>1347597973</td>\n      <td>['Action', 'Adventure', 'Sci-Fi']</td>\n      <td>2 hr 14 min</td>\n      <td>NaN</td>\n      <td>NaN</td>\n      <td>-53255159</td>\n      <td>134</td>\n      <td>[Action, Adventure, Sci-Fi]</td>\n      <td>2018</td>\n      <td>True</td>\n    </tr>\n    <tr>\n      <th>4</th>\n      <td>Avengers: Infinity War (2018)</td>\n      <td>The Avengers and their allies must be willing ...</td>\n      <td>Walt Disney Studios Motion Pictures</td>\n      <td>NaN</td>\n      <td>678815482</td>\n      <td>1369544272</td>\n      <td>2048359754</td>\n      <td>['Action', 'Adventure', 'Sci-Fi']</td>\n      <td>2 hr 29 min</td>\n      <td>NaN</td>\n      <td>NaN</td>\n      <td>690728790</td>\n      <td>149</td>\n      <td>[Action, Adventure, Sci-Fi]</td>\n      <td>2018</td>\n      <td>True</td>\n    </tr>\n    <tr>\n      <th>...</th>\n      <td>...</td>\n      <td>...</td>\n      <td>...</td>\n      <td>...</td>\n      <td>...</td>\n      <td>...</td>\n      <td>...</td>\n      <td>...</td>\n      <td>...</td>\n      <td>...</td>\n      <td>...</td>\n      <td>...</td>\n      <td>...</td>\n      <td>...</td>\n      <td>...</td>\n      <td>...</td>\n    </tr>\n    <tr>\n      <th>913</th>\n      <td>The Notebook (2004)</td>\n      <td>A poor yet passionate young man falls in love ...</td>\n      <td>New Line Cinema</td>\n      <td>June 25, 2004</td>\n      <td>81001787</td>\n      <td>36813370</td>\n      <td>117815157</td>\n      <td>['Drama', 'Romance']</td>\n      <td>2 hr 3 min</td>\n      <td>PG-13</td>\n      <td>13.0</td>\n      <td>-44188417</td>\n      <td>123</td>\n      <td>[Drama, Romance]</td>\n      <td>2004</td>\n      <td>True</td>\n    </tr>\n    <tr>\n      <th>914</th>\n      <td>Jimmy Neutron: Boy Genius (2001)</td>\n      <td>An eight-year-old boy genius and his friends m...</td>\n      <td>Paramount Pictures</td>\n      <td>December 21, 2001</td>\n      <td>80936232</td>\n      <td>22056304</td>\n      <td>102992536</td>\n      <td>['Action', 'Adventure', 'Animation', 'Comedy',...</td>\n      <td>1 hr 22 min</td>\n      <td>NaN</td>\n      <td>NaN</td>\n      <td>-58879928</td>\n      <td>82</td>\n      <td>[Action, Adventure, Animation, Comedy, Family,...</td>\n      <td>2001</td>\n      <td>False</td>\n    </tr>\n    <tr>\n      <th>915</th>\n      <td>Eat Pray Love (2010)</td>\n      <td>A married woman realizes how unhappy her marri...</td>\n      <td>Sony Pictures Entertainment (SPE)</td>\n      <td>August 13, 2010</td>\n      <td>80574010</td>\n      <td>124020006</td>\n      <td>204594016</td>\n      <td>['Biography', 'Drama', 'Romance']</td>\n      <td>2 hr 13 min</td>\n      <td>PG-13</td>\n      <td>13.0</td>\n      <td>43445996</td>\n      <td>133</td>\n      <td>[Biography, Drama, Romance]</td>\n      <td>2010</td>\n      <td>True</td>\n    </tr>\n    <tr>\n      <th>916</th>\n      <td>The Texas Chainsaw Massacre (2003)</td>\n      <td>After picking up a traumatized young hitchhike...</td>\n      <td>New Line Cinema</td>\n      <td>October 17, 2003</td>\n      <td>80571655</td>\n      <td>26792250</td>\n      <td>107363905</td>\n      <td>['Crime', 'Horror']</td>\n      <td>1 hr 38 min</td>\n      <td>R</td>\n      <td>0.0</td>\n      <td>-53779405</td>\n      <td>98</td>\n      <td>[Crime, Horror]</td>\n      <td>2003</td>\n      <td>False</td>\n    </tr>\n    <tr>\n      <th>917</th>\n      <td>Zookeeper (2011)</td>\n      <td>A group of zoo animals decide to break their c...</td>\n      <td>Sony Pictures Entertainment (SPE)</td>\n      <td>July 6, 2011</td>\n      <td>80360843</td>\n      <td>89491916</td>\n      <td>169852759</td>\n      <td>['Comedy', 'Family', 'Fantasy', 'Romance']</td>\n      <td>1 hr 42 min</td>\n      <td>PG</td>\n      <td>0.0</td>\n      <td>9131073</td>\n      <td>102</td>\n      <td>[Comedy, Family, Fantasy, Romance]</td>\n      <td>2011</td>\n      <td>False</td>\n    </tr>\n  </tbody>\n</table>\n<p>918 rows × 16 columns</p>\n</div>"
     },
     "execution_count": 82,
     "metadata": {},
     "output_type": "execute_result"
    }
   ],
   "source": [
    "movies_df_part_1.merge(movies_df_part_2, on=\"Title\")"
   ],
   "metadata": {
    "collapsed": false,
    "pycharm": {
     "name": "#%%\n"
    }
   }
  },
  {
   "cell_type": "markdown",
   "source": [
    "*13 Продемонстрировать работу с .concat или append*"
   ],
   "metadata": {
    "collapsed": false,
    "pycharm": {
     "name": "#%% md\n"
    }
   }
  },
  {
   "cell_type": "code",
   "execution_count": 86,
   "outputs": [
    {
     "data": {
      "text/plain": "                                             Title  \\\n459                 Silver Linings Playbook (2012)   \n460                         Minority Report (2002)   \n461  Fantastic 4: Rise of the Silver Surfer (2007)   \n462                      The Last Airbender (2010)   \n463                                   Rio 2 (2014)   \n..                                             ...   \n454                 Bringing Down the House (2003)   \n455                           The Wolverine (2013)   \n456                                  Wonder (2017)   \n457                            The Departed (2006)   \n458                                    Hulk (2003)   \n\n                                            Movie Info  \\\n459  After a stint in a mental institution, former ...   \n460  In a future where a special police unit is abl...   \n461  The Fantastic Four learn that they aren't the ...   \n462  Follows the adventures of Aang, a young succes...   \n463  It's a jungle out there for Blu, Jewel, and th...   \n..                                                 ...   \n454  When a lonely guy meets a woman on the interne...   \n455  Wolverine comes to Japan to meet an old friend...   \n456  Based on the New York Times bestseller, this m...   \n457  An undercover cop and a mole in the police att...   \n458  Bruce Banner, a genetics researcher with a tra...   \n\n                             Distributor       Release Date  \\\n459                The Weinstein Company  November 16, 2012   \n460                Twentieth Century Fox      June 20, 2002   \n461                Twentieth Century Fox      June 13, 2007   \n462                   Paramount Pictures       July 1, 2010   \n463                Twentieth Century Fox     March 20, 2014   \n..                                   ...                ...   \n454  Walt Disney Studios Motion Pictures      March 7, 2003   \n455                Twentieth Century Fox      July 24, 2013   \n456                            Lionsgate                NaN   \n457                         Warner Bros.    October 5, 2006   \n458                   Universal Pictures      June 19, 2003   \n\n     Domestic Sales (in $)  International Sales (in $)  World Sales (in $)  \\\n459              132092958                   104319495           236412453   \n460              132072926                   226300000           358372926   \n461              131921738                   169991393           301913131   \n462              131772187                   187941694           319713881   \n463              131538435                   367242682           498781117   \n..                     ...                         ...                 ...   \n454              132716677                    32013002           164729679   \n455              132556852                   282271394           414828246   \n456              132422809                   173786480           306209289   \n457              132384315                   159081058           291465373   \n458              132177234                   113107931           245285165   \n\n                                                 Genre Movie Runtime License  \\\n459                     ['Comedy', 'Drama', 'Romance']    2 hr 2 min       R   \n460  ['Action', 'Crime', 'Mystery', 'Sci-Fi', 'Thri...   2 hr 25 min   PG-13   \n461       ['Action', 'Adventure', 'Fantasy', 'Sci-Fi']   1 hr 32 min      PG   \n462       ['Action', 'Adventure', 'Family', 'Fantasy']   1 hr 43 min      PG   \n463  ['Adventure', 'Animation', 'Comedy', 'Family',...   1 hr 41 min       G   \n..                                                 ...           ...     ...   \n454                                         ['Comedy']   1 hr 45 min   PG-13   \n455                               ['Action', 'Sci-Fi']    2 hr 6 min   PG-13   \n456                                ['Drama', 'Family']   1 hr 53 min     NaN   \n457                     ['Crime', 'Drama', 'Thriller']   2 hr 31 min       R   \n458                               ['Action', 'Sci-Fi']   2 hr 18 min   PG-13   \n\n     LicenseNum  Difference Sales  Movie Runtime, min  \\\n459         0.0         -27773463                 122   \n460        13.0          94227074                 145   \n461         0.0          38069655                  92   \n462         0.0          56169507                 103   \n463         0.0         235704247                 101   \n..          ...               ...                 ...   \n454        13.0        -100703675                 105   \n455        13.0         149714542                 126   \n456         NaN          41363671                 113   \n457         0.0          26696743                 151   \n458        13.0         -19069303                 138   \n\n                                             GenreList  Year  \\\n459                           [Comedy, Drama, Romance]  2012   \n460         [Action, Crime, Mystery, Sci-Fi, Thriller]  2002   \n461               [Action, Adventure, Fantasy, Sci-Fi]  2007   \n462               [Action, Adventure, Family, Fantasy]  2010   \n463  [Adventure, Animation, Comedy, Family, Music, ...  2014   \n..                                                 ...   ...   \n454                                           [Comedy]  2003   \n455                                   [Action, Sci-Fi]  2013   \n456                                    [Drama, Family]  2017   \n457                           [Crime, Drama, Thriller]  2006   \n458                                   [Action, Sci-Fi]  2003   \n\n     Runtime more 2 hours  \n459                  True  \n460                  True  \n461                 False  \n462                 False  \n463                 False  \n..                    ...  \n454                 False  \n455                  True  \n456                 False  \n457                  True  \n458                  True  \n\n[918 rows x 16 columns]",
      "text/html": "<div>\n<style scoped>\n    .dataframe tbody tr th:only-of-type {\n        vertical-align: middle;\n    }\n\n    .dataframe tbody tr th {\n        vertical-align: top;\n    }\n\n    .dataframe thead th {\n        text-align: right;\n    }\n</style>\n<table border=\"1\" class=\"dataframe\">\n  <thead>\n    <tr style=\"text-align: right;\">\n      <th></th>\n      <th>Title</th>\n      <th>Movie Info</th>\n      <th>Distributor</th>\n      <th>Release Date</th>\n      <th>Domestic Sales (in $)</th>\n      <th>International Sales (in $)</th>\n      <th>World Sales (in $)</th>\n      <th>Genre</th>\n      <th>Movie Runtime</th>\n      <th>License</th>\n      <th>LicenseNum</th>\n      <th>Difference Sales</th>\n      <th>Movie Runtime, min</th>\n      <th>GenreList</th>\n      <th>Year</th>\n      <th>Runtime more 2 hours</th>\n    </tr>\n  </thead>\n  <tbody>\n    <tr>\n      <th>459</th>\n      <td>Silver Linings Playbook (2012)</td>\n      <td>After a stint in a mental institution, former ...</td>\n      <td>The Weinstein Company</td>\n      <td>November 16, 2012</td>\n      <td>132092958</td>\n      <td>104319495</td>\n      <td>236412453</td>\n      <td>['Comedy', 'Drama', 'Romance']</td>\n      <td>2 hr 2 min</td>\n      <td>R</td>\n      <td>0.0</td>\n      <td>-27773463</td>\n      <td>122</td>\n      <td>[Comedy, Drama, Romance]</td>\n      <td>2012</td>\n      <td>True</td>\n    </tr>\n    <tr>\n      <th>460</th>\n      <td>Minority Report (2002)</td>\n      <td>In a future where a special police unit is abl...</td>\n      <td>Twentieth Century Fox</td>\n      <td>June 20, 2002</td>\n      <td>132072926</td>\n      <td>226300000</td>\n      <td>358372926</td>\n      <td>['Action', 'Crime', 'Mystery', 'Sci-Fi', 'Thri...</td>\n      <td>2 hr 25 min</td>\n      <td>PG-13</td>\n      <td>13.0</td>\n      <td>94227074</td>\n      <td>145</td>\n      <td>[Action, Crime, Mystery, Sci-Fi, Thriller]</td>\n      <td>2002</td>\n      <td>True</td>\n    </tr>\n    <tr>\n      <th>461</th>\n      <td>Fantastic 4: Rise of the Silver Surfer (2007)</td>\n      <td>The Fantastic Four learn that they aren't the ...</td>\n      <td>Twentieth Century Fox</td>\n      <td>June 13, 2007</td>\n      <td>131921738</td>\n      <td>169991393</td>\n      <td>301913131</td>\n      <td>['Action', 'Adventure', 'Fantasy', 'Sci-Fi']</td>\n      <td>1 hr 32 min</td>\n      <td>PG</td>\n      <td>0.0</td>\n      <td>38069655</td>\n      <td>92</td>\n      <td>[Action, Adventure, Fantasy, Sci-Fi]</td>\n      <td>2007</td>\n      <td>False</td>\n    </tr>\n    <tr>\n      <th>462</th>\n      <td>The Last Airbender (2010)</td>\n      <td>Follows the adventures of Aang, a young succes...</td>\n      <td>Paramount Pictures</td>\n      <td>July 1, 2010</td>\n      <td>131772187</td>\n      <td>187941694</td>\n      <td>319713881</td>\n      <td>['Action', 'Adventure', 'Family', 'Fantasy']</td>\n      <td>1 hr 43 min</td>\n      <td>PG</td>\n      <td>0.0</td>\n      <td>56169507</td>\n      <td>103</td>\n      <td>[Action, Adventure, Family, Fantasy]</td>\n      <td>2010</td>\n      <td>False</td>\n    </tr>\n    <tr>\n      <th>463</th>\n      <td>Rio 2 (2014)</td>\n      <td>It's a jungle out there for Blu, Jewel, and th...</td>\n      <td>Twentieth Century Fox</td>\n      <td>March 20, 2014</td>\n      <td>131538435</td>\n      <td>367242682</td>\n      <td>498781117</td>\n      <td>['Adventure', 'Animation', 'Comedy', 'Family',...</td>\n      <td>1 hr 41 min</td>\n      <td>G</td>\n      <td>0.0</td>\n      <td>235704247</td>\n      <td>101</td>\n      <td>[Adventure, Animation, Comedy, Family, Music, ...</td>\n      <td>2014</td>\n      <td>False</td>\n    </tr>\n    <tr>\n      <th>...</th>\n      <td>...</td>\n      <td>...</td>\n      <td>...</td>\n      <td>...</td>\n      <td>...</td>\n      <td>...</td>\n      <td>...</td>\n      <td>...</td>\n      <td>...</td>\n      <td>...</td>\n      <td>...</td>\n      <td>...</td>\n      <td>...</td>\n      <td>...</td>\n      <td>...</td>\n      <td>...</td>\n    </tr>\n    <tr>\n      <th>454</th>\n      <td>Bringing Down the House (2003)</td>\n      <td>When a lonely guy meets a woman on the interne...</td>\n      <td>Walt Disney Studios Motion Pictures</td>\n      <td>March 7, 2003</td>\n      <td>132716677</td>\n      <td>32013002</td>\n      <td>164729679</td>\n      <td>['Comedy']</td>\n      <td>1 hr 45 min</td>\n      <td>PG-13</td>\n      <td>13.0</td>\n      <td>-100703675</td>\n      <td>105</td>\n      <td>[Comedy]</td>\n      <td>2003</td>\n      <td>False</td>\n    </tr>\n    <tr>\n      <th>455</th>\n      <td>The Wolverine (2013)</td>\n      <td>Wolverine comes to Japan to meet an old friend...</td>\n      <td>Twentieth Century Fox</td>\n      <td>July 24, 2013</td>\n      <td>132556852</td>\n      <td>282271394</td>\n      <td>414828246</td>\n      <td>['Action', 'Sci-Fi']</td>\n      <td>2 hr 6 min</td>\n      <td>PG-13</td>\n      <td>13.0</td>\n      <td>149714542</td>\n      <td>126</td>\n      <td>[Action, Sci-Fi]</td>\n      <td>2013</td>\n      <td>True</td>\n    </tr>\n    <tr>\n      <th>456</th>\n      <td>Wonder (2017)</td>\n      <td>Based on the New York Times bestseller, this m...</td>\n      <td>Lionsgate</td>\n      <td>NaN</td>\n      <td>132422809</td>\n      <td>173786480</td>\n      <td>306209289</td>\n      <td>['Drama', 'Family']</td>\n      <td>1 hr 53 min</td>\n      <td>NaN</td>\n      <td>NaN</td>\n      <td>41363671</td>\n      <td>113</td>\n      <td>[Drama, Family]</td>\n      <td>2017</td>\n      <td>False</td>\n    </tr>\n    <tr>\n      <th>457</th>\n      <td>The Departed (2006)</td>\n      <td>An undercover cop and a mole in the police att...</td>\n      <td>Warner Bros.</td>\n      <td>October 5, 2006</td>\n      <td>132384315</td>\n      <td>159081058</td>\n      <td>291465373</td>\n      <td>['Crime', 'Drama', 'Thriller']</td>\n      <td>2 hr 31 min</td>\n      <td>R</td>\n      <td>0.0</td>\n      <td>26696743</td>\n      <td>151</td>\n      <td>[Crime, Drama, Thriller]</td>\n      <td>2006</td>\n      <td>True</td>\n    </tr>\n    <tr>\n      <th>458</th>\n      <td>Hulk (2003)</td>\n      <td>Bruce Banner, a genetics researcher with a tra...</td>\n      <td>Universal Pictures</td>\n      <td>June 19, 2003</td>\n      <td>132177234</td>\n      <td>113107931</td>\n      <td>245285165</td>\n      <td>['Action', 'Sci-Fi']</td>\n      <td>2 hr 18 min</td>\n      <td>PG-13</td>\n      <td>13.0</td>\n      <td>-19069303</td>\n      <td>138</td>\n      <td>[Action, Sci-Fi]</td>\n      <td>2003</td>\n      <td>True</td>\n    </tr>\n  </tbody>\n</table>\n<p>918 rows × 16 columns</p>\n</div>"
     },
     "execution_count": 86,
     "metadata": {},
     "output_type": "execute_result"
    }
   ],
   "source": [
    "num_rows, _ = movies_df.shape\n",
    "pd.concat([movies_df.iloc[num_rows // 2:], movies_df.iloc[:num_rows // 2]])"
   ],
   "metadata": {
    "collapsed": false,
    "pycharm": {
     "name": "#%%\n"
    }
   }
  },
  {
   "cell_type": "markdown",
   "source": [
    "*14 Проитерировать dataframe построчно .iterrows(). Выполните что-то имеющее смысл внутри цикла*"
   ],
   "metadata": {
    "collapsed": false,
    "pycharm": {
     "name": "#%% md\n"
    }
   }
  },
  {
   "cell_type": "code",
   "execution_count": 89,
   "outputs": [
    {
     "name": "stdout",
     "output_type": "stream",
     "text": [
      "========================================\n",
      "0\n",
      "Title                         Star Wars: Episode VII - The Force Awakens (2015)\n",
      "Movie Info                    As a new threat to the galaxy rises, Rey, a de...\n",
      "Distributor                                 Walt Disney Studios Motion Pictures\n",
      "Release Date                                                  December 16, 2015\n",
      "Domestic Sales (in $)                                                 936662225\n",
      "International Sales (in $)                                           1132859475\n",
      "World Sales (in $)                                                   2069521700\n",
      "Genre                                         ['Action', 'Adventure', 'Sci-Fi']\n",
      "Movie Runtime                                                       2 hr 18 min\n",
      "License                                                                   PG-13\n",
      "LicenseNum                                                                 13.0\n",
      "Difference Sales                                                      196197250\n",
      "Movie Runtime, min                                                          138\n",
      "GenreList                                           [Action, Adventure, Sci-Fi]\n",
      "Year                                                                       2015\n",
      "Runtime more 2 hours                                                       True\n",
      "Name: 0, dtype: object\n",
      "========================================\n",
      "========================================\n",
      "1\n",
      "Title                                                  Avengers: Endgame (2019)\n",
      "Movie Info                    After the devastating events of Avengers: Infi...\n",
      "Distributor                                 Walt Disney Studios Motion Pictures\n",
      "Release Date                                                     April 24, 2019\n",
      "Domestic Sales (in $)                                                 858373000\n",
      "International Sales (in $)                                           1939128328\n",
      "World Sales (in $)                                                   2797501328\n",
      "Genre                                ['Action', 'Adventure', 'Drama', 'Sci-Fi']\n",
      "Movie Runtime                                                        3 hr 1 min\n",
      "License                                                                   PG-13\n",
      "LicenseNum                                                                 13.0\n",
      "Difference Sales                                                     1080755328\n",
      "Movie Runtime, min                                                          181\n",
      "GenreList                                    [Action, Adventure, Drama, Sci-Fi]\n",
      "Year                                                                       2019\n",
      "Runtime more 2 hours                                                       True\n",
      "Name: 1, dtype: object\n",
      "========================================\n",
      "========================================\n",
      "2\n",
      "Title                                                             Avatar (2009)\n",
      "Movie Info                    A paraplegic Marine dispatched to the moon Pan...\n",
      "Distributor                                               Twentieth Century Fox\n",
      "Release Date                                                  December 16, 2009\n",
      "Domestic Sales (in $)                                                 760507625\n",
      "International Sales (in $)                                           2086738578\n",
      "World Sales (in $)                                                   2847246203\n",
      "Genre                              ['Action', 'Adventure', 'Fantasy', 'Sci-Fi']\n",
      "Movie Runtime                                                       2 hr 42 min\n",
      "License                                                                   PG-13\n",
      "LicenseNum                                                                 13.0\n",
      "Difference Sales                                                     1326230953\n",
      "Movie Runtime, min                                                          162\n",
      "GenreList                                  [Action, Adventure, Fantasy, Sci-Fi]\n",
      "Year                                                                       2009\n",
      "Runtime more 2 hours                                                       True\n",
      "Name: 2, dtype: object\n",
      "========================================\n",
      "========================================\n",
      "4\n",
      "Title                                             Avengers: Infinity War (2018)\n",
      "Movie Info                    The Avengers and their allies must be willing ...\n",
      "Distributor                                 Walt Disney Studios Motion Pictures\n",
      "Release Date                                                                NaN\n",
      "Domestic Sales (in $)                                                 678815482\n",
      "International Sales (in $)                                           1369544272\n",
      "World Sales (in $)                                                   2048359754\n",
      "Genre                                         ['Action', 'Adventure', 'Sci-Fi']\n",
      "Movie Runtime                                                       2 hr 29 min\n",
      "License                                                                     NaN\n",
      "LicenseNum                                                                  NaN\n",
      "Difference Sales                                                      690728790\n",
      "Movie Runtime, min                                                          149\n",
      "GenreList                                           [Action, Adventure, Sci-Fi]\n",
      "Year                                                                       2018\n",
      "Runtime more 2 hours                                                       True\n",
      "Name: 4, dtype: object\n",
      "========================================\n"
     ]
    }
   ],
   "source": [
    "for index, data in movies_df.iterrows():\n",
    "    if data[\"Year\"] >= 2000 and data[\"World Sales (in $)\"] >= 2e9:\n",
    "        print(\"=\" * 40)\n",
    "        print(index)\n",
    "        print(data)\n",
    "        print(\"=\" * 40)"
   ],
   "metadata": {
    "collapsed": false,
    "pycharm": {
     "name": "#%%\n"
    }
   }
  },
  {
   "cell_type": "code",
   "execution_count": null,
   "outputs": [],
   "source": [],
   "metadata": {
    "collapsed": false,
    "pycharm": {
     "name": "#%%\n"
    }
   }
  }
 ],
 "metadata": {
  "kernelspec": {
   "display_name": "Python 3",
   "language": "python",
   "name": "python3"
  },
  "language_info": {
   "codemirror_mode": {
    "name": "ipython",
    "version": 2
   },
   "file_extension": ".py",
   "mimetype": "text/x-python",
   "name": "python",
   "nbconvert_exporter": "python",
   "pygments_lexer": "ipython2",
   "version": "2.7.6"
  }
 },
 "nbformat": 4,
 "nbformat_minor": 0
}