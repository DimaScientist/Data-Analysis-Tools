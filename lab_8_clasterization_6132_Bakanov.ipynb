{
 "cells": [
  {
   "cell_type": "markdown",
   "source": [
    "# Лабораторная работа 8\n",
    "\n",
    "Кластеризация\n",
    "\n",
    "Выполнил: 6132, Баканов Д.С.\n",
    "\n",
    "***"
   ],
   "metadata": {
    "collapsed": false,
    "pycharm": {
     "name": "#%% md\n"
    }
   }
  },
  {
   "cell_type": "code",
   "execution_count": 26,
   "outputs": [],
   "source": [
    "import tqdm\n",
    "import warnings\n",
    "\n",
    "import pandas as pd\n",
    "import numpy as np\n",
    "from matplotlib import pyplot as plt\n",
    "\n",
    "from scipy.cluster.hierarchy import linkage, dendrogram\n",
    "\n",
    "from sklearn.cluster import KMeans\n",
    "from sklearn.model_selection import GridSearchCV\n",
    "from sklearn.metrics import (\n",
    "    adjusted_rand_score,\n",
    "    adjusted_mutual_info_score,\n",
    "    homogeneity_score,\n",
    "    completeness_score,\n",
    "    v_measure_score,\n",
    "    silhouette_score,\n",
    ")\n",
    "\n",
    "\n",
    "warnings.filterwarnings(\"ignore\")\n",
    "\n",
    "\n",
    "%matplotlib inline"
   ],
   "metadata": {
    "collapsed": false,
    "pycharm": {
     "name": "#%%\n"
    }
   }
  },
  {
   "cell_type": "markdown",
   "source": [
    "*0 Найти датасет для кластеризации: для этого берём датасет для мультиклассовой классификации и временно убираем метки классов. Эти метки классов пригодятся нам для оценки качества кластеризации. Хотя в реальной жизни такой роскоши скорее всего не будет, однако наличие априорного знания о кластерах позволит нам посчитать несколько дополнительных метрик. Опишите данные, что обозначает каждый столбец, какого типа (категориальный, вещественный, целочисленный, бинарный) данный столбец, при необходимости для категориальных в том числе бинарных признаков привести расшифровку их значений.*"
   ],
   "metadata": {
    "collapsed": false,
    "pycharm": {
     "name": "#%% md\n"
    }
   }
  },
  {
   "cell_type": "code",
   "execution_count": 2,
   "outputs": [],
   "source": [
    "dry_bean_df = pd.read_excel(\"./data/Dry_Bean_Dataset/Dry_Bean_Dataset.xlsx\", engine='openpyxl')"
   ],
   "metadata": {
    "collapsed": false,
    "pycharm": {
     "name": "#%%\n"
    }
   }
  },
  {
   "cell_type": "code",
   "execution_count": 3,
   "outputs": [
    {
     "data": {
      "text/plain": "    Area  Perimeter  MajorAxisLength  MinorAxisLength  AspectRation  \\\n0  28395    610.291       208.178117       173.888747      1.197191   \n1  28734    638.018       200.524796       182.734419      1.097356   \n2  29380    624.110       212.826130       175.931143      1.209713   \n3  30008    645.884       210.557999       182.516516      1.153638   \n4  30140    620.134       201.847882       190.279279      1.060798   \n\n   Eccentricity  ConvexArea  EquivDiameter    Extent  Solidity  roundness  \\\n0      0.549812       28715     190.141097  0.763923  0.988856   0.958027   \n1      0.411785       29172     191.272750  0.783968  0.984986   0.887034   \n2      0.562727       29690     193.410904  0.778113  0.989559   0.947849   \n3      0.498616       30724     195.467062  0.782681  0.976696   0.903936   \n4      0.333680       30417     195.896503  0.773098  0.990893   0.984877   \n\n   Compactness  ShapeFactor1  ShapeFactor2  ShapeFactor3  ShapeFactor4  Class  \n0     0.913358      0.007332      0.003147      0.834222      0.998724  SEKER  \n1     0.953861      0.006979      0.003564      0.909851      0.998430  SEKER  \n2     0.908774      0.007244      0.003048      0.825871      0.999066  SEKER  \n3     0.928329      0.007017      0.003215      0.861794      0.994199  SEKER  \n4     0.970516      0.006697      0.003665      0.941900      0.999166  SEKER  ",
      "text/html": "<div>\n<style scoped>\n    .dataframe tbody tr th:only-of-type {\n        vertical-align: middle;\n    }\n\n    .dataframe tbody tr th {\n        vertical-align: top;\n    }\n\n    .dataframe thead th {\n        text-align: right;\n    }\n</style>\n<table border=\"1\" class=\"dataframe\">\n  <thead>\n    <tr style=\"text-align: right;\">\n      <th></th>\n      <th>Area</th>\n      <th>Perimeter</th>\n      <th>MajorAxisLength</th>\n      <th>MinorAxisLength</th>\n      <th>AspectRation</th>\n      <th>Eccentricity</th>\n      <th>ConvexArea</th>\n      <th>EquivDiameter</th>\n      <th>Extent</th>\n      <th>Solidity</th>\n      <th>roundness</th>\n      <th>Compactness</th>\n      <th>ShapeFactor1</th>\n      <th>ShapeFactor2</th>\n      <th>ShapeFactor3</th>\n      <th>ShapeFactor4</th>\n      <th>Class</th>\n    </tr>\n  </thead>\n  <tbody>\n    <tr>\n      <th>0</th>\n      <td>28395</td>\n      <td>610.291</td>\n      <td>208.178117</td>\n      <td>173.888747</td>\n      <td>1.197191</td>\n      <td>0.549812</td>\n      <td>28715</td>\n      <td>190.141097</td>\n      <td>0.763923</td>\n      <td>0.988856</td>\n      <td>0.958027</td>\n      <td>0.913358</td>\n      <td>0.007332</td>\n      <td>0.003147</td>\n      <td>0.834222</td>\n      <td>0.998724</td>\n      <td>SEKER</td>\n    </tr>\n    <tr>\n      <th>1</th>\n      <td>28734</td>\n      <td>638.018</td>\n      <td>200.524796</td>\n      <td>182.734419</td>\n      <td>1.097356</td>\n      <td>0.411785</td>\n      <td>29172</td>\n      <td>191.272750</td>\n      <td>0.783968</td>\n      <td>0.984986</td>\n      <td>0.887034</td>\n      <td>0.953861</td>\n      <td>0.006979</td>\n      <td>0.003564</td>\n      <td>0.909851</td>\n      <td>0.998430</td>\n      <td>SEKER</td>\n    </tr>\n    <tr>\n      <th>2</th>\n      <td>29380</td>\n      <td>624.110</td>\n      <td>212.826130</td>\n      <td>175.931143</td>\n      <td>1.209713</td>\n      <td>0.562727</td>\n      <td>29690</td>\n      <td>193.410904</td>\n      <td>0.778113</td>\n      <td>0.989559</td>\n      <td>0.947849</td>\n      <td>0.908774</td>\n      <td>0.007244</td>\n      <td>0.003048</td>\n      <td>0.825871</td>\n      <td>0.999066</td>\n      <td>SEKER</td>\n    </tr>\n    <tr>\n      <th>3</th>\n      <td>30008</td>\n      <td>645.884</td>\n      <td>210.557999</td>\n      <td>182.516516</td>\n      <td>1.153638</td>\n      <td>0.498616</td>\n      <td>30724</td>\n      <td>195.467062</td>\n      <td>0.782681</td>\n      <td>0.976696</td>\n      <td>0.903936</td>\n      <td>0.928329</td>\n      <td>0.007017</td>\n      <td>0.003215</td>\n      <td>0.861794</td>\n      <td>0.994199</td>\n      <td>SEKER</td>\n    </tr>\n    <tr>\n      <th>4</th>\n      <td>30140</td>\n      <td>620.134</td>\n      <td>201.847882</td>\n      <td>190.279279</td>\n      <td>1.060798</td>\n      <td>0.333680</td>\n      <td>30417</td>\n      <td>195.896503</td>\n      <td>0.773098</td>\n      <td>0.990893</td>\n      <td>0.984877</td>\n      <td>0.970516</td>\n      <td>0.006697</td>\n      <td>0.003665</td>\n      <td>0.941900</td>\n      <td>0.999166</td>\n      <td>SEKER</td>\n    </tr>\n  </tbody>\n</table>\n</div>"
     },
     "execution_count": 3,
     "metadata": {},
     "output_type": "execute_result"
    }
   ],
   "source": [
    "dry_bean_df.head()"
   ],
   "metadata": {
    "collapsed": false,
    "pycharm": {
     "name": "#%%\n"
    }
   }
  },
  {
   "cell_type": "code",
   "execution_count": 4,
   "outputs": [
    {
     "name": "stdout",
     "output_type": "stream",
     "text": [
      "<class 'pandas.core.frame.DataFrame'>\n",
      "RangeIndex: 13611 entries, 0 to 13610\n",
      "Data columns (total 17 columns):\n",
      " #   Column           Non-Null Count  Dtype  \n",
      "---  ------           --------------  -----  \n",
      " 0   Area             13611 non-null  int64  \n",
      " 1   Perimeter        13611 non-null  float64\n",
      " 2   MajorAxisLength  13611 non-null  float64\n",
      " 3   MinorAxisLength  13611 non-null  float64\n",
      " 4   AspectRation     13611 non-null  float64\n",
      " 5   Eccentricity     13611 non-null  float64\n",
      " 6   ConvexArea       13611 non-null  int64  \n",
      " 7   EquivDiameter    13611 non-null  float64\n",
      " 8   Extent           13611 non-null  float64\n",
      " 9   Solidity         13611 non-null  float64\n",
      " 10  roundness        13611 non-null  float64\n",
      " 11  Compactness      13611 non-null  float64\n",
      " 12  ShapeFactor1     13611 non-null  float64\n",
      " 13  ShapeFactor2     13611 non-null  float64\n",
      " 14  ShapeFactor3     13611 non-null  float64\n",
      " 15  ShapeFactor4     13611 non-null  float64\n",
      " 16  Class            13611 non-null  object \n",
      "dtypes: float64(14), int64(2), object(1)\n",
      "memory usage: 1.8+ MB\n"
     ]
    }
   ],
   "source": [
    "dry_bean_df.info()"
   ],
   "metadata": {
    "collapsed": false,
    "pycharm": {
     "name": "#%%\n"
    }
   }
  },
  {
   "cell_type": "code",
   "execution_count": 5,
   "outputs": [
    {
     "data": {
      "text/plain": "                Area     Perimeter  MajorAxisLength  MinorAxisLength  \\\ncount   13611.000000  13611.000000     13611.000000     13611.000000   \nmean    53048.284549    855.283459       320.141867       202.270714   \nstd     29324.095717    214.289696        85.694186        44.970091   \nmin     20420.000000    524.736000       183.601165       122.512653   \n25%     36328.000000    703.523500       253.303633       175.848170   \n50%     44652.000000    794.941000       296.883367       192.431733   \n75%     61332.000000    977.213000       376.495012       217.031741   \nmax    254616.000000   1985.370000       738.860153       460.198497   \n\n       AspectRation  Eccentricity     ConvexArea  EquivDiameter        Extent  \\\ncount  13611.000000  13611.000000   13611.000000   13611.000000  13611.000000   \nmean       1.583242      0.750895   53768.200206     253.064220      0.749733   \nstd        0.246678      0.092002   29774.915817      59.177120      0.049086   \nmin        1.024868      0.218951   20684.000000     161.243764      0.555315   \n25%        1.432307      0.715928   36714.500000     215.068003      0.718634   \n50%        1.551124      0.764441   45178.000000     238.438026      0.759859   \n75%        1.707109      0.810466   62294.000000     279.446467      0.786851   \nmax        2.430306      0.911423  263261.000000     569.374358      0.866195   \n\n           Solidity     roundness   Compactness  ShapeFactor1  ShapeFactor2  \\\ncount  13611.000000  13611.000000  13611.000000  13611.000000  13611.000000   \nmean       0.987143      0.873282      0.799864      0.006564      0.001716   \nstd        0.004660      0.059520      0.061713      0.001128      0.000596   \nmin        0.919246      0.489618      0.640577      0.002778      0.000564   \n25%        0.985670      0.832096      0.762469      0.005900      0.001154   \n50%        0.988283      0.883157      0.801277      0.006645      0.001694   \n75%        0.990013      0.916869      0.834270      0.007271      0.002170   \nmax        0.994677      0.990685      0.987303      0.010451      0.003665   \n\n       ShapeFactor3  ShapeFactor4  \ncount  13611.000000  13611.000000  \nmean       0.643590      0.995063  \nstd        0.098996      0.004366  \nmin        0.410339      0.947687  \n25%        0.581359      0.993703  \n50%        0.642044      0.996386  \n75%        0.696006      0.997883  \nmax        0.974767      0.999733  ",
      "text/html": "<div>\n<style scoped>\n    .dataframe tbody tr th:only-of-type {\n        vertical-align: middle;\n    }\n\n    .dataframe tbody tr th {\n        vertical-align: top;\n    }\n\n    .dataframe thead th {\n        text-align: right;\n    }\n</style>\n<table border=\"1\" class=\"dataframe\">\n  <thead>\n    <tr style=\"text-align: right;\">\n      <th></th>\n      <th>Area</th>\n      <th>Perimeter</th>\n      <th>MajorAxisLength</th>\n      <th>MinorAxisLength</th>\n      <th>AspectRation</th>\n      <th>Eccentricity</th>\n      <th>ConvexArea</th>\n      <th>EquivDiameter</th>\n      <th>Extent</th>\n      <th>Solidity</th>\n      <th>roundness</th>\n      <th>Compactness</th>\n      <th>ShapeFactor1</th>\n      <th>ShapeFactor2</th>\n      <th>ShapeFactor3</th>\n      <th>ShapeFactor4</th>\n    </tr>\n  </thead>\n  <tbody>\n    <tr>\n      <th>count</th>\n      <td>13611.000000</td>\n      <td>13611.000000</td>\n      <td>13611.000000</td>\n      <td>13611.000000</td>\n      <td>13611.000000</td>\n      <td>13611.000000</td>\n      <td>13611.000000</td>\n      <td>13611.000000</td>\n      <td>13611.000000</td>\n      <td>13611.000000</td>\n      <td>13611.000000</td>\n      <td>13611.000000</td>\n      <td>13611.000000</td>\n      <td>13611.000000</td>\n      <td>13611.000000</td>\n      <td>13611.000000</td>\n    </tr>\n    <tr>\n      <th>mean</th>\n      <td>53048.284549</td>\n      <td>855.283459</td>\n      <td>320.141867</td>\n      <td>202.270714</td>\n      <td>1.583242</td>\n      <td>0.750895</td>\n      <td>53768.200206</td>\n      <td>253.064220</td>\n      <td>0.749733</td>\n      <td>0.987143</td>\n      <td>0.873282</td>\n      <td>0.799864</td>\n      <td>0.006564</td>\n      <td>0.001716</td>\n      <td>0.643590</td>\n      <td>0.995063</td>\n    </tr>\n    <tr>\n      <th>std</th>\n      <td>29324.095717</td>\n      <td>214.289696</td>\n      <td>85.694186</td>\n      <td>44.970091</td>\n      <td>0.246678</td>\n      <td>0.092002</td>\n      <td>29774.915817</td>\n      <td>59.177120</td>\n      <td>0.049086</td>\n      <td>0.004660</td>\n      <td>0.059520</td>\n      <td>0.061713</td>\n      <td>0.001128</td>\n      <td>0.000596</td>\n      <td>0.098996</td>\n      <td>0.004366</td>\n    </tr>\n    <tr>\n      <th>min</th>\n      <td>20420.000000</td>\n      <td>524.736000</td>\n      <td>183.601165</td>\n      <td>122.512653</td>\n      <td>1.024868</td>\n      <td>0.218951</td>\n      <td>20684.000000</td>\n      <td>161.243764</td>\n      <td>0.555315</td>\n      <td>0.919246</td>\n      <td>0.489618</td>\n      <td>0.640577</td>\n      <td>0.002778</td>\n      <td>0.000564</td>\n      <td>0.410339</td>\n      <td>0.947687</td>\n    </tr>\n    <tr>\n      <th>25%</th>\n      <td>36328.000000</td>\n      <td>703.523500</td>\n      <td>253.303633</td>\n      <td>175.848170</td>\n      <td>1.432307</td>\n      <td>0.715928</td>\n      <td>36714.500000</td>\n      <td>215.068003</td>\n      <td>0.718634</td>\n      <td>0.985670</td>\n      <td>0.832096</td>\n      <td>0.762469</td>\n      <td>0.005900</td>\n      <td>0.001154</td>\n      <td>0.581359</td>\n      <td>0.993703</td>\n    </tr>\n    <tr>\n      <th>50%</th>\n      <td>44652.000000</td>\n      <td>794.941000</td>\n      <td>296.883367</td>\n      <td>192.431733</td>\n      <td>1.551124</td>\n      <td>0.764441</td>\n      <td>45178.000000</td>\n      <td>238.438026</td>\n      <td>0.759859</td>\n      <td>0.988283</td>\n      <td>0.883157</td>\n      <td>0.801277</td>\n      <td>0.006645</td>\n      <td>0.001694</td>\n      <td>0.642044</td>\n      <td>0.996386</td>\n    </tr>\n    <tr>\n      <th>75%</th>\n      <td>61332.000000</td>\n      <td>977.213000</td>\n      <td>376.495012</td>\n      <td>217.031741</td>\n      <td>1.707109</td>\n      <td>0.810466</td>\n      <td>62294.000000</td>\n      <td>279.446467</td>\n      <td>0.786851</td>\n      <td>0.990013</td>\n      <td>0.916869</td>\n      <td>0.834270</td>\n      <td>0.007271</td>\n      <td>0.002170</td>\n      <td>0.696006</td>\n      <td>0.997883</td>\n    </tr>\n    <tr>\n      <th>max</th>\n      <td>254616.000000</td>\n      <td>1985.370000</td>\n      <td>738.860153</td>\n      <td>460.198497</td>\n      <td>2.430306</td>\n      <td>0.911423</td>\n      <td>263261.000000</td>\n      <td>569.374358</td>\n      <td>0.866195</td>\n      <td>0.994677</td>\n      <td>0.990685</td>\n      <td>0.987303</td>\n      <td>0.010451</td>\n      <td>0.003665</td>\n      <td>0.974767</td>\n      <td>0.999733</td>\n    </tr>\n  </tbody>\n</table>\n</div>"
     },
     "execution_count": 5,
     "metadata": {},
     "output_type": "execute_result"
    }
   ],
   "source": [
    "dry_bean_df.describe()"
   ],
   "metadata": {
    "collapsed": false,
    "pycharm": {
     "name": "#%%\n"
    }
   }
  },
  {
   "cell_type": "code",
   "execution_count": 6,
   "outputs": [
    {
     "data": {
      "text/plain": "Area               12011\nPerimeter          13416\nMajorAxisLength    13543\nMinorAxisLength    13543\nAspectRation       13543\nEccentricity       13543\nConvexArea         12066\nEquivDiameter      12011\nExtent             13535\nSolidity           13526\nroundness          13543\nCompactness        13543\nShapeFactor1       13543\nShapeFactor2       13543\nShapeFactor3       13543\nShapeFactor4       13543\nClass                  7\ndtype: int64"
     },
     "execution_count": 6,
     "metadata": {},
     "output_type": "execute_result"
    }
   ],
   "source": [
    "dry_bean_df.nunique()"
   ],
   "metadata": {
    "collapsed": false,
    "pycharm": {
     "name": "#%%\n"
    }
   }
  },
  {
   "cell_type": "code",
   "execution_count": 7,
   "outputs": [
    {
     "data": {
      "text/plain": "Area                 int64\nPerimeter          float64\nMajorAxisLength    float64\nMinorAxisLength    float64\nAspectRation       float64\nEccentricity       float64\nConvexArea           int64\nEquivDiameter      float64\nExtent             float64\nSolidity           float64\nroundness          float64\nCompactness        float64\nShapeFactor1       float64\nShapeFactor2       float64\nShapeFactor3       float64\nShapeFactor4       float64\nClass               object\ndtype: object"
     },
     "execution_count": 7,
     "metadata": {},
     "output_type": "execute_result"
    }
   ],
   "source": [
    "dry_bean_df.dtypes"
   ],
   "metadata": {
    "collapsed": false,
    "pycharm": {
     "name": "#%%\n"
    }
   }
  },
  {
   "cell_type": "markdown",
   "source": [
    "### Описание датасета\n",
    "\n",
    "*Общее описание:* датасет представляет собой сведения о семи типов бобов фасоли.\n",
    "\n",
    "\n",
    "| Признак             | Описание                                                                                                 | Тип            |\n",
    "|---------------------|----------------------------------------------------------------------------------------------------------|----------------|\n",
    "| Area                | Площадь зоны боба и количество пикселей в пределах ее границ.                                            | числовой       |\n",
    "| Perimeter           | Окружность боба определяется как длина его границы.                                                      | числовой       |\n",
    "| Major axis length   | Расстояние между концами самой длинной линии, которую можно провести из боба.                            | числовой       |\n",
    "| Minor axis length   | Самая длинная линия, которую можно провести от боба, стоя перпендикулярно главной оси.                   | числовой       |\n",
    "| Aspect ratio        | Соотношение сторон.                                                                                      | числовой       |\n",
    "| Eccentricity        | Эксцентриситет эллипса, имеющий те же моменты, что и область.                                            | числовой       |\n",
    "| Convex area         | Количество пикселей в наименьшем выпуклом многоугольнике, который может содержать площадь семени фасоли. | числовой       |\n",
    "| Equivalent diameter | Диаметр круга, имеющего ту же площадь, что и площадь семени фасоли.                                      | числовой       |\n",
    "| Extent              | Отношение пикселей в ограничивающей рамке к площади боба.                                                | числовой       |\n",
    "| Solidity            | Также известен как выпуклость. Отношение пикселей в выпуклой оболочке к тем, которые находятся в бобах.  | числовой       |\n",
    "| Roundness           | Рассчитывается по следующей формуле: (4pi * Area)/(Perimeter^2)                                          | числовой       |\n",
    "| Compactness         | Измеряет округлость объекта: Equivalent diameter / Major axis length                                     | числовой       |\n",
    "| ShapeFactor<число>  | Фактор размера                                                                                           | числовой       |\n",
    "| Class               | Класс боба: Seker, Barbunya, Bombay, Cali, Dermosan, Horoz and Sira                                      | категориальный |"
   ],
   "metadata": {
    "collapsed": false,
    "pycharm": {
     "name": "#%% md\n"
    }
   }
  },
  {
   "cell_type": "code",
   "execution_count": 8,
   "outputs": [
    {
     "data": {
      "text/plain": "(13611, 17)"
     },
     "execution_count": 8,
     "metadata": {},
     "output_type": "execute_result"
    }
   ],
   "source": [
    "dry_bean_df.shape"
   ],
   "metadata": {
    "collapsed": false,
    "pycharm": {
     "name": "#%%\n"
    }
   }
  },
  {
   "cell_type": "code",
   "execution_count": 9,
   "outputs": [],
   "source": [
    "# так как датасет слишком большой, возьмем выборку из 1000 эелементов\n",
    "dry_bean_df_sample = dry_bean_df.sample(1000)"
   ],
   "metadata": {
    "collapsed": false,
    "pycharm": {
     "name": "#%%\n"
    }
   }
  },
  {
   "cell_type": "code",
   "execution_count": 10,
   "outputs": [],
   "source": [
    "clasterization_df = dry_bean_df_sample.drop(columns=[\"Class\", \"ShapeFactor1\", \"ShapeFactor2\", \"ShapeFactor3\", \"ShapeFactor4\"], axis=1)"
   ],
   "metadata": {
    "collapsed": false,
    "pycharm": {
     "name": "#%%\n"
    }
   }
  },
  {
   "cell_type": "code",
   "execution_count": 11,
   "outputs": [
    {
     "data": {
      "text/plain": "array(['SIRA', 'DERMASON', 'SEKER', 'BOMBAY', 'HOROZ', 'BARBUNYA', 'CALI'],\n      dtype=object)"
     },
     "execution_count": 11,
     "metadata": {},
     "output_type": "execute_result"
    }
   ],
   "source": [
    "dry_bean_df_sample[\"Class\"].unique()"
   ],
   "metadata": {
    "collapsed": false,
    "pycharm": {
     "name": "#%%\n"
    }
   }
  },
  {
   "cell_type": "code",
   "execution_count": 12,
   "outputs": [],
   "source": [
    "fac_labels = pd.factorize(dry_bean_df_sample[\"Class\"])"
   ],
   "metadata": {
    "collapsed": false,
    "pycharm": {
     "name": "#%%\n"
    }
   }
  },
  {
   "cell_type": "code",
   "execution_count": 13,
   "outputs": [],
   "source": [
    "def get_metrics(X, y, model):\n",
    "    return {\n",
    "        \"ARI\": adjusted_rand_score(y, model.labels_),\n",
    "        \"AMI\": adjusted_mutual_info_score(y, model.labels_),\n",
    "        \"Homogeneity\": homogeneity_score(y, model.labels_),\n",
    "        \"Completeness\": completeness_score(y, model.labels_),\n",
    "        \"V-measure\": v_measure_score(y, model.labels_),\n",
    "        \"Silhouette\": silhouette_score(X, model.labels_)\n",
    "    }"
   ],
   "metadata": {
    "collapsed": false,
    "pycharm": {
     "name": "#%%\n"
    }
   }
  },
  {
   "cell_type": "markdown",
   "source": [
    "*1 Выполните иерархическую агломеративную кластеризацию (`scipy.cluster.hierarchy`), постройте график-дендрограмму (`hierarchy.dendrogram`)*"
   ],
   "metadata": {
    "collapsed": false,
    "pycharm": {
     "name": "#%% md\n"
    }
   }
  },
  {
   "cell_type": "code",
   "execution_count": 14,
   "outputs": [
    {
     "data": {
      "text/plain": "<Figure size 1440x1080 with 1 Axes>",
      "image/png": "[encoded data removed]"
     },
     "metadata": {
      "needs_background": "light"
     },
     "output_type": "display_data"
    }
   ],
   "source": [
    "fig, ax = plt.subplots(figsize=(20, 15))\n",
    "dendrogram(linkage(clasterization_df, method=\"complete\"), labels=dry_bean_df_sample[\"Class\"].tolist(), ax=ax)\n",
    "ax.set_ylabel(\"Расстояние\")\n",
    "plt.xticks(rotation=90)\n",
    "plt.show()"
   ],
   "metadata": {
    "collapsed": false,
    "pycharm": {
     "name": "#%%\n"
    }
   }
  },
  {
   "cell_type": "markdown",
   "source": [
    "*2 На том же датасете выподните кластеризацию, используя любой другой метод кластеризации (пока с произвольными гиперпараметрами)*"
   ],
   "metadata": {
    "collapsed": false,
    "pycharm": {
     "name": "#%% md\n"
    }
   }
  },
  {
   "cell_type": "code",
   "execution_count": 15,
   "outputs": [],
   "source": [
    "n_clusters = len(fac_labels[1])\n",
    "k_means = KMeans(n_clusters=n_clusters, max_iter=100).fit(clasterization_df)"
   ],
   "metadata": {
    "collapsed": false,
    "pycharm": {
     "name": "#%%\n"
    }
   }
  },
  {
   "cell_type": "code",
   "execution_count": 16,
   "outputs": [
    {
     "data": {
      "text/plain": "{'ARI': 0.3828106771452881,\n 'AMI': 0.514319964374219,\n 'Homogeneity': 0.48914637427995594,\n 'Completeness': 0.554173292947656,\n 'V-measure': 0.5196333692979114,\n 'Silhouette': 0.5482806672540673}"
     },
     "execution_count": 16,
     "metadata": {},
     "output_type": "execute_result"
    }
   ],
   "source": [
    "get_metrics(clasterization_df, fac_labels[0], k_means)"
   ],
   "metadata": {
    "collapsed": false,
    "pycharm": {
     "name": "#%%\n"
    }
   }
  },
  {
   "cell_type": "markdown",
   "source": [
    "*3 Выполните оптимизацию гиперпараметров кластеризации (либо иерархической модели из п. 1, либо иной модели из п. 2, на ваш выбор; в случае иерархической кластеризации из п. 1 гиперпараметр — пороговое расстояние между центроидами, являющееся границей разбиения на кластеры). Оптимизацию выполните, используя одну из метрик качества кластеризации, для которых нам понадобится информация об исходных метках класса: `Adjusted Rand Index (ARI)`, `Adjusted Mutual Information (AMI)`, `Гомогенность`, `полнота`, `V-мера`.*"
   ],
   "metadata": {
    "collapsed": false,
    "pycharm": {
     "name": "#%% md\n"
    }
   }
  },
  {
   "cell_type": "code",
   "execution_count": 21,
   "outputs": [],
   "source": [
    "k_means_params = {\n",
    "    \"n_clusters\": range(2, 11),\n",
    "    \"init\": [\"k-means++\", \"random\"],\n",
    "    \"max_iter\": range(1, 501, 50),\n",
    "    \"algorithm\": [\"auto\", \"full\", \"elkan\"],\n",
    "}\n",
    "gcv = GridSearchCV(estimator=KMeans(), param_grid=k_means_params, scoring=\"homogeneity_score\")"
   ],
   "metadata": {
    "collapsed": false,
    "pycharm": {
     "name": "#%%\n"
    }
   }
  },
  {
   "cell_type": "code",
   "execution_count": 22,
   "outputs": [
    {
     "data": {
      "text/plain": "KMeans(init='random', max_iter=51, n_clusters=10)"
     },
     "execution_count": 22,
     "metadata": {},
     "output_type": "execute_result"
    }
   ],
   "source": [
    "gcv.fit(clasterization_df, fac_labels[0])\n",
    "gcv.best_estimator_"
   ],
   "metadata": {
    "collapsed": false,
    "pycharm": {
     "name": "#%%\n"
    }
   }
  },
  {
   "cell_type": "code",
   "execution_count": 23,
   "outputs": [],
   "source": [
    "best_k_means = gcv.best_estimator_"
   ],
   "metadata": {
    "collapsed": false,
    "pycharm": {
     "name": "#%%\n"
    }
   }
  },
  {
   "cell_type": "code",
   "execution_count": 24,
   "outputs": [
    {
     "data": {
      "text/plain": "{'ARI': 0.34608976135453057,\n 'AMI': 0.5063621352089452,\n 'Homogeneity': 0.5326456394623538,\n 'Completeness': 0.49619172266828787,\n 'V-measure': 0.5137728607935547,\n 'Silhouette': 0.5440392446176031}"
     },
     "execution_count": 24,
     "metadata": {},
     "output_type": "execute_result"
    }
   ],
   "source": [
    "get_metrics(clasterization_df, fac_labels[0], best_k_means)"
   ],
   "metadata": {
    "collapsed": false,
    "pycharm": {
     "name": "#%%\n"
    }
   }
  },
  {
   "cell_type": "markdown",
   "source": [
    "*4 Используя алгоритм/модель из п. 2 выполните оптимизацию гиперпараметра количества кластеров, используя \"правило локтя\" (анализируем график силуэта)*"
   ],
   "metadata": {
    "collapsed": false,
    "pycharm": {
     "name": "#%% md\n"
    }
   }
  },
  {
   "cell_type": "code",
   "execution_count": 34,
   "outputs": [
    {
     "name": "stderr",
     "output_type": "stream",
     "text": [
      "100%|██████████| 99/99 [00:19<00:00,  5.05it/s]\n",
      "100%|██████████| 99/99 [00:19<00:00,  5.08it/s]\n"
     ]
    }
   ],
   "source": [
    "evaluations = []\n",
    "for n_cluster in tqdm.tqdm(range(2, 101)):\n",
    "    result = {}\n",
    "    result[\"clusters\"] = n_cluster\n",
    "    k_means_model = KMeans(n_clusters=n_cluster)\n",
    "    k_means_model.fit(clasterization_df)\n",
    "    result[\"silhouette_score\"] = silhouette_score(clasterization_df, k_means_model.labels_)\n",
    "    evaluations.append(result)"
   ],
   "metadata": {
    "collapsed": false,
    "pycharm": {
     "name": "#%%\n"
    }
   }
  },
  {
   "cell_type": "code",
   "execution_count": 35,
   "outputs": [],
   "source": [
    "evaluations_df = pd.DataFrame(data=evaluations)"
   ],
   "metadata": {
    "collapsed": false,
    "pycharm": {
     "name": "#%%\n"
    }
   }
  },
  {
   "cell_type": "code",
   "execution_count": 41,
   "outputs": [
    {
     "data": {
      "text/plain": "<AxesSubplot:xlabel='clusters'>"
     },
     "execution_count": 41,
     "metadata": {},
     "output_type": "execute_result"
    },
    {
     "data": {
      "text/plain": "<Figure size 1080x720 with 1 Axes>",
      "image/png": "[encoded data removed]"
     },
     "metadata": {
      "needs_background": "light"
     },
     "output_type": "display_data"
    }
   ],
   "source": [
    "evaluations_df.plot(x=\"clusters\", y=\"silhouette_score\", figsize=(15, 10))"
   ],
   "metadata": {
    "collapsed": false,
    "pycharm": {
     "name": "#%%\n"
    }
   }
  },
  {
   "cell_type": "code",
   "execution_count": 46,
   "outputs": [
    {
     "data": {
      "text/plain": "    clusters  silhouette_score\n18        20          0.557359\n19        21          0.563154\n20        22          0.561335\n21        23          0.558372\n22        24          0.545827\n23        25          0.533745\n24        26          0.544901\n25        27          0.549593\n26        28          0.545639\n27        29          0.551572\n28        30          0.537561",
      "text/html": "<div>\n<style scoped>\n    .dataframe tbody tr th:only-of-type {\n        vertical-align: middle;\n    }\n\n    .dataframe tbody tr th {\n        vertical-align: top;\n    }\n\n    .dataframe thead th {\n        text-align: right;\n    }\n</style>\n<table border=\"1\" class=\"dataframe\">\n  <thead>\n    <tr style=\"text-align: right;\">\n      <th></th>\n      <th>clusters</th>\n      <th>silhouette_score</th>\n    </tr>\n  </thead>\n  <tbody>\n    <tr>\n      <th>18</th>\n      <td>20</td>\n      <td>0.557359</td>\n    </tr>\n    <tr>\n      <th>19</th>\n      <td>21</td>\n      <td>0.563154</td>\n    </tr>\n    <tr>\n      <th>20</th>\n      <td>22</td>\n      <td>0.561335</td>\n    </tr>\n    <tr>\n      <th>21</th>\n      <td>23</td>\n      <td>0.558372</td>\n    </tr>\n    <tr>\n      <th>22</th>\n      <td>24</td>\n      <td>0.545827</td>\n    </tr>\n    <tr>\n      <th>23</th>\n      <td>25</td>\n      <td>0.533745</td>\n    </tr>\n    <tr>\n      <th>24</th>\n      <td>26</td>\n      <td>0.544901</td>\n    </tr>\n    <tr>\n      <th>25</th>\n      <td>27</td>\n      <td>0.549593</td>\n    </tr>\n    <tr>\n      <th>26</th>\n      <td>28</td>\n      <td>0.545639</td>\n    </tr>\n    <tr>\n      <th>27</th>\n      <td>29</td>\n      <td>0.551572</td>\n    </tr>\n    <tr>\n      <th>28</th>\n      <td>30</td>\n      <td>0.537561</td>\n    </tr>\n  </tbody>\n</table>\n</div>"
     },
     "execution_count": 46,
     "metadata": {},
     "output_type": "execute_result"
    }
   ],
   "source": [
    "evaluations_df[evaluations_df[\"clusters\"].between(20, 30)]"
   ],
   "metadata": {
    "collapsed": false,
    "pycharm": {
     "name": "#%%\n"
    }
   }
  },
  {
   "cell_type": "markdown",
   "source": [
    "Как можно видеть из графика при количестве кластеров *21* произошел перелом (появился \"локоть\"). Далее значение силуэта пошло на спад. Следовательно, оптимальным значением количества кластеров луччше выбрать 21"
   ],
   "metadata": {
    "collapsed": false,
    "pycharm": {
     "name": "#%% md\n"
    }
   }
  },
  {
   "cell_type": "markdown",
   "source": [
    "Как считаются нужные нам метрики:\n",
    "\n",
    "`ARI`: metrics.adjusted_rand_score(y, algo.labels_),\n",
    "\n",
    "`AMI`: metrics.adjusted_mutual_info_score(y, algo.labels_),\n",
    "\n",
    "`Homogenity`: metrics.homogeneity_score(y, algo.labels_),\n",
    "\n",
    "`Completeness`: metrics.completeness_score(y, algo.labels_),\n",
    "\n",
    "`V-measure`: metrics.v_measure_score(y, algo.labels_),\n",
    "\n",
    "`Silhouette`: metrics.silhouette_score(X, algo.labels_)\n"
   ],
   "metadata": {
    "collapsed": false,
    "pycharm": {
     "name": "#%% md\n"
    }
   }
  },
  {
   "cell_type": "code",
   "execution_count": null,
   "outputs": [],
   "source": [],
   "metadata": {
    "collapsed": false,
    "pycharm": {
     "name": "#%%\n"
    }
   }
  }
 ],
 "metadata": {
  "kernelspec": {
   "display_name": "Python 3",
   "language": "python",
   "name": "python3"
  },
  "language_info": {
   "codemirror_mode": {
    "name": "ipython",
    "version": 2
   },
   "file_extension": ".py",
   "mimetype": "text/x-python",
   "name": "python",
   "nbconvert_exporter": "python",
   "pygments_lexer": "ipython2",
   "version": "2.7.6"
  }
 },
 "nbformat": 4,
 "nbformat_minor": 0
}