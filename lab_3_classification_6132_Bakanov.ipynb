{
 "cells": [
  {
   "cell_type": "markdown",
   "metadata": {
    "collapsed": true,
    "pycharm": {
     "name": "#%% md\n"
    }
   },
   "source": [
    "# Лабораторная работа 3\n"
   ]
  },
  {
   "cell_type": "markdown",
   "source": [
    "Классификация в sklearn. Метрики классификации\n",
    "\n",
    "Выполнил: 6132, Баканов Д.С."
   ],
   "metadata": {
    "collapsed": false,
    "pycharm": {
     "name": "#%% md\n"
    }
   }
  },
  {
   "cell_type": "markdown",
   "source": [
    "*Выберите наборы данных, подходящие для многоклассовой и бинарной классификации. Опишите данные, что обозначает каждый столбец, какого типа (категориальный, вещественный, целочисленный, бинарный) данный столбец, при необходимости для категориальных в том числе бинарных признаков привести расшифровку их значений. В общем, проведите \"визуальный\" анализ ваших данных.*"
   ],
   "metadata": {
    "collapsed": false,
    "pycharm": {
     "name": "#%% md\n"
    }
   }
  },
  {
   "cell_type": "code",
   "execution_count": 1,
   "outputs": [],
   "source": [
    "import numpy as np\n",
    "import pandas as pd\n",
    "\n",
    "import warnings\n",
    "warnings.filterwarnings(\"ignore\")"
   ],
   "metadata": {
    "collapsed": false,
    "pycharm": {
     "name": "#%%\n"
    }
   }
  },
  {
   "cell_type": "code",
   "execution_count": 2,
   "outputs": [],
   "source": [
    "classification_df = pd.read_csv(\"./data/classification.csv\")\n",
    "chicago_df = pd.read_csv(\"./data/Chicago_Crime_Final_Data.csv\")"
   ],
   "metadata": {
    "collapsed": false,
    "pycharm": {
     "name": "#%%\n"
    }
   }
  },
  {
   "cell_type": "markdown",
   "source": [
    "## Описание датасетов"
   ],
   "metadata": {
    "collapsed": false,
    "pycharm": {
     "name": "#%% md\n"
    }
   }
  },
  {
   "cell_type": "markdown",
   "source": [
    "### Beginner's Classification Dataset"
   ],
   "metadata": {
    "collapsed": false,
    "pycharm": {
     "name": "#%% md\n"
    }
   }
  },
  {
   "cell_type": "code",
   "execution_count": 3,
   "outputs": [
    {
     "data": {
      "text/plain": "         age   interest  success\n0  23.657801  18.859917      0.0\n1  22.573729  17.969223      0.0\n2  32.553424  29.463651      0.0\n3   6.718035  25.704665      1.0\n4  14.401919  16.770856      0.0",
      "text/html": "<div>\n<style scoped>\n    .dataframe tbody tr th:only-of-type {\n        vertical-align: middle;\n    }\n\n    .dataframe tbody tr th {\n        vertical-align: top;\n    }\n\n    .dataframe thead th {\n        text-align: right;\n    }\n</style>\n<table border=\"1\" class=\"dataframe\">\n  <thead>\n    <tr style=\"text-align: right;\">\n      <th></th>\n      <th>age</th>\n      <th>interest</th>\n      <th>success</th>\n    </tr>\n  </thead>\n  <tbody>\n    <tr>\n      <th>0</th>\n      <td>23.657801</td>\n      <td>18.859917</td>\n      <td>0.0</td>\n    </tr>\n    <tr>\n      <th>1</th>\n      <td>22.573729</td>\n      <td>17.969223</td>\n      <td>0.0</td>\n    </tr>\n    <tr>\n      <th>2</th>\n      <td>32.553424</td>\n      <td>29.463651</td>\n      <td>0.0</td>\n    </tr>\n    <tr>\n      <th>3</th>\n      <td>6.718035</td>\n      <td>25.704665</td>\n      <td>1.0</td>\n    </tr>\n    <tr>\n      <th>4</th>\n      <td>14.401919</td>\n      <td>16.770856</td>\n      <td>0.0</td>\n    </tr>\n  </tbody>\n</table>\n</div>"
     },
     "execution_count": 3,
     "metadata": {},
     "output_type": "execute_result"
    }
   ],
   "source": [
    "classification_df.head(5)"
   ],
   "metadata": {
    "collapsed": false,
    "pycharm": {
     "name": "#%%\n"
    }
   }
  },
  {
   "cell_type": "code",
   "execution_count": 4,
   "outputs": [
    {
     "name": "stdout",
     "output_type": "stream",
     "text": [
      "<class 'pandas.core.frame.DataFrame'>\n",
      "RangeIndex: 297 entries, 0 to 296\n",
      "Data columns (total 3 columns):\n",
      " #   Column    Non-Null Count  Dtype  \n",
      "---  ------    --------------  -----  \n",
      " 0   age       297 non-null    float64\n",
      " 1   interest  297 non-null    float64\n",
      " 2   success   297 non-null    float64\n",
      "dtypes: float64(3)\n",
      "memory usage: 7.1 KB\n"
     ]
    }
   ],
   "source": [
    "classification_df.info()"
   ],
   "metadata": {
    "collapsed": false,
    "pycharm": {
     "name": "#%%\n"
    }
   }
  },
  {
   "cell_type": "code",
   "execution_count": 5,
   "outputs": [
    {
     "data": {
      "text/plain": "age         0\ninterest    0\nsuccess     0\ndtype: int64"
     },
     "execution_count": 5,
     "metadata": {},
     "output_type": "execute_result"
    }
   ],
   "source": [
    "classification_df.isnull().sum()"
   ],
   "metadata": {
    "collapsed": false,
    "pycharm": {
     "name": "#%%\n"
    }
   }
  },
  {
   "cell_type": "code",
   "execution_count": 6,
   "outputs": [
    {
     "data": {
      "text/plain": "age         297\ninterest    297\nsuccess       2\ndtype: int64"
     },
     "execution_count": 6,
     "metadata": {},
     "output_type": "execute_result"
    }
   ],
   "source": [
    "classification_df.nunique()"
   ],
   "metadata": {
    "collapsed": false,
    "pycharm": {
     "name": "#%%\n"
    }
   }
  },
  {
   "cell_type": "markdown",
   "source": [
    "__Описание набора__\n",
    "\n",
    "\n",
    "| Признак   | Описание                           | Тип      |\n",
    "|-----------|------------------------------------|----------|\n",
    "| age       | Возраст                            | числовой |\n",
    "|  interest | Мера интереса человека в свое дело | числовой |\n",
    "| success   | Успешени ли человек в этом деле    | бинарный |"
   ],
   "metadata": {
    "collapsed": false,
    "pycharm": {
     "name": "#%% md\n"
    }
   }
  },
  {
   "cell_type": "markdown",
   "source": [
    "### Chicago Crime with Climate Data, 2021"
   ],
   "metadata": {
    "collapsed": false,
    "pycharm": {
     "name": "#%% md\n"
    }
   }
  },
  {
   "cell_type": "code",
   "execution_count": 7,
   "outputs": [
    {
     "data": {
      "text/plain": "         primary_type location_description  beat  ward        Date  Hour  \\\n0             ROBBERY               STREET   411   8.0  2021-01-14     6   \n1  DECEPTIVE PRACTICE            RESIDENCE  1613  41.0  2021-01-28    12   \n2  DECEPTIVE PRACTICE            RESIDENCE  1613  45.0  2021-02-01     9   \n3  DECEPTIVE PRACTICE            RESIDENCE   212   4.0  2021-02-22    12   \n4   WEAPONS VIOLATION             SIDEWALK   432  10.0  2021-03-15    11   \n\n    HubDist       PRCP       SNOW   SNWD  ...  WT01  WT02  WT03  WT04  WT06  \\\n0  2.501112   8.625000   0.000000    0.0  ...   1.0   0.0   0.0   0.0   0.0   \n1  4.484144   0.625000   0.000000  136.0  ...   0.0   0.0   0.0   0.0   0.0   \n2  2.305444  49.142857  72.500000  365.2  ...   0.0   0.0   0.0   0.0   0.0   \n3  1.503849  39.875000  12.000000  416.0  ...   1.0   0.0   0.0   1.0   0.0   \n4  2.927048   9.125000   6.571429    0.0  ...   1.0   1.0   0.0   1.0   1.0   \n\n   WT08  WT09  DayOfWeek  Month  Dholiday  \n0   0.0   0.0          3      1       0.0  \n1   0.0   0.0          3      1       0.0  \n2   0.0   0.0          0      2       0.0  \n3   1.0   0.0          0      2       0.0  \n4   0.0   0.0          0      3       0.0  \n\n[5 rows x 24 columns]",
      "text/html": "<div>\n<style scoped>\n    .dataframe tbody tr th:only-of-type {\n        vertical-align: middle;\n    }\n\n    .dataframe tbody tr th {\n        vertical-align: top;\n    }\n\n    .dataframe thead th {\n        text-align: right;\n    }\n</style>\n<table border=\"1\" class=\"dataframe\">\n  <thead>\n    <tr style=\"text-align: right;\">\n      <th></th>\n      <th>primary_type</th>\n      <th>location_description</th>\n      <th>beat</th>\n      <th>ward</th>\n      <th>Date</th>\n      <th>Hour</th>\n      <th>HubDist</th>\n      <th>PRCP</th>\n      <th>SNOW</th>\n      <th>SNWD</th>\n      <th>...</th>\n      <th>WT01</th>\n      <th>WT02</th>\n      <th>WT03</th>\n      <th>WT04</th>\n      <th>WT06</th>\n      <th>WT08</th>\n      <th>WT09</th>\n      <th>DayOfWeek</th>\n      <th>Month</th>\n      <th>Dholiday</th>\n    </tr>\n  </thead>\n  <tbody>\n    <tr>\n      <th>0</th>\n      <td>ROBBERY</td>\n      <td>STREET</td>\n      <td>411</td>\n      <td>8.0</td>\n      <td>2021-01-14</td>\n      <td>6</td>\n      <td>2.501112</td>\n      <td>8.625000</td>\n      <td>0.000000</td>\n      <td>0.0</td>\n      <td>...</td>\n      <td>1.0</td>\n      <td>0.0</td>\n      <td>0.0</td>\n      <td>0.0</td>\n      <td>0.0</td>\n      <td>0.0</td>\n      <td>0.0</td>\n      <td>3</td>\n      <td>1</td>\n      <td>0.0</td>\n    </tr>\n    <tr>\n      <th>1</th>\n      <td>DECEPTIVE PRACTICE</td>\n      <td>RESIDENCE</td>\n      <td>1613</td>\n      <td>41.0</td>\n      <td>2021-01-28</td>\n      <td>12</td>\n      <td>4.484144</td>\n      <td>0.625000</td>\n      <td>0.000000</td>\n      <td>136.0</td>\n      <td>...</td>\n      <td>0.0</td>\n      <td>0.0</td>\n      <td>0.0</td>\n      <td>0.0</td>\n      <td>0.0</td>\n      <td>0.0</td>\n      <td>0.0</td>\n      <td>3</td>\n      <td>1</td>\n      <td>0.0</td>\n    </tr>\n    <tr>\n      <th>2</th>\n      <td>DECEPTIVE PRACTICE</td>\n      <td>RESIDENCE</td>\n      <td>1613</td>\n      <td>45.0</td>\n      <td>2021-02-01</td>\n      <td>9</td>\n      <td>2.305444</td>\n      <td>49.142857</td>\n      <td>72.500000</td>\n      <td>365.2</td>\n      <td>...</td>\n      <td>0.0</td>\n      <td>0.0</td>\n      <td>0.0</td>\n      <td>0.0</td>\n      <td>0.0</td>\n      <td>0.0</td>\n      <td>0.0</td>\n      <td>0</td>\n      <td>2</td>\n      <td>0.0</td>\n    </tr>\n    <tr>\n      <th>3</th>\n      <td>DECEPTIVE PRACTICE</td>\n      <td>RESIDENCE</td>\n      <td>212</td>\n      <td>4.0</td>\n      <td>2021-02-22</td>\n      <td>12</td>\n      <td>1.503849</td>\n      <td>39.875000</td>\n      <td>12.000000</td>\n      <td>416.0</td>\n      <td>...</td>\n      <td>1.0</td>\n      <td>0.0</td>\n      <td>0.0</td>\n      <td>1.0</td>\n      <td>0.0</td>\n      <td>1.0</td>\n      <td>0.0</td>\n      <td>0</td>\n      <td>2</td>\n      <td>0.0</td>\n    </tr>\n    <tr>\n      <th>4</th>\n      <td>WEAPONS VIOLATION</td>\n      <td>SIDEWALK</td>\n      <td>432</td>\n      <td>10.0</td>\n      <td>2021-03-15</td>\n      <td>11</td>\n      <td>2.927048</td>\n      <td>9.125000</td>\n      <td>6.571429</td>\n      <td>0.0</td>\n      <td>...</td>\n      <td>1.0</td>\n      <td>1.0</td>\n      <td>0.0</td>\n      <td>1.0</td>\n      <td>1.0</td>\n      <td>0.0</td>\n      <td>0.0</td>\n      <td>0</td>\n      <td>3</td>\n      <td>0.0</td>\n    </tr>\n  </tbody>\n</table>\n<p>5 rows × 24 columns</p>\n</div>"
     },
     "execution_count": 7,
     "metadata": {},
     "output_type": "execute_result"
    }
   ],
   "source": [
    "chicago_df.head(5)"
   ],
   "metadata": {
    "collapsed": false,
    "pycharm": {
     "name": "#%%\n"
    }
   }
  },
  {
   "cell_type": "code",
   "source": [
    "chicago_df.info()"
   ],
   "metadata": {
    "collapsed": false,
    "pycharm": {
     "name": "#%%\n"
    }
   },
   "execution_count": 8,
   "outputs": [
    {
     "name": "stdout",
     "output_type": "stream",
     "text": [
      "<class 'pandas.core.frame.DataFrame'>\n",
      "RangeIndex: 187989 entries, 0 to 187988\n",
      "Data columns (total 24 columns):\n",
      " #   Column                Non-Null Count   Dtype  \n",
      "---  ------                --------------   -----  \n",
      " 0   primary_type          187989 non-null  object \n",
      " 1   location_description  187989 non-null  object \n",
      " 2   beat                  187989 non-null  int64  \n",
      " 3   ward                  187989 non-null  float64\n",
      " 4   Date                  187989 non-null  object \n",
      " 5   Hour                  187989 non-null  int64  \n",
      " 6   HubDist               187989 non-null  float64\n",
      " 7   PRCP                  187989 non-null  float64\n",
      " 8   SNOW                  187989 non-null  float64\n",
      " 9   SNWD                  187989 non-null  float64\n",
      " 10  TMAX                  187989 non-null  float64\n",
      " 11  TMIN                  187989 non-null  float64\n",
      " 12  WDF2                  187989 non-null  float64\n",
      " 13  WSF2                  187989 non-null  float64\n",
      " 14  WT01                  187989 non-null  float64\n",
      " 15  WT02                  187989 non-null  float64\n",
      " 16  WT03                  187989 non-null  float64\n",
      " 17  WT04                  187989 non-null  float64\n",
      " 18  WT06                  187989 non-null  float64\n",
      " 19  WT08                  187989 non-null  float64\n",
      " 20  WT09                  187989 non-null  float64\n",
      " 21  DayOfWeek             187989 non-null  int64  \n",
      " 22  Month                 187989 non-null  int64  \n",
      " 23  Dholiday              187989 non-null  float64\n",
      "dtypes: float64(17), int64(4), object(3)\n",
      "memory usage: 34.4+ MB\n"
     ]
    }
   ]
  },
  {
   "cell_type": "code",
   "execution_count": 9,
   "outputs": [
    {
     "data": {
      "text/plain": "primary_type            0\nlocation_description    0\nbeat                    0\nward                    0\nDate                    0\nHour                    0\nHubDist                 0\nPRCP                    0\nSNOW                    0\nSNWD                    0\nTMAX                    0\nTMIN                    0\nWDF2                    0\nWSF2                    0\nWT01                    0\nWT02                    0\nWT03                    0\nWT04                    0\nWT06                    0\nWT08                    0\nWT09                    0\nDayOfWeek               0\nMonth                   0\nDholiday                0\ndtype: int64"
     },
     "execution_count": 9,
     "metadata": {},
     "output_type": "execute_result"
    }
   ],
   "source": [
    "chicago_df.isnull().sum()"
   ],
   "metadata": {
    "collapsed": false,
    "pycharm": {
     "name": "#%%\n"
    }
   }
  },
  {
   "cell_type": "code",
   "execution_count": 10,
   "outputs": [
    {
     "data": {
      "text/plain": "primary_type                31\nlocation_description       126\nbeat                       274\nward                        50\nDate                       338\nHour                        12\nHubDist                 100988\nPRCP                       156\nSNOW                        35\nSNWD                        51\nTMAX                       229\nTMIN                       225\nWDF2                        69\nWSF2                        67\nWT01                         2\nWT02                         2\nWT03                         2\nWT04                         2\nWT06                         2\nWT08                         2\nWT09                         2\nDayOfWeek                    7\nMonth                       12\nDholiday                     2\ndtype: int64"
     },
     "execution_count": 10,
     "metadata": {},
     "output_type": "execute_result"
    }
   ],
   "source": [
    "chicago_df.nunique()"
   ],
   "metadata": {
    "collapsed": false,
    "pycharm": {
     "name": "#%%\n"
    }
   }
  },
  {
   "cell_type": "markdown",
   "source": [
    "__Описание набора__\n",
    "\n",
    "| Признак              | Описание                                                               | Тип            |\n",
    "|----------------------|------------------------------------------------------------------------|----------------|\n",
    "| primary_type         | Тип преступления                                                       | категориальный |\n",
    "| location_description | Описание местности                                                     | категориальный |\n",
    "| beat                 | Полицейский географический район, где произошел инцидент               | числовой       |\n",
    "| ward                 | Район городского совета, где произошел инцидент                        | числовой       |\n",
    "| Date                 | Дата, когда произошло происшествие                                     | категориальный |\n",
    "| Hour                 | Час, когда произошло происшествие                                      | числовой       |\n",
    "| HubDist              | Расстояние между местом происшествия и ближайшим полицейским участком  | числовой       |\n",
    "| PRCP                 | Осадки                                                                 | числовой       |\n",
    "| SNOW                 | Снегопад                                                               | числовой       |\n",
    "| SNWD                 | Глубина снежного покрова                                               | числовой       |\n",
    "| TMAX                 | Максимальная температура                                               | числовой       |\n",
    "| TMIN                 | Минимальная температура                                                | числовой       |\n",
    "| WDF2                 | Направление самого быстрого ветра за 2 минуты                          | числовой       |\n",
    "| WSF2                 | Максимальная скорость ветра за 2 минуты                                | числовой       |\n",
    "| WT01                 | Наличие тумана: холодный или морозящий                                 | бинарный       |\n",
    "| WT02                 | Наличие тяжелого тумана: клубящийся или ледяной                        | бинарный       |\n",
    "| WT03                 | Наличие грома                                                          | бинарный       |\n",
    "| WT04                 | Наличие осадков:  дождь, мокрый снег, снежная крупа или небольшой град | бинарный       |\n",
    "| WT06                 | Наличие гололеда или изморози                                          | бинарный       |\n",
    "| WT08                 | Наличие дымки или дыма                                                 | бинарный       |\n",
    "| WT09                 | Наличие сильного или слабого снегопада                                 | бинарный       |\n",
    "| DayOfWeek            | День недели                                                            | числовой       |\n",
    "| Month                | Месяц                                                                  | числовой       |\n",
    "| Dholiday             | Является ли данный день официальным праздником в США                   | бинарный       |"
   ],
   "metadata": {
    "collapsed": false,
    "pycharm": {
     "name": "#%% md\n"
    }
   }
  },
  {
   "cell_type": "markdown",
   "source": [
    "## Выполнение заданий"
   ],
   "metadata": {
    "collapsed": false,
    "pycharm": {
     "name": "#%% md\n"
    }
   }
  },
  {
   "cell_type": "markdown",
   "source": [
    "### 1. Многоклассовая классификация"
   ],
   "metadata": {
    "collapsed": false,
    "pycharm": {
     "name": "#%% md\n"
    }
   }
  },
  {
   "cell_type": "markdown",
   "source": [
    "*1.1 На любом датасете продемонстрировать многоклассовую классификацию с помощью ЛЮБОГО алгоритма. Оценить accuracy.*"
   ],
   "metadata": {
    "collapsed": false,
    "pycharm": {
     "name": "#%% md\n"
    }
   }
  },
  {
   "cell_type": "code",
   "execution_count": 11,
   "outputs": [],
   "source": [
    "from sklearn.tree import DecisionTreeClassifier\n",
    "from sklearn.preprocessing import LabelEncoder\n",
    "from sklearn.model_selection import train_test_split"
   ],
   "metadata": {
    "collapsed": false,
    "pycharm": {
     "name": "#%%\n"
    }
   }
  },
  {
   "cell_type": "code",
   "execution_count": 12,
   "outputs": [
    {
     "data": {
      "text/plain": "['primary_type', 'location_description', 'Date']"
     },
     "execution_count": 12,
     "metadata": {},
     "output_type": "execute_result"
    }
   ],
   "source": [
    "chicago_df_without_categorical = chicago_df.copy()\n",
    "number_types = [int, float]\n",
    "categorical_columns = []\n",
    "for col in chicago_df.columns:\n",
    "    if chicago_df[col].dtype not in number_types:\n",
    "        categorical_columns.append(col)\n",
    "categorical_columns"
   ],
   "metadata": {
    "collapsed": false,
    "pycharm": {
     "name": "#%%\n"
    }
   }
  },
  {
   "cell_type": "code",
   "execution_count": 13,
   "outputs": [],
   "source": [
    "# избавляемся от категориальных переменных\n",
    "primary_type_le = LabelEncoder() # для primary type воспользуемся LabelEncoder, так как это целевая переменная\n",
    "primary_type_le.fit(chicago_df.primary_type)\n",
    "chicago_df_without_categorical[\"primary_type\"] = primary_type_le.transform(chicago_df[\"primary_type\"])"
   ],
   "metadata": {
    "collapsed": false,
    "pycharm": {
     "name": "#%%\n"
    }
   }
  },
  {
   "cell_type": "code",
   "execution_count": 14,
   "outputs": [],
   "source": [
    "# от location_description можно избавится, так как различных значений слишком много\n",
    "chicago_df_without_categorical = chicago_df_without_categorical.drop(columns=[\"location_description\"], axis=1)"
   ],
   "metadata": {
    "collapsed": false,
    "pycharm": {
     "name": "#%%\n"
    }
   }
  },
  {
   "cell_type": "code",
   "execution_count": 15,
   "outputs": [
    {
     "data": {
      "text/plain": "0        2021-01-14\n1        2021-01-28\n2        2021-02-01\n3        2021-02-22\n4        2021-03-15\n            ...    \n187984   2021-04-17\n187985   2021-07-19\n187986   2021-08-19\n187987   2021-07-28\n187988   2021-03-25\nName: Date, Length: 187989, dtype: datetime64[ns]"
     },
     "execution_count": 15,
     "metadata": {},
     "output_type": "execute_result"
    }
   ],
   "source": [
    "# преобразуем Date в datetime\n",
    "chicago_df_without_categorical[\"Date\"] = pd.to_datetime(chicago_df[\"Date\"])\n",
    "chicago_df_without_categorical[\"Date\"]"
   ],
   "metadata": {
    "collapsed": false,
    "pycharm": {
     "name": "#%%\n"
    }
   }
  },
  {
   "cell_type": "code",
   "execution_count": 16,
   "outputs": [],
   "source": [
    "# создадим новые признаки DayOfMonth из datetime Date\n",
    "chicago_df_without_categorical[\"DayOfMonth\"] = chicago_df_without_categorical[\"Date\"].dt.day"
   ],
   "metadata": {
    "collapsed": false,
    "pycharm": {
     "name": "#%%\n"
    }
   }
  },
  {
   "cell_type": "code",
   "execution_count": 17,
   "outputs": [],
   "source": [
    "# избавимся от Date\n",
    "chicago_df_without_categorical = chicago_df_without_categorical.drop(columns=[\"Date\"], axis=1)"
   ],
   "metadata": {
    "collapsed": false,
    "pycharm": {
     "name": "#%%\n"
    }
   }
  },
  {
   "cell_type": "code",
   "execution_count": 18,
   "outputs": [
    {
     "data": {
      "text/plain": "primary_type        31\nbeat               274\nward                50\nHour                12\nHubDist         100988\nPRCP               156\nSNOW                35\nSNWD                51\nTMAX               229\nTMIN               225\nWDF2                69\nWSF2                67\nWT01                 2\nWT02                 2\nWT03                 2\nWT04                 2\nWT06                 2\nWT08                 2\nWT09                 2\nDayOfWeek            7\nMonth               12\nDholiday             2\nDayOfMonth          31\ndtype: int64"
     },
     "execution_count": 18,
     "metadata": {},
     "output_type": "execute_result"
    }
   ],
   "source": [
    "chicago_df_without_categorical.nunique()"
   ],
   "metadata": {
    "collapsed": false,
    "pycharm": {
     "name": "#%%\n"
    }
   }
  },
  {
   "cell_type": "code",
   "execution_count": 19,
   "outputs": [],
   "source": [
    "# разделяем набор на признаки и целевую переменную\n",
    "y = chicago_df_without_categorical[\"primary_type\"]\n",
    "X = chicago_df_without_categorical.drop(columns=[\"primary_type\"], axis=1)\n",
    "\n",
    "# разделяем набор на тестовую и тренировочную выборку\n",
    "X_train, X_test, y_train, y_test = train_test_split(X, y, test_size=0.33, random_state=0)"
   ],
   "metadata": {
    "collapsed": false,
    "pycharm": {
     "name": "#%%\n"
    }
   }
  },
  {
   "cell_type": "code",
   "execution_count": 20,
   "outputs": [],
   "source": [
    "# обучаем дерево решений\n",
    "decision_tree = DecisionTreeClassifier()\n",
    "decision_tree.fit(X_train, y_train)\n",
    "\n",
    "# предсказываем для тестового набора\n",
    "y_pred = decision_tree.predict(X_test)"
   ],
   "metadata": {
    "collapsed": false,
    "pycharm": {
     "name": "#%%\n"
    }
   }
  },
  {
   "cell_type": "code",
   "execution_count": 21,
   "outputs": [
    {
     "name": "stdout",
     "output_type": "stream",
     "text": [
      "Accuracy: 0.16\n"
     ]
    }
   ],
   "source": [
    "# оцениваем accuracy\n",
    "from sklearn.metrics import accuracy_score\n",
    "\n",
    "print(f\"Accuracy: {round(accuracy_score(y_test, y_pred), 2)}\")"
   ],
   "metadata": {
    "collapsed": false,
    "pycharm": {
     "name": "#%%\n"
    }
   }
  },
  {
   "cell_type": "markdown",
   "source": [
    "*1.2. То же самое с использованием кросс-валидации*"
   ],
   "metadata": {
    "collapsed": false,
    "pycharm": {
     "name": "#%% md\n"
    }
   }
  },
  {
   "cell_type": "code",
   "execution_count": 22,
   "outputs": [
    {
     "name": "stdout",
     "output_type": "stream",
     "text": [
      "Mean score: 0.1554293070339222 (0.002606003488469195)\n"
     ]
    }
   ],
   "source": [
    "from sklearn.model_selection import cross_val_score\n",
    "\n",
    "scores = cross_val_score(decision_tree, X, y, cv=3)\n",
    "print(f\"Mean score: {np.mean(scores)} ({np.std(scores)})\")"
   ],
   "metadata": {
    "collapsed": false,
    "pycharm": {
     "name": "#%%\n"
    }
   }
  },
  {
   "cell_type": "markdown",
   "source": [
    "*1.3. Поиграться с гиперпараметром, связанным со сложностью модели (в случае kNN — k_neighbours) и построить график accuracy для train set и test_set для разных значений гиперпараметра (в лекции есть пример построения подобного графика для kNN и датасета cancer, но можно строить как угодно такой график)*"
   ],
   "metadata": {
    "collapsed": false,
    "pycharm": {
     "name": "#%% md\n"
    }
   }
  },
  {
   "cell_type": "code",
   "execution_count": 23,
   "outputs": [
    {
     "data": {
      "text/plain": "<AxesSubplot:xlabel='max_depth'>"
     },
     "execution_count": 23,
     "metadata": {},
     "output_type": "execute_result"
    },
    {
     "data": {
      "text/plain": "<Figure size 432x288 with 1 Axes>",
      "image/png": "[encoded data removed]"
     },
     "metadata": {
      "needs_background": "light"
     },
     "output_type": "display_data"
    }
   ],
   "source": [
    "max_depth_list = range(2, 20)\n",
    "accuracies = []\n",
    "for max_depth in max_depth_list:\n",
    "    dtree = DecisionTreeClassifier(max_depth=max_depth)\n",
    "    scores = cross_val_score(decision_tree, X, y, cv=3)\n",
    "    accuracies.append(np.mean(scores))\n",
    "dtree_df = pd.DataFrame(data={\"max_depth\": max_depth_list, \"accuracy\": accuracies})\n",
    "dtree_df.plot.line(x=\"max_depth\", y=\"accuracy\")"
   ],
   "metadata": {
    "collapsed": false,
    "pycharm": {
     "name": "#%%\n"
    }
   }
  },
  {
   "cell_type": "markdown",
   "source": [
    "*1.4. Построить confusion matrix (это вроде матрицы TN / TP/ FN/ FP, только расширенной для многоклассовой классификации, чтобы понять в какие стороны чаще ошибается классификатор).*"
   ],
   "metadata": {
    "collapsed": false,
    "pycharm": {
     "name": "#%% md\n"
    }
   }
  },
  {
   "cell_type": "code",
   "execution_count": 24,
   "outputs": [
    {
     "data": {
      "text/plain": "<AxesSubplot:>"
     },
     "execution_count": 24,
     "metadata": {},
     "output_type": "execute_result"
    },
    {
     "data": {
      "text/plain": "<Figure size 914.4x667.44 with 2 Axes>",
      "image/png": "[encoded data removed]"
     },
     "metadata": {},
     "output_type": "display_data"
    }
   ],
   "source": [
    "import seaborn as sns\n",
    "from sklearn.metrics import confusion_matrix\n",
    "\n",
    "\n",
    "sns.set(rc={'figure.figsize':(12.7,9.27)}) # задаем настройки размера изображений\n",
    "\n",
    "dtree = DecisionTreeClassifier(max_depth=8)\n",
    "dtree.fit(X_train, y_train)\n",
    "y_pred = dtree.predict(X_test)\n",
    "conf_matrix = confusion_matrix(y_test, y_pred)\n",
    "sns.heatmap(conf_matrix)"
   ],
   "metadata": {
    "collapsed": false,
    "pycharm": {
     "name": "#%%\n"
    }
   }
  },
  {
   "cell_type": "markdown",
   "source": [
    "### 2. Бинарная классификация."
   ],
   "metadata": {
    "collapsed": false,
    "pycharm": {
     "name": "#%% md\n"
    }
   }
  },
  {
   "cell_type": "markdown",
   "source": [
    "*На любом (но уже другом, бинарном) датасете продемонстрировать бинарную классификацию (можно использовать любой алгоритм), посчитать метрики: accuracy, precision, recall, f-measure, а также составить `classification_report`*"
   ],
   "metadata": {
    "collapsed": false,
    "pycharm": {
     "name": "#%% md\n"
    }
   }
  },
  {
   "cell_type": "code",
   "execution_count": 25,
   "outputs": [],
   "source": [
    "y = classification_df.success\n",
    "X = classification_df.drop(columns=[\"success\"], axis=1)\n",
    "\n",
    "X_train, X_test, y_train, y_test = train_test_split(X, y, test_size=0.33, random_state=0)"
   ],
   "metadata": {
    "collapsed": false,
    "pycharm": {
     "name": "#%%\n"
    }
   }
  },
  {
   "cell_type": "code",
   "execution_count": 26,
   "outputs": [
    {
     "name": "stdout",
     "output_type": "stream",
     "text": [
      "Accuracy: 0.9292929292929293\n",
      "Precision: 0.9183673469387755\n",
      "Recall: 0.9375\n",
      "F1-score: 0.9278350515463918\n",
      "Classification report:\n",
      "              precision    recall  f1-score   support\n",
      "\n",
      "         0.0       0.94      0.92      0.93        51\n",
      "         1.0       0.92      0.94      0.93        48\n",
      "\n",
      "    accuracy                           0.93        99\n",
      "   macro avg       0.93      0.93      0.93        99\n",
      "weighted avg       0.93      0.93      0.93        99\n",
      "\n"
     ]
    }
   ],
   "source": [
    "from sklearn.metrics import recall_score, precision_score, f1_score, classification_report\n",
    "\n",
    "dtree = DecisionTreeClassifier()\n",
    "dtree.fit(X_train, y_train)\n",
    "y_pred = dtree.predict(X_test)\n",
    "\n",
    "print(f\"Accuracy: {accuracy_score(y_test, y_pred)}\")\n",
    "print(f\"Precision: {precision_score(y_test, y_pred)}\")\n",
    "print(f\"Recall: {recall_score(y_test, y_pred)}\")\n",
    "print(f\"F1-score: {f1_score(y_test, y_pred)}\")\n",
    "print(f\"Classification report:\\n{classification_report(y_test, y_pred)}\")"
   ],
   "metadata": {
    "collapsed": false,
    "pycharm": {
     "name": "#%%\n"
    }
   }
  },
  {
   "cell_type": "markdown",
   "source": [
    "### 3. Использование нормализации признаков"
   ],
   "metadata": {
    "collapsed": false,
    "pycharm": {
     "name": "#%% md\n"
    }
   }
  },
  {
   "cell_type": "markdown",
   "source": [
    "*В обоих задачах (бинарной и многоклассовой классификации) попробовать также вариант с предварительной нормализацией признаков (`StandardScaler` или `MinMaxScaler`). Оценить метрики качества в случае с нормализованными признаками и ненормализованными.*"
   ],
   "metadata": {
    "collapsed": false,
    "pycharm": {
     "name": "#%% md\n"
    }
   }
  },
  {
   "cell_type": "code",
   "execution_count": 27,
   "outputs": [],
   "source": [
    "def print_metrics(model, features, labels) -> (float, float):\n",
    "    print(\"=\" * 100)\n",
    "    accuracy_list = cross_val_score(model, features, labels, cv=5)\n",
    "    print(f\"Accuracy: {np.mean(accuracy_list)} ({np.std(accuracy_list)})\")\n",
    "\n",
    "    if len(np.unique(labels)) == 2:\n",
    "        features_train, features_test, labels_train, labels_test = train_test_split(features, labels, test_size=0.5, random_state=0)\n",
    "        model.fit(features_train, labels_train)\n",
    "        labels_pred = model.predict(features_test)\n",
    "        print(f\"Precision: {precision_score(labels_test, labels_pred)}\")\n",
    "        print(f\"Recall: {recall_score(labels_test, labels_pred)}\")\n",
    "        print(f\"F1-score: {f1_score(labels_test, labels_pred)}\")\n",
    "        print(f\"Classification report:\\n{classification_report(labels_test, labels_pred)}\")\n",
    "    print(\"=\" * 100)\n",
    "\n",
    "\n",
    "X_multi = chicago_df_without_categorical.drop(columns=[\"primary_type\"], axis=1)\n",
    "y_multi = chicago_df_without_categorical.primary_type\n",
    "\n",
    "X_bin = classification_df.drop(columns=[\"success\"], axis=1)\n",
    "y_bin = classification_df.success"
   ],
   "metadata": {
    "collapsed": false,
    "pycharm": {
     "name": "#%%\n"
    }
   }
  },
  {
   "cell_type": "code",
   "execution_count": 28,
   "outputs": [],
   "source": [
    "from sklearn.preprocessing import StandardScaler, MinMaxScaler\n",
    "\n",
    "\n",
    "standard_scaler = StandardScaler()\n",
    "min_max_scaler = MinMaxScaler()\n",
    "\n",
    "X_standard_multi = standard_scaler.fit_transform(X_multi)\n",
    "X_min_max_multi = min_max_scaler.fit_transform(X_multi)\n",
    "\n",
    "X_standard_bin = standard_scaler.fit_transform(X_bin)\n",
    "X_min_max_bin = min_max_scaler.fit_transform(X_bin)"
   ],
   "metadata": {
    "collapsed": false,
    "pycharm": {
     "name": "#%%\n"
    }
   }
  },
  {
   "cell_type": "code",
   "execution_count": 30,
   "outputs": [
    {
     "name": "stdout",
     "output_type": "stream",
     "text": [
      "Метрики мультиклассовой классификации без применения нормализации\n",
      "====================================================================================================\n",
      "Accuracy: 0.15761558962281827 (0.0036010626130671165)\n",
      "====================================================================================================\n",
      "Метрики мультиклассовой классификации с применением StanardScaler\n",
      "====================================================================================================\n",
      "Accuracy: 0.1584507507571567 (0.0035038826073929765)\n",
      "====================================================================================================\n",
      "Метрики мультиклассовой классификации с применением MinMaxScaler\n",
      "====================================================================================================\n",
      "Accuracy: 0.158546501097023 (0.002906248202724652)\n",
      "====================================================================================================\n",
      "Метрики бинарной классификации без применения нормализации\n",
      "====================================================================================================\n",
      "Accuracy: 0.9292655367231639 (0.03618757633716344)\n",
      "Precision: 0.9404761904761905\n",
      "Recall: 0.9518072289156626\n",
      "F1-score: 0.9461077844311376\n",
      "Classification report:\n",
      "              precision    recall  f1-score   support\n",
      "\n",
      "         0.0       0.94      0.92      0.93        66\n",
      "         1.0       0.94      0.95      0.95        83\n",
      "\n",
      "    accuracy                           0.94       149\n",
      "   macro avg       0.94      0.94      0.94       149\n",
      "weighted avg       0.94      0.94      0.94       149\n",
      "\n",
      "====================================================================================================\n",
      "Метрики бинарной классификации с применением StanardScaler\n",
      "====================================================================================================\n",
      "Accuracy: 0.9224858757062148 (0.03498201797041612)\n",
      "Precision: 0.9404761904761905\n",
      "Recall: 0.9518072289156626\n",
      "F1-score: 0.9461077844311376\n",
      "Classification report:\n",
      "              precision    recall  f1-score   support\n",
      "\n",
      "         0.0       0.94      0.92      0.93        66\n",
      "         1.0       0.94      0.95      0.95        83\n",
      "\n",
      "    accuracy                           0.94       149\n",
      "   macro avg       0.94      0.94      0.94       149\n",
      "weighted avg       0.94      0.94      0.94       149\n",
      "\n",
      "====================================================================================================\n",
      "Метрики бинарной классификации с применением MinMaxScaler\n",
      "====================================================================================================\n",
      "Accuracy: 0.9190960451977401 (0.036314369633231675)\n",
      "Precision: 0.9404761904761905\n",
      "Recall: 0.9518072289156626\n",
      "F1-score: 0.9461077844311376\n",
      "Classification report:\n",
      "              precision    recall  f1-score   support\n",
      "\n",
      "         0.0       0.94      0.92      0.93        66\n",
      "         1.0       0.94      0.95      0.95        83\n",
      "\n",
      "    accuracy                           0.94       149\n",
      "   macro avg       0.94      0.94      0.94       149\n",
      "weighted avg       0.94      0.94      0.94       149\n",
      "\n",
      "====================================================================================================\n"
     ]
    }
   ],
   "source": [
    "dtree = DecisionTreeClassifier()\n",
    "\n",
    "print(\"Метрики мультиклассовой классификации без применения нормализации\")\n",
    "print_metrics(dtree, X_multi, y_multi)\n",
    "print(\"Метрики мультиклассовой классификации с применением StanardScaler\")\n",
    "print_metrics(dtree, X_standard_multi, y_multi)\n",
    "print(\"Метрики мультиклассовой классификации с применением MinMaxScaler\")\n",
    "print_metrics(dtree, X_min_max_multi, y_multi)\n",
    "\n",
    "print(\"Метрики бинарной классификации без применения нормализации\")\n",
    "print_metrics(dtree, X_bin, y_bin)\n",
    "print(\"Метрики бинарной классификации с применением StanardScaler\")\n",
    "print_metrics(dtree, X_standard_bin, y_bin)\n",
    "print(\"Метрики бинарной классификации с применением MinMaxScaler\")\n",
    "print_metrics(dtree, X_min_max_bin, y_bin)"
   ],
   "metadata": {
    "collapsed": false,
    "pycharm": {
     "name": "#%%\n"
    }
   }
  },
  {
   "cell_type": "code",
   "execution_count": 29,
   "outputs": [],
   "source": [],
   "metadata": {
    "collapsed": false,
    "pycharm": {
     "name": "#%%\n"
    }
   }
  }
 ],
 "metadata": {
  "kernelspec": {
   "display_name": "Python 3",
   "language": "python",
   "name": "python3"
  },
  "language_info": {
   "codemirror_mode": {
    "name": "ipython",
    "version": 2
   },
   "file_extension": ".py",
   "mimetype": "text/x-python",
   "name": "python",
   "nbconvert_exporter": "python",
   "pygments_lexer": "ipython2",
   "version": "2.7.6"
  }
 },
 "nbformat": 4,
 "nbformat_minor": 0
}